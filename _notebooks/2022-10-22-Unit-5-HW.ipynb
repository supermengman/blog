{
 "cells": [
  {
   "cell_type": "markdown",
   "metadata": {},
   "source": [
    "# Collegeboard Unit 5 - Writing Classes\n",
    "> Gotta do HW\n",
    "\n",
    "- toc: true \n",
    "- badges: true\n",
    "- comments: true\n",
    "- categories: [jupyter,java,collegeboard,frq,student]"
   ]
  },
  {
   "cell_type": "markdown",
   "metadata": {},
   "source": [
    "# Lesson Notes\n",
    "\n",
    "## 5.1 Anatomy of a <mark>class</mark>\n",
    "\n",
    "- class: blueprint for objects, with instance variables, constructors, methods\n",
    "- objects are instances of classes\n",
    "- <mark>naming conventions</mark>: start uppercase letter, should be noun, not acronym\n",
    "\n",
    "Methods define functionality/behavior of an object, can access instance variables\n",
    "\n",
    "ACCESS MODIFIERS:\n",
    "- public: no restrictions, can be accessed outside the class (used for classes and constructors)\n",
    "- private: only in class (instance variables)\n",
    "methods can be designated with these\n",
    "\n",
    "Benefit of modifiers: can limit access, and use getters/setters methods in order to interact with variables instead of directly editing the variable itself\n",
    "\n",
    "## 5.2 <mark>Constructors</mark>\n",
    "- initializes instance variables when object created\n",
    "- usually 2 or more constructors \n",
    "- can have multiple constructors with different parameters\n",
    "- no return because it is creating an object and its variables, not calling methods to do work and return a value\n",
    "- <mark>this</mark> keyword refers to the current object being called, usually being used to find the current object's variable or run a method on it\n",
    "\n",
    "\n",
    "\n",
    "## 5.5 Modifiers/<mark>Accessor Methods</mark>\n",
    "\n",
    "more specifically, they are getters/setters. They allow other classes to change the instance variables of a different class.\n",
    "It also is used to get private variables in an object\n",
    "\n",
    "<mark>Mutator Methods</mark>\n",
    "- they are a set method to change the value of the private variable. They don't return a value, but are void methods\n",
    "\n",
    "<mark>Public vs Private vs Protected\n",
    "</mark>\n",
    "- public is available for class and subclasses and everything in the world/project\n",
    "- protected isnt available in the world but is available in the class\n",
    "- private is only used in the class\n",
    "see example in https://supermengman.github.io/blog/jupyter/java/collegeboard/frq/student/2022/10/23/Unit-3-HW.html\n",
    "\n",
    "\n",
    "## 5.8 Scope and Access:\n",
    "- Class level is for instance variables\n",
    "- Method level is for local variables\n",
    "- Block level is for loop variables\n",
    "\n",
    "\n",
    "## Extra\n",
    "- a <mark>main method</mark> in an abstract class can be used for tester methods, making sure that variables are set correctly. https://github.com/rjawesome/CSASpringTri2/blob/steptrack2/src/main/java/com/nighthawk/spring_portfolio/mvc/steptrack1/Person.java\n",
    "- a class can <mark>inherit</mark> from a parent class, and write new functions. see https://supermengman.github.io/blog/jupyter/java/collegeboard/2022/09/20/Fibonacci.html\n",
    "  - also <mark>subclass</mark>, <mark>super</mark> in there\n",
    "    - subclass constructor calls main constructor with the super keyword (super calls the parent function methods)\n",
    "  - also see <mark>override</mark>, with the @override allowing changes to the init function (overriding the parent)\n",
    "\n",
    "- <mark>abstract class/method</mark>: a restricted class that gets inherited from another class. methods can be in abstract classes, and are called when they are extended. This helps achieve security\n",
    "  - it is an implementation of <mark>polymorphism</mark>, where one class can have different implementations of a method.\n",
    "```java\n",
    "// Abstract class\n",
    "abstract class Animal {\n",
    "  // Abstract method (does not have a body)\n",
    "  public abstract void animalSound();\n",
    "  // Regular method\n",
    "  public void sleep() {\n",
    "    System.out.println(\"Zzz\");\n",
    "  }\n",
    "}\n",
    "\n",
    "// Subclass (inherit from Animal)\n",
    "class Pig extends Animal {\n",
    "  public void animalSound() {\n",
    "    // The body of animalSound() is provided here\n",
    "    System.out.println(\"The pig says: wee wee\");\n",
    "  }\n",
    "}\n",
    "\n",
    "class Main {\n",
    "  public static void main(String[] args) {\n",
    "    Pig myPig = new Pig(); // Create a Pig object\n",
    "    myPig.animalSound();\n",
    "    myPig.sleep();\n",
    "  }\n",
    "}\n",
    "```\n",
    "\n",
    "\n",
    "Methods:\n",
    "- <mark>overloading method</mark>: If there are different types in the parameters, you can cwrite multiple methods with the same name, as they still count."
   ]
  },
  {
   "cell_type": "code",
   "execution_count": 6,
   "metadata": {
    "vscode": {
     "languageId": "java"
    }
   },
   "outputs": [],
   "source": [
    "class Calculate\n",
    "{\n",
    "  void sum (int a, int b)\n",
    "  {\n",
    "    System.out.println(\"sum is\"+(a+b)) ;\n",
    "  }\n",
    "  void sum (float a, float b)\n",
    "  {\n",
    "    System.out.println(\"sum is\"+(a+b));\n",
    "  }\n",
    "  public static void main (String[] args)\n",
    "  {\n",
    "    Calculate  cal = new Calculate();\n",
    "    cal.sum(8,5);      //sum(int a, int b) is method is called.\n",
    "    cal.sum(4.6f, 3.8f); //sum(float a, float b) is called.\n",
    "  }\n",
    "}"
   ]
  },
  {
   "cell_type": "markdown",
   "metadata": {},
   "source": [
    "## <mark>Standard Methods</mark>:\n",
    "- toString: a method to print out all the attributes of an object\n",
    "- equals(): a method to check if two objects and their attributes are equal (based on own criteria)\n",
    "- hashCode(): a method to generate a unique identifier for an object\n",
    "\n",
    "All can be lomboked in @Data, like in https://github.com/rjawesome/CSASpringTri2/blob/steptrack2/src/main/java/com/nighthawk/spring_portfolio/mvc/steptrack1/Person.java\n",
    "\n",
    "## Late Binding with superclasses\n",
    "- early binding is just static, meaning that it compiles and binds the object to the class definition declared\n",
    "- late binding means that it is bound to the child one or whatever is called in the new"
   ]
  },
  {
   "cell_type": "code",
   "execution_count": 8,
   "metadata": {
    "vscode": {
     "languageId": "java"
    }
   },
   "outputs": [
    {
     "name": "stdout",
     "output_type": "stream",
     "text": [
      "print in superclass.\n",
      "print in superclass.\n"
     ]
    }
   ],
   "source": [
    "public class NewClass {\n",
    "    public static class superclass {\n",
    "        static void print()\n",
    "        {\n",
    "            System.out.println(\"print in superclass.\");\n",
    "        }\n",
    "    }\n",
    "    public static class subclass extends superclass {\n",
    "        static void print()\n",
    "        {\n",
    "            System.out.println(\"print in subclass.\");\n",
    "        }\n",
    "    }\n",
    "  \n",
    "    public static void main(String[] args)\n",
    "    {\n",
    "        superclass A = new superclass();\n",
    "        superclass B = new subclass();\n",
    "        A.print();\n",
    "        B.print();\n",
    "    }\n",
    "}\n",
    "\n",
    "NewClass.main(null);"
   ]
  },
  {
   "cell_type": "markdown",
   "metadata": {},
   "source": [
    "that was in early because its compiled, but if not it will say print in subclass.\n",
    "\n",
    "## Big O Notation\n",
    "![graph](https://cdn-media-1.freecodecamp.org/images/1*KfZYFUT2OKfjekJlCeYvuQ.jpeg)\n",
    "- the chart shows the efficiency of algorithms"
   ]
  },
  {
   "cell_type": "markdown",
   "metadata": {},
   "source": [
    "# Code FRQ\n",
    "\n",
    "StepTracker, object w/ parameter that defines min steps to be active\n",
    "\n",
    "methods:\n",
    "- addDailySteps, once per day\n",
    "- activeDays\n",
    "- averageSteps, returns avg num steps per day (total steps/number of days)\n",
    "\n",
    "\n",
    "Write the StepTracker class"
   ]
  },
  {
   "cell_type": "code",
   "execution_count": null,
   "metadata": {
    "vscode": {
     "languageId": "java"
    }
   },
   "outputs": [],
   "source": [
    "public class StepTracker {\n",
    "    // initialize variables\n",
    "    private int minActiveSteps\n",
    "    private int totalSteps\n",
    "    private int numTotalDays\n",
    "    private int numActiveDays\n",
    "\n",
    "    // set default construct\n",
    "    public StepTracker(int minActiveSteps) {\n",
    "        this.minActiveSteps = minActiveSteps;\n",
    "        this.totalSteps = 0;\n",
    "        this.numTotalDays = 0;\n",
    "        this.numActiveDays = 0;\n",
    "    }\n",
    "\n",
    "    // once per day, increment steps, days, and possibly active\n",
    "    public void addDailySteps(int numSteps) {\n",
    "        this.totalSteps += numSteps;\n",
    "        this.numTotalDays++;\n",
    "\n",
    "        if (numSteps >= this.minActiveSteps) {\n",
    "            this.numActiveDays++;\n",
    "        }\n",
    "    }\n",
    "\n",
    "    // getter\n",
    "    public int activeDays() {\n",
    "        return this.numActiveDays;\n",
    "    }\n",
    "\n",
    "    // calculate\n",
    "    public double averageSteps() {\n",
    "\n",
    "        if (numTotalDays == 0) {\n",
    "            return 0.0;\n",
    "        } else {\n",
    "            return (double) this.totalSteps/this.numTotalDays;\n",
    "        }\n",
    "    }\n",
    "}"
   ]
  },
  {
   "cell_type": "markdown",
   "metadata": {},
   "source": [
    "## Overview\n",
    "\n",
    "here is where the private initial variables are stored:"
   ]
  },
  {
   "cell_type": "code",
   "execution_count": null,
   "metadata": {
    "vscode": {
     "languageId": "java"
    }
   },
   "outputs": [],
   "source": [
    "private int minActiveSteps\n",
    "    private int totalSteps\n",
    "    private int numTotalDays\n",
    "    private int numActiveDays"
   ]
  },
  {
   "cell_type": "markdown",
   "metadata": {},
   "source": [
    "now for <mark>constructor</mark>: "
   ]
  },
  {
   "cell_type": "code",
   "execution_count": null,
   "metadata": {
    "vscode": {
     "languageId": "java"
    }
   },
   "outputs": [],
   "source": [
    "public StepTracker(int minActiveSteps) {\n",
    "    this.minActiveSteps = minActiveSteps;\n",
    "    this.totalSteps = 0;\n",
    "    this.numTotalDays = 0;\n",
    "    this.numActiveDays = 0;\n",
    "}"
   ]
  },
  {
   "cell_type": "markdown",
   "metadata": {},
   "source": [
    "It sets the default minactivesteps, and sets all the rest to 0."
   ]
  },
  {
   "cell_type": "code",
   "execution_count": null,
   "metadata": {
    "vscode": {
     "languageId": "java"
    }
   },
   "outputs": [],
   "source": [
    "public void addDailySteps(int numSteps) {\n",
    "    this.totalSteps += numSteps;\n",
    "    this.numTotalDays++;\n",
    "\n",
    "    if (numSteps >= this.minActiveSteps) {\n",
    "        this.numActiveDays++;\n",
    "    }\n",
    "}"
   ]
  },
  {
   "cell_type": "markdown",
   "metadata": {},
   "source": [
    "It adds the steps to the total steps, and if the steps is over the active threshold, the active days will increase."
   ]
  },
  {
   "cell_type": "code",
   "execution_count": null,
   "metadata": {
    "vscode": {
     "languageId": "java"
    }
   },
   "outputs": [],
   "source": [
    "public int activeDays() {\n",
    "    return this.numActiveDays;\n",
    "}"
   ]
  },
  {
   "cell_type": "markdown",
   "metadata": {},
   "source": [
    "just a getter"
   ]
  },
  {
   "cell_type": "code",
   "execution_count": null,
   "metadata": {
    "vscode": {
     "languageId": "java"
    }
   },
   "outputs": [],
   "source": [
    "public double averageSteps() {\n",
    "\n",
    "    if (numTotalDays == 0) {\n",
    "        return 0.0;\n",
    "    } else {\n",
    "        return (double) this.totalSteps/this.numTotalDays;\n",
    "    }\n",
    "}"
   ]
  },
  {
   "cell_type": "markdown",
   "metadata": {},
   "source": [
    "If there is 0 days, return 0 cuz thats what it says in the q\n",
    "\n",
    "otherwise return steps/days to get average steps"
   ]
  }
 ],
 "metadata": {
  "kernelspec": {
   "display_name": "Java",
   "language": "java",
   "name": "java"
  },
  "language_info": {
   "codemirror_mode": "java",
   "file_extension": ".jshell",
   "mimetype": "text/x-java-source",
   "name": "Java",
   "pygments_lexer": "java",
   "version": "17.0.4+8-Ubuntu-120.04"
  },
  "orig_nbformat": 4
 },
 "nbformat": 4,
 "nbformat_minor": 2
}
