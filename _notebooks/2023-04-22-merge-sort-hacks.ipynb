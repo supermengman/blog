{
 "cells": [
  {
   "attachments": {},
   "cell_type": "markdown",
   "metadata": {},
   "source": [
    "# Merge Sort Lesson Hacks\n",
    "\n",
    "- toc: false\n",
    "- badges: true\n",
    "- categories: [cb,sorts,lesson]"
   ]
  },
  {
   "attachments": {},
   "cell_type": "markdown",
   "metadata": {},
   "source": [
    "# Hack 1: change integer to string\n"
   ]
  },
  {
   "cell_type": "code",
   "execution_count": 5,
   "metadata": {
    "vscode": {
     "languageId": "java"
    }
   },
   "outputs": [
    {
     "name": "stdout",
     "output_type": "stream",
     "text": [
      "[a, b, c, d, e]\n"
     ]
    }
   ],
   "source": [
    "public class MergeSort {\n",
    "        \n",
    "    static void sort(String arr[], int l, int r)\n",
    "    {\n",
    "        if (l < r) {\n",
    "            // COMMENT A\n",
    "            int m = l + (r - l) / 2;\n",
    "\n",
    "            // COMMENT B\n",
    "            sort(arr, l, m);\n",
    "            sort(arr, m + 1, r);\n",
    "\n",
    "            // COMMENT C\n",
    "            merge(arr, l, m, r);\n",
    "\n",
    "        }\n",
    "    }\n",
    "\n",
    "    static void merge(String arr[], int l, int m, int r)\n",
    "    {\n",
    "        // Find the sizes of two subarrays to be merged\n",
    "        int n1 = m - l + 1;\n",
    "        int n2 = r - m;\n",
    "\n",
    "        /* Create temp arrays */\n",
    "        String[] L = new String[n1];\n",
    "        String[] R = new String[n2];\n",
    "\n",
    "        /* Copy data to temp arrays */\n",
    "        for (int i = 0; i < n1; ++i)\n",
    "            L[i] = arr[l + i];\n",
    "        for (int j = 0; j < n2; ++j)\n",
    "            R[j] = arr[m + 1 + j];\n",
    "\n",
    "        /* Merge the temp arrays */\n",
    "\n",
    "        // Initial indexes of first and second subarrays\n",
    "        int i = 0, j = 0;\n",
    "\n",
    "        // Initial index of merged subarray array\n",
    "        int k = l;\n",
    "        while (i < n1 && j < n2) {\n",
    "            if (L[i].compareTo(R[j]) < 0) {\n",
    "                arr[k] = L[i];\n",
    "                i++;\n",
    "            }\n",
    "            else {\n",
    "                arr[k] = R[j];\n",
    "                j++;\n",
    "            }\n",
    "            k++;\n",
    "        }\n",
    "\n",
    "        /* Copy remaining elements of L[] if any */\n",
    "        while (i < n1) {\n",
    "            arr[k] = L[i];\n",
    "            i++;\n",
    "            k++;\n",
    "        }\n",
    "\n",
    "        /* Copy remaining elements of R[] if any */\n",
    "        while (j < n2) {\n",
    "            arr[k] = R[j];\n",
    "            j++;\n",
    "            k++;\n",
    "        }\n",
    "    }\n",
    "    public static void main(String[] args) {\n",
    "        // testing\n",
    "        String[] arr = { \"c\", \"a\", \"e\", \"b\", \"d\" };\n",
    "        int n = arr.length;\n",
    "        sort(arr, 0, n - 1);\n",
    "\n",
    "        System.out.println(Arrays.toString(arr));\n",
    "    }\n",
    "\n",
    "}\n",
    "\n",
    "MergeSort.main(null);"
   ]
  },
  {
   "attachments": {},
   "cell_type": "markdown",
   "metadata": {},
   "source": [
    "# Hack 2: adapt to any data type"
   ]
  },
  {
   "cell_type": "code",
   "execution_count": 7,
   "metadata": {
    "vscode": {
     "languageId": "java"
    }
   },
   "outputs": [
    {
     "name": "stdout",
     "output_type": "stream",
     "text": [
      "[1, 2, 3, 4, 5]\n"
     ]
    }
   ],
   "source": [
    "public class MergeSortAny {\n",
    "\n",
    "    // uses comparable as a generic type, as long as the type implements comparable\n",
    "    // any primitive will work as well as any object that implements comparable\n",
    "    static void sort(Comparable arr[], int l, int r)\n",
    "    {\n",
    "        if (l < r) {\n",
    "            // COMMENT A\n",
    "            int m = l + (r - l) / 2;\n",
    "\n",
    "            // COMMENT B\n",
    "            sort(arr, l, m);\n",
    "            sort(arr, m + 1, r);\n",
    "\n",
    "            // COMMENT C\n",
    "            merge(arr, l, m, r);\n",
    "\n",
    "        }\n",
    "    }\n",
    "\n",
    "    static void merge(Comparable arr[], int l, int m, int r)\n",
    "    {\n",
    "        // Find the sizes of two subarrays to be merged\n",
    "        int n1 = m - l + 1;\n",
    "        int n2 = r - m;\n",
    "\n",
    "        /* Create temp arrays */\n",
    "        Comparable[] L = new Comparable[n1];\n",
    "        Comparable[] R = new Comparable[n2];\n",
    "\n",
    "        /* Copy data to temp arrays */\n",
    "        for (int i = 0; i < n1; ++i)\n",
    "            L[i] = arr[l + i];\n",
    "        for (int j = 0; j < n2; ++j)\n",
    "            R[j] = arr[m + 1 + j];\n",
    "\n",
    "        /* Merge the temp arrays */\n",
    "\n",
    "        // Initial indexes of first and second subarrays\n",
    "        int i = 0, j = 0;\n",
    "\n",
    "        // Initial index of merged subarray array\n",
    "        int k = l;\n",
    "        while (i < n1 && j < n2) {\n",
    "            if (L[i].compareTo(R[j]) < 0) {\n",
    "                arr[k] = L[i];\n",
    "                i++;\n",
    "            }\n",
    "            else {\n",
    "                arr[k] = R[j];\n",
    "                j++;\n",
    "            }\n",
    "            k++;\n",
    "        }\n",
    "\n",
    "        /* Copy remaining elements of L[] if any */\n",
    "        while (i < n1) {\n",
    "            arr[k] = L[i];\n",
    "            i++;\n",
    "            k++;\n",
    "        }\n",
    "\n",
    "        /* Copy remaining elements of R[] if any */\n",
    "        while (j < n2) {\n",
    "            arr[k] = R[j];\n",
    "            j++;\n",
    "            k++;\n",
    "        }\n",
    "    }\n",
    "    public static void main(String[] args) {\n",
    "        // testing\n",
    "        Integer[] arr = { 3, 1, 5, 2, 4 };\n",
    "        int n = arr.length;\n",
    "        sort(arr, 0, n - 1);\n",
    "\n",
    "        System.out.println(Arrays.toString(arr));\n",
    "    }\n",
    "\n",
    "}\n",
    "\n",
    "MergeSortAny.main(null);"
   ]
  },
  {
   "attachments": {},
   "cell_type": "markdown",
   "metadata": {},
   "source": [
    "As seen above, the merge sort algorithm is not limited to integers, being now able to perform for any datatye that has the comparable interface. "
   ]
  }
 ],
 "metadata": {
  "kernelspec": {
   "display_name": "Java",
   "language": "java",
   "name": "java"
  },
  "language_info": {
   "codemirror_mode": "java",
   "file_extension": ".jshell",
   "mimetype": "text/x-java-source",
   "name": "Java",
   "pygments_lexer": "java",
   "version": "17.0.4+8-Ubuntu-120.04"
  },
  "orig_nbformat": 4
 },
 "nbformat": 4,
 "nbformat_minor": 2
}
