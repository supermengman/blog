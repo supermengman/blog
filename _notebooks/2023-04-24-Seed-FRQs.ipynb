{
 "cells": [
  {
   "attachments": {},
   "cell_type": "markdown",
   "metadata": {},
   "source": [
    "# FRQ Practice\n",
    "\n",
    "- toc: true\n",
    "- badges: true\n",
    "- categories: [cb,frq]"
   ]
  },
  {
   "attachments": {},
   "cell_type": "markdown",
   "metadata": {},
   "source": [
    "# 2017 FRQ\n",
    "\n",
    "## 1. Digits\n",
    "This question involves the implementation of a class named `Digits`. The `Digits` class represents a positive integer as a sequence of digits. The digits are stored in a list of integers, where each integer in the list is between 0 and 9, inclusive. The digits appear in the list in the same order in which they appear in the original integer. For example, the integer 1234 is represented as the list `[1, 2, 3, 4]`.\n",
    "\n",
    "### a. constructor\n",
    "Write the constructor for the `Digits` class. The constructor initializes and fills `digitList` with the digits from the non-negative integer `num`. The elements in `digitList` must be `Integer` objects representing single digits, and appear in the same order as the digits in `num`. Each of the following examples shows the declaration of a `Digits` object and the contents o `digitList ` as initialized by the constructor."
   ]
  },
  {
   "cell_type": "code",
   "execution_count": 5,
   "metadata": {
    "vscode": {
     "languageId": "java"
    }
   },
   "outputs": [
    {
     "name": "stdout",
     "output_type": "stream",
     "text": [
      "[1, 2, 3, 4, 5]\n"
     ]
    }
   ],
   "source": [
    "public class Digits {\n",
    "    private ArrayList<Integer> digitList;\n",
    "\n",
    "    public Digits(int num) {\n",
    "        digitList = new ArrayList<Integer>();\n",
    "        if (num == 0) digitList.add(0);\n",
    "        while (num != 0) {\n",
    "            digitList.add(0, num % 10);\n",
    "            num /= 10;\n",
    "        }\n",
    "    }\n",
    "\n",
    "    public ArrayList<Integer> getDigitList() {\n",
    "        return this.digitList;\n",
    "    }\n",
    "\n",
    "    public static void main(String[] args) {\n",
    "        Digits cool = new Digits(12345);\n",
    "        System.out.println(cool.getDigitList());\n",
    "    }\n",
    "\n",
    "}\n",
    "\n",
    "Digits.main(null);"
   ]
  },
  {
   "attachments": {},
   "cell_type": "markdown",
   "metadata": {},
   "source": [
    "### b. isStrictlyIncreasing\n",
    "\n",
    "Write the Digits method isStrictlyIncreasing. The method returns true if the elements of digitList appear in strictly increasing order. A list is considered strictly increasing if each element after the first is greater than (not equal to) the preceding element."
   ]
  },
  {
   "cell_type": "code",
   "execution_count": 11,
   "metadata": {
    "vscode": {
     "languageId": "java"
    }
   },
   "outputs": [
    {
     "name": "stdout",
     "output_type": "stream",
     "text": [
      "[1, 4, 5, 7]\n",
      "true\n"
     ]
    }
   ],
   "source": [
    "public class Digits {\n",
    "    private ArrayList<Integer> digitList;\n",
    "\n",
    "    public Digits(int num) {\n",
    "        digitList = new ArrayList<Integer>();\n",
    "        if (num == 0) digitList.add(0);\n",
    "        while (num != 0) {\n",
    "            digitList.add(0, num % 10);\n",
    "            num /= 10;\n",
    "        }\n",
    "    }\n",
    "\n",
    "    public ArrayList<Integer> getDigitList() {\n",
    "        return this.digitList;\n",
    "    }\n",
    "\n",
    "    public boolean isStrictlyIncreasing() {\n",
    "        if (digitList.size() == 1) {\n",
    "            return true;\n",
    "        }\n",
    "        for (int i = 1; i < digitList.size(); i++) {\n",
    "            if (digitList.get(i) <= digitList.get(i-1)) {\n",
    "                return false;\n",
    "            }\n",
    "        }\n",
    "        return true;\n",
    "    }\n",
    "\n",
    "\n",
    "    public static void main(String[] args) {\n",
    "        Digits cool = new Digits(1457);\n",
    "        System.out.println(cool.getDigitList());\n",
    "        System.out.println(cool.isStrictlyIncreasing());\n",
    "    }\n",
    "\n",
    "}\n",
    "\n",
    "Digits.main(null);"
   ]
  },
  {
   "attachments": {},
   "cell_type": "markdown",
   "metadata": {},
   "source": [
    "## 2. StudyPractice"
   ]
  },
  {
   "cell_type": "code",
   "execution_count": 13,
   "metadata": {
    "vscode": {
     "languageId": "java"
    }
   },
   "outputs": [],
   "source": [
    "public interface StudyPractice {\n",
    "    String getProblem();\n",
    "\n",
    "    void nextProblem();\n",
    "}"
   ]
  },
  {
   "attachments": {},
   "cell_type": "markdown",
   "metadata": {},
   "source": [
    "The MultPractice class is a StudyPractice with multiplication practice. It has 2 integer values: first integer and initial second integer. first integer remains constant, and second is starting value for the second integer. This second value is incremented for each additional practice problem produced\n",
    "\n",
    "in MultPractice, the getProblem method returns string in format \"first integer TIMES second integer\". the nextProblem updates state of object to represent the next practice problem"
   ]
  },
  {
   "cell_type": "code",
   "execution_count": 17,
   "metadata": {
    "vscode": {
     "languageId": "java"
    }
   },
   "outputs": [
    {
     "name": "stdout",
     "output_type": "stream",
     "text": [
      "7 TIMES 3\n",
      "7 TIMES 4\n"
     ]
    }
   ],
   "source": [
    "public class MultPractice implements StudyPractice {\n",
    "    private int firstInt;\n",
    "    private int secondInt;\n",
    "\n",
    "    public MultPractice(int firstInt, int secondInt) {\n",
    "        this.firstInt = firstInt;\n",
    "        this.secondInt = secondInt;\n",
    "    }\n",
    "    \n",
    "    @Override\n",
    "    public String getProblem() {\n",
    "        return firstInt + \" TIMES \" + secondInt;\n",
    "    }\n",
    "\n",
    "    @Override\n",
    "    public void nextProblem() {\n",
    "        secondInt++;\n",
    "    }\n",
    "\n",
    "    public static void main(String[] args) {\n",
    "        StudyPractice p1 = new MultPractice (7, 3);\n",
    "        System.out.println(p1.getProblem());\n",
    "\n",
    "        p1.nextProblem();\n",
    "        System.out.println(p1.getProblem());\n",
    "    }\n",
    "}\n",
    "\n",
    "MultPractice.main(null);"
   ]
  },
  {
   "attachments": {},
   "cell_type": "markdown",
   "metadata": {},
   "source": [
    "## 3. Phrase class\n",
    "\n",
    "### a. replaceNthOccurrence\n",
    "\n",
    "replaces nth occurence of string str with string repl. if nth doesn't exist, currentPhrase will not change. "
   ]
  },
  {
   "cell_type": "code",
   "execution_count": 22,
   "metadata": {
    "vscode": {
     "languageId": "java"
    }
   },
   "outputs": [
    {
     "name": "stdout",
     "output_type": "stream",
     "text": [
      "A cat ate lranee.\n"
     ]
    }
   ],
   "source": [
    "public class Phrase {\n",
    "    private String currentPhrase;\n",
    "    \n",
    "    public Phrase(String p) {\n",
    "        currentPhrase = p;\n",
    "    }\n",
    "\n",
    "    public int findNthOccurence(String str, int n) {\n",
    "        int nth = 0;\n",
    "        for (int i = 0; i < currentPhrase.length()-str.length(); i++) {\n",
    "            if (currentPhrase.substring(i, i+str.length()).equals(str)) {\n",
    "                nth++;\n",
    "                if (nth == n) return i;\n",
    "            }\n",
    "        }\n",
    "\n",
    "        return -1;\n",
    "    }\n",
    "\n",
    "    public void replaceNthOccurrence(String str, int n, String repl) {\n",
    "        int index = findNthOccurence(str, n);\n",
    "        if (index != -1) {\n",
    "            currentPhrase =  currentPhrase.substring(0, findNthOccurence(str, n)) + repl + currentPhrase.substring(findNthOccurence(str, n)+str.length());\n",
    "        }\n",
    "    }\n",
    "\n",
    "    public String toString() {\n",
    "        return currentPhrase;\n",
    "    }\n",
    "\n",
    "    public static void main(String[] args) {\n",
    "        Phrase phrase1 = new Phrase(\"A cat ate late.\");\n",
    "        phrase1.replaceNthOccurrence(\"at\", 3, \"rane\");\n",
    "        System.out.println(phrase1);\n",
    "    }\n",
    "}\n",
    "\n",
    "Phrase.main(null);"
   ]
  },
  {
   "attachments": {},
   "cell_type": "markdown",
   "metadata": {},
   "source": [
    "### b. findLastOccurrence\n",
    "\n",
    "finds and retursn index of last occurence. if not found, -1 returned"
   ]
  },
  {
   "cell_type": "code",
   "execution_count": 3,
   "metadata": {
    "vscode": {
     "languageId": "java"
    }
   },
   "outputs": [
    {
     "name": "stdout",
     "output_type": "stream",
     "text": [
      "A cat ate lranee.\n",
      "6\n"
     ]
    }
   ],
   "source": [
    "public class Phrase {\n",
    "    private String currentPhrase;\n",
    "    \n",
    "    public Phrase(String p) {\n",
    "        currentPhrase = p;\n",
    "    }\n",
    "\n",
    "    public int findNthOccurence(String str, int n) {\n",
    "        int nth = 0;\n",
    "        for (int i = 0; i < currentPhrase.length()-str.length(); i++) {\n",
    "            if (currentPhrase.substring(i, i+str.length()).equals(str)) {\n",
    "                nth++;\n",
    "                if (nth == n) return i;\n",
    "            }\n",
    "        }\n",
    "\n",
    "        return -1;\n",
    "    }\n",
    "\n",
    "    public void replaceNthOccurrence(String str, int n, String repl) {\n",
    "        int index = findNthOccurence(str, n);\n",
    "        if (index != -1) {\n",
    "            currentPhrase =  currentPhrase.substring(0, findNthOccurence(str, n)) + repl + currentPhrase.substring(findNthOccurence(str, n)+str.length());\n",
    "        }\n",
    "    }\n",
    "\n",
    "    public int findLastOccurrence(String str) {\n",
    "        int last = -1;\n",
    "        for (int i = 1; findNthOccurence(str, i) != -1; i++) {\n",
    "            if (findNthOccurence(str, i) > last) {\n",
    "                last = findNthOccurence(str, i);\n",
    "            } \n",
    "        }\n",
    "\n",
    "        return last;\n",
    "    }\n",
    "\n",
    "    public String toString() {\n",
    "        return currentPhrase;\n",
    "    }\n",
    "\n",
    "    public static void main(String[] args) {\n",
    "        Phrase phrase1 = new Phrase(\"A cat ate late.\");\n",
    "        phrase1.replaceNthOccurrence(\"at\", 3, \"rane\");\n",
    "        System.out.println(phrase1);\n",
    "\n",
    "        System.out.println(phrase1.findLastOccurrence(\"at\"));\n",
    "    }\n",
    "}\n",
    "\n",
    "Phrase.main(null);"
   ]
  },
  {
   "attachments": {},
   "cell_type": "markdown",
   "metadata": {},
   "source": [
    "## 4. Successors\n",
    "\n",
    "Position class used to represent positions in integer array. (r, c) represents objec tw/ row r, column c\n",
    "\n",
    "### a. findPosition\n",
    "\n",
    "static method, takes integer value and 2D integer array. Returns position of integer in the array. If it is not part of it, returns null."
   ]
  },
  {
   "cell_type": "code",
   "execution_count": 5,
   "metadata": {
    "vscode": {
     "languageId": "java"
    }
   },
   "outputs": [],
   "source": [
    "public class Position {\n",
    "    private int r;\n",
    "    private int c;\n",
    "    public Position (int r, int c) {\n",
    "        this.r = r;\n",
    "        this.c = c;\n",
    "    }\n",
    "    public String toString() {\n",
    "        return \"(\" + r + \", \" + c + \")\";\n",
    "    }\n",
    "}"
   ]
  },
  {
   "cell_type": "code",
   "execution_count": 6,
   "metadata": {
    "vscode": {
     "languageId": "java"
    }
   },
   "outputs": [
    {
     "name": "stdout",
     "output_type": "stream",
     "text": [
      "(1, 1)\n"
     ]
    }
   ],
   "source": [
    "public class Successors {\n",
    "\n",
    "    public static Position findPosition(int num, int[][] intArr) {\n",
    "        for (int i = 0; i < intArr.length; i++) {\n",
    "            for (int j = 0; j < intArr[i].length; j++) {\n",
    "                if (intArr[i][j] == num) {\n",
    "                    return new Position(i, j);\n",
    "                }\n",
    "            }\n",
    "        }\n",
    "\n",
    "        return null;\n",
    "    }\n",
    "\n",
    "    public static void main(String[] args) {\n",
    "        int[][] intArr = {{1, 2, 3}, {4, 5, 6}};\n",
    "        System.out.println(findPosition(5, intArr));\n",
    "    }\n",
    "}\n",
    "\n",
    "Successors.main(null);"
   ]
  },
  {
   "attachments": {},
   "cell_type": "markdown",
   "metadata": {},
   "source": [
    "### b. getSuccessorArray\n",
    "static method, returns 2D successor array of positions created from the 2D array. Returns a position pointer to the next element in the array (if there was a 5 in the array, it the successor array would have a position pointing to the 6 in the same spot)"
   ]
  },
  {
   "cell_type": "code",
   "execution_count": 8,
   "metadata": {
    "vscode": {
     "languageId": "java"
    }
   },
   "outputs": [
    {
     "name": "stdout",
     "output_type": "stream",
     "text": [
      "[[(0, 1), (0, 2), (1, 0)], [(1, 1), (1, 2), null]]\n"
     ]
    }
   ],
   "source": [
    "public class Successors {\n",
    "\n",
    "    public static Position findPosition(int num, int[][] intArr) {\n",
    "        for (int i = 0; i < intArr.length; i++) {\n",
    "            for (int j = 0; j < intArr[i].length; j++) {\n",
    "                if (intArr[i][j] == num) {\n",
    "                    return new Position(i, j);\n",
    "                }\n",
    "            }\n",
    "        }\n",
    "\n",
    "        return null;\n",
    "    }\n",
    "\n",
    "    public static Position[][] getSuccessorArray(int[][] intArr) {\n",
    "        Position[][] posArr = new Position[intArr.length][intArr[0].length];\n",
    "        \n",
    "        for (int i = 0; i < intArr.length; i++) {\n",
    "            for (int j = 0; j < intArr[i].length; j++) {\n",
    "                posArr[i][j] = findPosition(intArr[i][j]+1, intArr);\n",
    "            }\n",
    "        }\n",
    "\n",
    "        return posArr;\n",
    "    }\n",
    "\n",
    "    public static void main(String[] args) {\n",
    "        int[][] intArr = {{1, 2, 3}, {4, 5, 6}};\n",
    "\n",
    "        System.out.println(Arrays.deepToString(getSuccessorArray(intArr)));\n",
    "    }\n",
    "}\n",
    "\n",
    "Successors.main(null);"
   ]
  }
 ],
 "metadata": {
  "kernelspec": {
   "display_name": "Java",
   "language": "java",
   "name": "java"
  },
  "language_info": {
   "codemirror_mode": "java",
   "file_extension": ".jshell",
   "mimetype": "text/x-java-source",
   "name": "Java",
   "pygments_lexer": "java",
   "version": "17.0.4+8-Ubuntu-120.04"
  },
  "orig_nbformat": 4
 },
 "nbformat": 4,
 "nbformat_minor": 2
}
