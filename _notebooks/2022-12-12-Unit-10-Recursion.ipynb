{
 "cells": [
  {
   "attachments": {},
   "cell_type": "markdown",
   "metadata": {},
   "source": [
    "# Unit 10 - Recursion\n",
    "> Notes, Hacks, and HW for Recursion.\n",
    "\n",
    "- toc: true \n",
    "- badges: true\n",
    "- comments: true\n",
    "- categories: [jupyter,student]\n",
    "- title: Unit 10 - Recursion"
   ]
  },
  {
   "attachments": {},
   "cell_type": "markdown",
   "metadata": {},
   "source": [
    "# 10.1 Recursion\n",
    "recursive calls are calling part of the method\n",
    "- there's a call stack to keep track of all the times that a recursive function has been called, as well as their parameters\n",
    "- calls from top to bottom, returns from bottom back to the top\n",
    "\n",
    "Recursion vs loop:\n",
    "- iteration is repeating instructions repeatedly until condition is false\n",
    "- recursion used when big problem can be expressed in a smaller problem\n",
    "- difference: recursion uses function calls, iteration uses loops\n",
    "\n",
    "See Fibonacci Hacks: [here](https://supermengman.github.io/blog/jupyter/java/collegeboard/2022/09/20/Fibonacci.html)\n"
   ]
  },
  {
   "cell_type": "code",
   "execution_count": null,
   "metadata": {},
   "outputs": [],
   "source": [
    "class FiboRecursion extends Fibo {\n",
    "        \n",
    "    // default constructor\n",
    "    public FiboRecursion() {\n",
    "        super();\n",
    "    }\n",
    "\n",
    "    // takes input of number, calls constructor\n",
    "    public FiboRecursion(int n) {\n",
    "        super(n);\n",
    "        \n",
    "    }\n",
    "\n",
    "    // the recursive function: type int so it feeds into self and returns a value\n",
    "    public int fibNum(int n)\n",
    "    {\n",
    "        // if its the first 2 terms (0 or 1), set the data in the array and hashmap as 0 or 1 and return\n",
    "        if (n <= 1) {\n",
    "            this.setDataRec(n, n); // setData as 0 or 1\n",
    "            return n;\n",
    "        }\n",
    "        int currentFibNum = fibNum(n-1) + fibNum(n-2); // sets the current fibonacci number to the sum of the previous two (recursion starts)\n",
    "        this.setDataRec(n, currentFibNum); // sets data of the currentFibNum to the index of the fibNum (n)\n",
    "\n",
    "        return currentFibNum; // returns for recursion\n",
    "    }\n",
    "\n",
    "    @Override // overwrite init function for the RECURSION\n",
    "    protected void init() {\n",
    "        // set name\n",
    "        super.name = \"recursion\";\n",
    "\n",
    "        // populate array\n",
    "        for (int i = 0; i < super.size; i++) {\n",
    "            super.list.add((long) 0);\n",
    "            super.hash.put(i, super.list.clone());\n",
    "        }\n",
    "\n",
    "        // find the fib num up to super.size minus 1 because does not include\n",
    "        fibNum(super.size - 1);\n",
    "\n",
    "    }\n",
    "\n",
    "    // better setdata: can put into specific index\n",
    "    public void setDataRec(int n, long num) {\n",
    "        super.list.set(n, num); // sets something into the array at certain index\n",
    "        ArrayList<Long> smallList = new ArrayList<Long>(super.list.subList(0,n+1)); // cuts off the list at the fibonacci number length, as it already populates with the amount needed\n",
    "        super.hash.put(n, smallList.clone()); // adds the list to hashmap\n",
    "    }\n",
    "}"
   ]
  },
  {
   "attachments": {},
   "cell_type": "markdown",
   "metadata": {},
   "source": [
    "\n",
    "# 10.2 Binary Search\n",
    "- data needs to be in order\n",
    "- keep halving array\n",
    "- O(log(2n)) vs linear search O(n)\n",
    "- can be used in things like dictionary searching\n",
    "\n",
    "Linear Recursion:\n",
    "- function only makes a single call to itself (not multiple)\n",
    "\n",
    "Selection sort:\n",
    "- find min element repeatedly, and putting that at the end of sorted part\n",
    "- results in descending order\n",
    "\n",
    "Merge SOrt:\n",
    "- splits the problem or arraylist to sort, then merges together (divide and conquer)\n",
    "- divide input into two halves, calls itself for the halves, then merge (merge function)\n"
   ]
  }
 ],
 "metadata": {
  "kernelspec": {
   "display_name": "Java",
   "language": "java",
   "name": "java"
  },
  "language_info": {
   "name": "java"
  },
  "orig_nbformat": 4
 },
 "nbformat": 4,
 "nbformat_minor": 2
}
