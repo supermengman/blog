{
 "cells": [
  {
   "attachments": {},
   "cell_type": "markdown",
   "metadata": {},
   "source": [
    "# Unit 10 - Recursion\n",
    "> Notes, Hacks, and HW for Recursion.\n",
    "\n",
    "- toc: true \n",
    "- badges: true\n",
    "- comments: true\n",
    "- categories: [jupyter,student]\n",
    "- title: Unit 10 - Recursion"
   ]
  },
  {
   "attachments": {},
   "cell_type": "markdown",
   "metadata": {},
   "source": [
    "# 10.1 Recursion\n",
    "recursive calls are calling part of the method\n",
    "- there's a call stack to keep track of all the times that a recursive function has been called, as well as their parameters\n",
    "- calls from top to bottom, returns from bottom back to the top\n",
    "\n",
    "Recursion vs loop:\n",
    "- iteration is repeating instructions repeatedly until condition is false\n",
    "- recursion used when big problem can be expressed in a smaller problem\n",
    "- difference: recursion uses function calls, iteration uses loops\n",
    "\n",
    "# 10.2 Binary Search\n",
    "- data needs to be in order\n",
    "- keep halving array\n",
    "- O(log(2n)) vs linear search O(n)\n",
    "- can be used in things like dictionary searching\n",
    "\n",
    "Linear Recursion:\n",
    "- function only makes a single call to itself (not multiple)\n",
    "\n",
    "Selection sort:\n",
    "- find min element repeatedly, and putting that at the end of sorted part\n",
    "- results in descending order\n",
    "\n",
    "Merge SOrt:\n",
    "- splits the problem or arraylist to sort, then merges together (divide and conquer)\n",
    "- divide input into two halves, calls itself for the halves, then merge (merge function)\n"
   ]
  }
 ],
 "metadata": {
  "kernelspec": {
   "display_name": "Java",
   "language": "java",
   "name": "java"
  },
  "language_info": {
   "name": "java"
  },
  "orig_nbformat": 4
 },
 "nbformat": 4,
 "nbformat_minor": 2
}
