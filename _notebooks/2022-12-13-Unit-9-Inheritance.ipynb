{
 "cells": [
  {
   "attachments": {},
   "cell_type": "markdown",
   "metadata": {},
   "source": [
    "# Unit 9 - Inheritance\n",
    "> Notes, Hacks, and HW for inheritance.\n",
    "\n",
    "- toc: true \n",
    "- badges: true\n",
    "- comments: true\n",
    "- categories: [jupyter,student]\n",
    "- title: Unit 9 - inheritance"
   ]
  },
  {
   "attachments": {},
   "cell_type": "markdown",
   "metadata": {},
   "source": [
    "# What is inheritance?\n",
    "basically being able to reuse code over and over, defining functions that will be used for all child classes\n",
    "- each type of the parent c lass will extend, inheriting the base class\n",
    "\n",
    "# SuperClass/SubClass\n",
    "- protected keyword to keep attiribute from being affected by outside modifiers\n",
    "- can add own attribute or customize an attribute in the subclass\n",
    "  - can call superclass constructor first\n",
    "\n",
    "# HACK 1"
   ]
  },
  {
   "cell_type": "code",
   "execution_count": 1,
   "metadata": {
    "vscode": {
     "languageId": "java"
    }
   },
   "outputs": [],
   "source": [
    "public class Animal {\n",
    "    private String name;\n",
    "    private int numLegs;\n",
    "    \n",
    "    public Animal(String name, int numLegs) {\n",
    "        this.name = name;\n",
    "        this.numLegs = numLegs;\n",
    "    }\n",
    "    \n",
    "    public String getName() {\n",
    "        return this.name;\n",
    "    }\n",
    "    \n",
    "    public int getNumLegs() {\n",
    "        return this.numLegs;\n",
    "    }\n",
    "}\n",
    "    \n",
    "public class Mammal extends Animal {\n",
    "    private boolean hasFur;\n",
    "    \n",
    "    public Mammal(String name, int numLegs, boolean hasFur) {\n",
    "        super(name, numLegs);\n",
    "        this.hasFur = hasFur;\n",
    "    }\n",
    "    \n",
    "    public boolean hasFur() {\n",
    "        return this.hasFur;\n",
    "    }\n",
    "}"
   ]
  },
  {
   "attachments": {},
   "cell_type": "markdown",
   "metadata": {},
   "source": [
    "# Overriding\n",
    "- allows child class to override specific implementation of method in superclass"
   ]
  },
  {
   "cell_type": "code",
   "execution_count": null,
   "metadata": {
    "vscode": {
     "languageId": "java"
    }
   },
   "outputs": [],
   "source": [
    "public class Animal {\n",
    "    private String name;\n",
    "    private int numLegs;\n",
    "    \n",
    "    public Animal(String name, int numLegs) {\n",
    "        this.name = name;\n",
    "        this.numLegs = numLegs;\n",
    "    }\n",
    "    \n",
    "    public String getName() {\n",
    "        return this.name;\n",
    "    }\n",
    "    \n",
    "    public int getNumLegs() {\n",
    "        return this.numLegs;\n",
    "    }\n",
    "\n",
    "    public void makeNoise() {\n",
    "        System.out.println(\"bahahaha\");\n",
    "    }\n",
    "}\n",
    "    \n",
    "public class Mammal extends Animal {\n",
    "    private boolean hasFur;\n",
    "    \n",
    "    public Mammal(String name, int numLegs, boolean hasFur) {\n",
    "        super(name, numLegs);\n",
    "        this.hasFur = hasFur;\n",
    "    }\n",
    "    \n",
    "    public boolean hasFur() {\n",
    "        return this.hasFur;\n",
    "    }\n",
    "\n",
    "    @Override\n",
    "    public void makeNoise() {\n",
    "        System.out.println(\"rawr\");\n",
    "    }\n",
    "}"
   ]
  },
  {
   "attachments": {},
   "cell_type": "markdown",
   "metadata": {},
   "source": [
    "# super ?\n",
    "- make constructors and make methods\n",
    "\n",
    "# Polymorphism\n",
    "- do one thing many ways, like using overriding\n",
    "- also compile time: early bindiong vs late binding (see Unit 5)"
   ]
  }
 ],
 "metadata": {
  "kernelspec": {
   "display_name": "Java",
   "language": "java",
   "name": "java"
  },
  "language_info": {
   "codemirror_mode": "java",
   "file_extension": ".jshell",
   "mimetype": "text/x-java-source",
   "name": "Java",
   "pygments_lexer": "java",
   "version": "17.0.4+8-Ubuntu-120.04"
  },
  "orig_nbformat": 4
 },
 "nbformat": 4,
 "nbformat_minor": 2
}
