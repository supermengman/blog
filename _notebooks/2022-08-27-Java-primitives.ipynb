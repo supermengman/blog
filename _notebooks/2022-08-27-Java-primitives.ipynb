{
 "cells": [
  {
   "cell_type": "markdown",
   "metadata": {},
   "source": [
    "# Primitive Data Types \n",
    "> A notebook to document leraning of primitive data types in java\n",
    "\n",
    "- toc: true \n",
    "- badges: true\n",
    "- comments: true\n",
    "- categories: [jupyter,java]"
   ]
  },
  {
   "cell_type": "markdown",
   "metadata": {},
   "source": [
    "# Data Types"
   ]
  },
  {
   "cell_type": "markdown",
   "metadata": {},
   "source": [
    "## Primitives"
   ]
  },
  {
   "cell_type": "markdown",
   "metadata": {},
   "source": [
    "- int: aka integer, holds non-fractional number values\n",
    "- byte: similar to int, but only takes 8 bits of memory (only numbers rom -128 to 127)\n",
    "- short: in between an int and a byte\n",
    "- long: larger than an int\n",
    "- float: basic fractional numbers, which loses precision after 6 decimal places\n",
    "- double: it is a double-precision decimal number, with 64 bits of memory. It can go to further decimal places with higher precision.\n",
    "- boolean: only two values of **true** or **false**.\n",
    "- char: an integer that represents a unicode encoded character. "
   ]
  },
  {
   "cell_type": "code",
   "execution_count": 8,
   "metadata": {
    "vscode": {
     "languageId": "java"
    }
   },
   "outputs": [],
   "source": [
    "int x = 12425;\n",
    "byte b = 40;\n",
    "short s = 10452;\n",
    "long l = 81849583;\n",
    "float f = 6.4224f;\n",
    "double d = 5.42624574367345;\n",
    "boolean b = false;\n",
    "char c = 'a';"
   ]
  },
  {
   "cell_type": "markdown",
   "metadata": {},
   "source": [
    "## Wrapper class"
   ]
  },
  {
   "cell_type": "markdown",
   "metadata": {},
   "source": [
    "Primitive data types also have a class in Java that \"wrap\" the class.\n",
    "- Integer wraps int\n",
    "- Byte wraps byte\n",
    "- Short wraps short\n",
    "- Long wraps long\n",
    "- Float wraps float\n",
    "- Double wraps double\n",
    "- Boolean wraps boolean\n",
    "- Character wraps char\n",
    "\n",
    "Wrapper classes are used when working with collections, or putting the data into an ArrayList or other data structures. Methods can also be called on wrapper classes, with an example being toString().\n"
   ]
  },
  {
   "cell_type": "code",
   "execution_count": 9,
   "metadata": {
    "vscode": {
     "languageId": "java"
    }
   },
   "outputs": [
    {
     "name": "stdout",
     "output_type": "stream",
     "text": [
      "10\n",
      "10\n"
     ]
    }
   ],
   "source": [
    "Integer exampleInt = 10; // defining variable with wrapper class \n",
    "System.out.println(exampleInt); // printing the variable value\n",
    "System.out.println(exampleInt.intValue()); // using the method to get the value in the object"
   ]
  },
  {
   "cell_type": "markdown",
   "metadata": {},
   "source": [
    "Strings are a special wrapper class, being a sequence of characters or a character array."
   ]
  },
  {
   "cell_type": "code",
   "execution_count": 2,
   "metadata": {
    "vscode": {
     "languageId": "java"
    }
   },
   "outputs": [
    {
     "name": "stdout",
     "output_type": "stream",
     "text": [
      "hello world!\n"
     ]
    }
   ],
   "source": [
    "String exampleString = \"hello world\";\n",
    "System.out.println(exampleString + \"!\");"
   ]
  },
  {
   "cell_type": "markdown",
   "metadata": {},
   "source": [
    "# Hacks"
   ]
  },
  {
   "cell_type": "markdown",
   "metadata": {},
   "source": [
    "## SI unit converter"
   ]
  },
  {
   "cell_type": "code",
   "execution_count": 2,
   "metadata": {
    "vscode": {
     "languageId": "java"
    }
   },
   "outputs": [
    {
     "name": "stdout",
     "output_type": "stream",
     "text": [
      "Enter the first measurement (only numbers), type exit to exit: 56.32\n",
      "Enter the units for that measurement (millimeter, centimeter, decimeter, meter, decameter, hectometer, kilometer), type exit to exit: meter\n",
      "Enter the units to convert to (millimeter, centimeter, decimeter, meter, decameter, hectometer, kilometer), type exit to exit: decimeter\n",
      "Your measurement of 56.32 meters is 563.1999999999999 decimeters.\n",
      "Would you like to add by another number of the same unit? (y/n) y\n",
      "enter the number to add: 67.53\n",
      "630.7299999999999 decimeters.\n",
      "Would you like to add by another number of the same unit? (y/n) n\n",
      "Would you like to truncate to the nearest whole number? (y/exit) 7\n",
      "not a valid input\n",
      "Would you like to truncate to the nearest whole number? (y/exit) y\n",
      "563 decimeters.\n"
     ]
    }
   ],
   "source": [
    "import java.util.Scanner;\n",
    "import java.util.Arrays;\n",
    "public class UnitConvertor {\n",
    "    double[] conversionFactors = new double[]{0.001, 0.01, 0.1, 1, 10, 100, 1000};\n",
    "    String[] unitList = {\"millimeter\", \"centimeter\", \"decimeter\", \"meter\", \"decameter\", \"hectometer\", \"kilometer\"};\n",
    "    public static double inputMeasurement;\n",
    "    public static String inputUnits;\n",
    "    public static int unitIndex;\n",
    "\n",
    "    \n",
    "    public static String unitMessage = \"Enter the units for that measurement (millimeter, centimeter, decimeter, meter, decameter, hectometer, kilometer), type exit to exit: \";\n",
    "    int firstUnitIndex;\n",
    "    int secondUnitIndex;\n",
    "    private String firstUnit;\n",
    "    private String secondUnit;\n",
    "\n",
    "    public UnitConvertor() {\n",
    "        this.enterMeasurement();\n",
    "        this.enterUnits();\n",
    "        this.firstUnitIndex = unitIndex;\n",
    "        this.firstUnit = inputUnits;\n",
    "        unitMessage = \"Enter the units to convert to (millimeter, centimeter, decimeter, meter, decameter, hectometer, kilometer), type exit to exit: \";\n",
    "        this.enterUnits();\n",
    "        this.secondUnitIndex = unitIndex;\n",
    "        this.secondUnit = inputUnits;\n",
    "    }\n",
    "\n",
    "    private boolean isExit(String inputMeasurement) {\n",
    "        return inputMeasurement.matches(\"exit\"); \n",
    "    }\n",
    "\n",
    "    private void enterMeasurement() {\n",
    "        Scanner measurement;\n",
    "        while (true) {\n",
    "            System.out.print(\"Enter the first measurement (only numbers), type exit to exit: \");\n",
    "            measurement = new Scanner(System.in);\n",
    "            try {\n",
    "                inputMeasurement = measurement.nextDouble();\n",
    "                System.out.println(inputMeasurement);\n",
    "                measurement.close();\n",
    "                break;\n",
    "            }   catch (Exception e) {\n",
    "                System.out.println(\"Not a double, \" + e);\n",
    "            }\n",
    "        }\n",
    "    }\n",
    "\n",
    "    public void enterUnits() {\n",
    "        Scanner units;\n",
    "        while (true) {\n",
    "            System.out.print(unitMessage);\n",
    "            units = new Scanner(System.in);\n",
    "            try {\n",
    "                inputUnits = units.nextLine();\n",
    "                System.out.println(inputUnits);\n",
    "                if (isExit(inputUnits)) {\n",
    "                    System.out.println(\"See you next time!\");\n",
    "                    System.exit(0);\n",
    "                }\n",
    "                unitIndex = Arrays.asList(unitList).indexOf(inputUnits);\n",
    "                if (unitIndex == -1) { \n",
    "                    System.out.println(\"not a valid unit choice \"); \n",
    "                } else {\n",
    "                    break;\n",
    "                }\n",
    "            } catch (Exception e) {\n",
    "                System.out.println(\"Not a valid string, \" + e);\n",
    "            }\n",
    "            units.close();\n",
    "        }\n",
    "    }\n",
    "\n",
    "    public double changeCalculation() {\n",
    "        return (inputMeasurement * conversionFactors[this.firstUnitIndex]/conversionFactors[this.secondUnitIndex]);\n",
    "    } \n",
    "\n",
    "    public void add() {\n",
    "        Scanner yesOrNo;\n",
    "        while (true) {\n",
    "            System.out.print(\"Would you like to add by another number of the same unit? (y/n) \");\n",
    "            yesOrNo = new Scanner(System.in);\n",
    "            try {\n",
    "                String roundYN = yesOrNo.nextLine();\n",
    "                System.out.println(roundYN);\n",
    "                if (roundYN.matches(\"n\")) {\n",
    "                    yesOrNo.close();\n",
    "                    break;\n",
    "                } else if (roundYN.matches(\"y\")) {\n",
    "                    Scanner adding;\n",
    "                    while (true) {\n",
    "                        System.out.print(\"enter the number to add: \");\n",
    "                        adding = new Scanner(System.in);\n",
    "                        try {\n",
    "                            double addInput = adding.nextDouble();\n",
    "                            System.out.println(addInput);\n",
    "                            adding.close();\n",
    "                            double finalCalculation = this.changeCalculation();\n",
    "                            finalCalculation += addInput;\n",
    "                            System.out.println(finalCalculation + \" \" + this.secondUnit + \"s.\");\n",
    "                            break;\n",
    "                        }   catch (Exception e) {\n",
    "                            System.out.println(\"Not a double, \" + e);\n",
    "                        }\n",
    "                    }\n",
    "                } else {\n",
    "                    System.out.println(\"not a valid input\");\n",
    "                }\n",
    "            } catch (Exception e) {\n",
    "                System.out.println(\"Not a valid string, \" + e);\n",
    "            }\n",
    "            yesOrNo.close();\n",
    "        }\n",
    "    }\n",
    "\n",
    "    private void truncating() {\n",
    "        Scanner yesOrNo;\n",
    "        while (true) {\n",
    "            System.out.print(\"Would you like to truncate to the nearest whole number? (y/exit) \");\n",
    "            yesOrNo = new Scanner(System.in);\n",
    "            try {\n",
    "                String roundYN = yesOrNo.nextLine();\n",
    "                System.out.println(roundYN);\n",
    "                if (isExit(roundYN)) {\n",
    "                    System.out.println(\"See you next time!\");\n",
    "                    yesOrNo.close();\n",
    "                    System.exit(0);\n",
    "                } else if (roundYN.matches(\"y\")) {\n",
    "                    int truncatedConversion = (int)this.changeCalculation();\n",
    "                    System.out.println(truncatedConversion + \" \" + this.secondUnit + \"s.\");\n",
    "                    yesOrNo.close();\n",
    "                    break;\n",
    "                } else {\n",
    "                    System.out.println(\"not a valid input\");\n",
    "                }\n",
    "            } catch (Exception e) {\n",
    "                System.out.println(\"Not a valid string, \" + e);\n",
    "            }\n",
    "            yesOrNo.close();\n",
    "        }\n",
    "    }\n",
    "\n",
    "    public static void main(String[] args) {\n",
    "        UnitConvertor converting = new UnitConvertor();\n",
    "        System.out.println(\"Your measurement of \" + inputMeasurement + \" \" + converting.firstUnit + \"s\" + \" is \" + converting.changeCalculation() + \" \" + converting.secondUnit + \"s.\");\n",
    "        converting.add();\n",
    "        converting.truncating();\n",
    "    } \n",
    "}\n",
    "\n",
    "UnitConvertor.main(null);\n",
    "/*\n",
    " * the plan is:\n",
    " *  get input from user + see if matches in the string array (boolean)\n",
    " *  find indice of the string array (int) --> use that value to get the integer conversion factor\n",
    " *  do that sweet sweet math with the variables to convert\n",
    " *  maybe ask if want to round to nearest whole number? or truncate\n",
    " *  \n",
    " */"
   ]
  },
  {
   "cell_type": "code",
   "execution_count": null,
   "metadata": {
    "vscode": {
     "languageId": "java"
    }
   },
   "outputs": [],
   "source": []
  },
  {
   "cell_type": "code",
   "execution_count": null,
   "metadata": {
    "vscode": {
     "languageId": "java"
    }
   },
   "outputs": [],
   "source": []
  }
 ],
 "metadata": {
  "kernelspec": {
   "display_name": "Java",
   "language": "java",
   "name": "java"
  },
  "language_info": {
   "codemirror_mode": "java",
   "file_extension": ".jshell",
   "mimetype": "text/x-java-source",
   "name": "Java",
   "pygments_lexer": "java",
   "version": "17.0.4+8-Ubuntu-120.04"
  },
  "orig_nbformat": 4,
  "vscode": {
   "interpreter": {
    "hash": "916dbcbb3f70747c44a77c7bcd40155683ae19c65e1c03b4aa3499c5328201f1"
   }
  }
 },
 "nbformat": 4,
 "nbformat_minor": 2
}
