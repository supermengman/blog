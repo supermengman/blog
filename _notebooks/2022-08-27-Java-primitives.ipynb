{
 "cells": [
  {
   "cell_type": "markdown",
   "metadata": {},
   "source": [
    "# Primitive Data Types \n",
    "> A notebook to document leraning of primitive data types in java\n",
    "\n",
    "- toc: true \n",
    "- badges: true\n",
    "- comments: true\n",
    "- categories: [jupyter,java]"
   ]
  },
  {
   "cell_type": "markdown",
   "metadata": {},
   "source": [
    "# Data Types"
   ]
  },
  {
   "cell_type": "markdown",
   "metadata": {},
   "source": [
    "## Primitives"
   ]
  },
  {
   "cell_type": "markdown",
   "metadata": {},
   "source": [
    "- int: aka integer, holds non-fractional number values\n",
    "- byte: similar to int, but only takes 8 bits of memory (only numbers rom -128 to 127)\n",
    "- short: in between an int and a byte\n",
    "- long: larger than an int\n",
    "- float: basic fractional numbers, which loses precision after 6 decimal places\n",
    "- double: it is a double-precision decimal number, with 64 bits of memory. It can go to further decimal places with higher precision.\n",
    "- boolean: only two values of **true** or **false**.\n",
    "- char: an integer that represents a unicode encoded character. "
   ]
  },
  {
   "cell_type": "code",
   "execution_count": 8,
   "metadata": {},
   "outputs": [],
   "source": [
    "int x = 12425;\n",
    "byte b = 40;\n",
    "short s = 10452;\n",
    "long l = 81849583;\n",
    "float f = 6.4224f;\n",
    "double d = 5.42624574367345;\n",
    "boolean b = false;\n",
    "char c = 'a';"
   ]
  },
  {
   "cell_type": "markdown",
   "metadata": {},
   "source": [
    "## Wrapper class"
   ]
  },
  {
   "cell_type": "markdown",
   "metadata": {},
   "source": [
    "Primitive data types also have a class in Java that \"wrap\" the class.\n",
    "- Integer wraps int\n",
    "- Byte wraps byte\n",
    "- Short wraps short\n",
    "- Long wraps long\n",
    "- Float wraps float\n",
    "- Double wraps double\n",
    "- Boolean wraps boolean\n",
    "- Character wraps char\n",
    "\n",
    "Wrapper classes are used when working with collections, or putting the data into an ArrayList or other data structures. Methods can also be called on wrapper classes, with an example being toString().\n"
   ]
  },
  {
   "cell_type": "code",
   "execution_count": 9,
   "metadata": {},
   "outputs": [
    {
     "name": "stdout",
     "output_type": "stream",
     "text": [
      "10\n",
      "10\n"
     ]
    }
   ],
   "source": [
    "Integer exampleInt = 10; // defining variable with wrapper class \n",
    "System.out.println(exampleInt); // printing the variable value\n",
    "System.out.println(exampleInt.intValue()); // using the method to get the value in the object"
   ]
  },
  {
   "cell_type": "markdown",
   "metadata": {},
   "source": [
    "Strings are a special wrapper class, being a sequence of characters or a character array."
   ]
  },
  {
   "cell_type": "code",
   "execution_count": 2,
   "metadata": {},
   "outputs": [
    {
     "name": "stdout",
     "output_type": "stream",
     "text": [
      "hello world!\n"
     ]
    }
   ],
   "source": [
    "String exampleString = \"hello world\";\n",
    "System.out.println(exampleString + \"!\");"
   ]
  },
  {
   "cell_type": "markdown",
   "metadata": {},
   "source": [
    "# Hacks"
   ]
  },
  {
   "cell_type": "markdown",
   "metadata": {},
   "source": [
    "## SI unit converter"
   ]
  },
  {
   "cell_type": "code",
   "execution_count": 2,
   "metadata": {},
   "outputs": [
    {
     "name": "stdout",
     "output_type": "stream",
     "text": [
      "Enter the first measurement (only numbers), type exit to exit: 56.32\n",
      "Enter the units for that measurement (millimeter, centimeter, decimeter, meter, decameter, hectometer, kilometer), type exit to exit: meter\n",
      "Enter the units to convert to (millimeter, centimeter, decimeter, meter, decameter, hectometer, kilometer), type exit to exit: decimeter\n",
      "Your measurement of 56.32 meters is 563.1999999999999 decimeters.\n",
      "Would you like to add by another number of the same unit? (y/n) y\n",
      "enter the number to add: 67.53\n",
      "630.7299999999999 decimeters.\n",
      "Would you like to add by another number of the same unit? (y/n) n\n",
      "Would you like to truncate to the nearest whole number? (y/exit) 7\n",
      "not a valid input\n",
      "Would you like to truncate to the nearest whole number? (y/exit) y\n",
      "563 decimeters.\n"
     ]
    }
   ],
   "source": [
    "import java.util.Scanner;\n",
    "import java.util.Arrays;\n",
    "public class UnitConvertor {\n",
    "    double[] conversionFactors = new double[]{0.001, 0.01, 0.1, 1, 10, 100, 1000}; // the conversion factors with meters as a reference, has decimals so double\n",
    "    String[] unitList = {\"millimeter\", \"centimeter\", \"decimeter\", \"meter\", \"decameter\", \"hectometer\", \"kilometer\"}; // the units themselves, so a string to match\n",
    "    public static double inputMeasurement; // below are the global variables that get called later, double here as the measurement is going to be a number with possible decimals\n",
    "    public static String inputUnits; // the unit name, so string\n",
    "    public static int unitIndex; // this is used to store the index of the unit that is typed, which is an integer\n",
    "\n",
    "    \n",
    "    public static String unitMessage = \"Enter the units for that measurement (millimeter, centimeter, decimeter, meter, decameter, hectometer, kilometer), type exit to exit: \"; // message that can change\n",
    "    int firstUnitIndex; // index is integer\n",
    "    int secondUnitIndex; // index is integer\n",
    "    private String firstUnit; // the name of unit so String\n",
    "    private String secondUnit; // name of unit so string\n",
    "\n",
    "    // constructor, calls the functions to enter the fields of data and saves them as attributes\n",
    "    public UnitConvertor() {\n",
    "        this.enterMeasurement();\n",
    "        this.enterUnits();\n",
    "        this.firstUnitIndex = unitIndex;\n",
    "        this.firstUnit = inputUnits;\n",
    "        unitMessage = \"Enter the units to convert to (millimeter, centimeter, decimeter, meter, decameter, hectometer, kilometer), type exit to exit: \";\n",
    "        this.enterUnits();\n",
    "        this.secondUnitIndex = unitIndex;\n",
    "        this.secondUnit = inputUnits;\n",
    "    }\n",
    "\n",
    "    // method to check if string matches exit, booleon because yes or no (takes string as input as it has to compare to the string)\n",
    "    private boolean isExit(String inputMeasurement) {\n",
    "        return inputMeasurement.matches(\"exit\"); \n",
    "    }\n",
    "\n",
    "    // enterMeasurement input method, with scanner\n",
    "    private void enterMeasurement() {\n",
    "        Scanner measurement;\n",
    "        while (true) {\n",
    "            System.out.print(\"Enter the first measurement (only numbers), type any letter to exit: \");\n",
    "            measurement = new Scanner(System.in);\n",
    "            try {\n",
    "                inputMeasurement = measurement.nextDouble();\n",
    "                System.out.println(inputMeasurement);\n",
    "                measurement.close();\n",
    "                break; // breaks the loop, continues on with program\n",
    "            }   catch (Exception e) {\n",
    "                System.out.println(\"See you later!\");\n",
    "                System.exit(0); // end program if not a number\n",
    "            }\n",
    "        }\n",
    "    }\n",
    "\n",
    "    // enterUnits method with scanner, checks the input and matches the string\n",
    "    public void enterUnits() {\n",
    "        Scanner units;\n",
    "        while (true) {\n",
    "            System.out.print(unitMessage); // prints the message (which changes because it has to be called twice for different purposes)\n",
    "            units = new Scanner(System.in);\n",
    "            try {\n",
    "                inputUnits = units.nextLine();\n",
    "                System.out.println(inputUnits);\n",
    "                if (isExit(inputUnits)) { // check if user wants to stop program, then exits\n",
    "                    System.out.println(\"See you next time!\");\n",
    "                    System.exit(0);\n",
    "                }\n",
    "                unitIndex = Arrays.asList(unitList).indexOf(inputUnits); // find index of the unit that the user inputted in the array, write to variable unitIndex to be stored later\n",
    "                if (unitIndex == -1) { // if not found in the array, then ask user to retype\n",
    "                    System.out.println(\"not a valid unit choice \"); \n",
    "                } else {\n",
    "                    break; // if is found in array, stop the loop and continue\n",
    "                }\n",
    "            } catch (Exception e) {\n",
    "                System.out.println(\"Not a valid string, \" + e);\n",
    "            }\n",
    "            units.close();\n",
    "        }\n",
    "    }\n",
    "\n",
    "    // calculation of the unit change, divides the conversion factors like in dimensional analysis; returns double because the initial inputMeasurement is a double\n",
    "    public double changeCalculation() {\n",
    "        return (inputMeasurement * conversionFactors[this.firstUnitIndex]/conversionFactors[this.secondUnitIndex]);\n",
    "    } \n",
    "\n",
    "    // asks user if they want to add a number onto their converted measurement\n",
    "    public void add() {\n",
    "        Scanner yesOrNo;\n",
    "        while (true) {\n",
    "            System.out.print(\"Would you like to add by another number of the same unit? (y/n) \");\n",
    "            yesOrNo = new Scanner(System.in);\n",
    "            try {\n",
    "                String roundYN = yesOrNo.nextLine(); // asks user input for y/n\n",
    "                System.out.println(roundYN);\n",
    "                if (roundYN.matches(\"n\")) { // if no, skip over adding\n",
    "                    yesOrNo.close();\n",
    "                    break;\n",
    "                } else if (roundYN.matches(\"y\")) { // if yes, create another scanner to ask for the number\n",
    "                    Scanner adding;\n",
    "                    while (true) {\n",
    "                        System.out.print(\"enter the number to add: \");\n",
    "                        adding = new Scanner(System.in);\n",
    "                        try { \n",
    "                            double addInput = adding.nextDouble(); // gets user input, as a double because the number inputted can have decimals as a measurement\n",
    "                            System.out.println(addInput);\n",
    "                            adding.close();\n",
    "                            double finalCalculation = this.changeCalculation(); // gets the value of the original converted measurement, which is a double and writes to variable\n",
    "                            finalCalculation += addInput; // compound assignment operator, adds the user input to the converted measurement quickly\n",
    "                            System.out.println(finalCalculation + \" \" + this.secondUnit + \"s.\"); // print the added number\n",
    "                            break;\n",
    "                        }   catch (Exception e) {\n",
    "                            System.out.println(\"Not a double, \" + e);\n",
    "                        }\n",
    "                    }\n",
    "                } else { // if not yes or no, tells user to redo\n",
    "                    System.out.println(\"not a valid input\");\n",
    "                }\n",
    "            } catch (Exception e) {\n",
    "                System.out.println(\"Not a valid string, \" + e);\n",
    "            }\n",
    "            yesOrNo.close();\n",
    "        }\n",
    "    }\n",
    "\n",
    "    // truncate the number if user wants to (whole number)\n",
    "    private void truncating() {\n",
    "        Scanner yesOrNo;\n",
    "        while (true) { // asks user if wants to truncate or exit\n",
    "            System.out.print(\"Would you like to truncate to the nearest whole number? (y/exit) \");\n",
    "            yesOrNo = new Scanner(System.in);\n",
    "            try {\n",
    "                String roundYN = yesOrNo.nextLine();\n",
    "                System.out.println(roundYN);\n",
    "                if (isExit(roundYN)) { // if user types exit, the program completes\n",
    "                    System.out.println(\"See you next time!\");\n",
    "                    yesOrNo.close();\n",
    "                    System.exit(0);\n",
    "                } else if (roundYN.matches(\"y\")) { // if user says y, truncates\n",
    "                    int truncatedConversion = (int)this.changeCalculation(); // casts the calculation into an int, truncating it to whole number\n",
    "                    System.out.println(truncatedConversion + \" \" + this.secondUnit + \"s.\");\n",
    "                    yesOrNo.close();\n",
    "                    break;\n",
    "                } else {\n",
    "                    System.out.println(\"not a valid input\"); // tells user to type valid input\n",
    "                }\n",
    "            } catch (Exception e) {\n",
    "                System.out.println(\"Not a valid string, \" + e);\n",
    "            }\n",
    "            yesOrNo.close();\n",
    "        }\n",
    "    }\n",
    "\n",
    "    // static main method, creates object converting and outputs the conversion + calls the add or truncate methods in addition\n",
    "    public static void main(String[] args) {\n",
    "        UnitConvertor converting = new UnitConvertor();\n",
    "        System.out.println(\"Your measurement of \" + inputMeasurement + \" \" + converting.firstUnit + \"s\" + \" is \" + converting.changeCalculation() + \" \" + converting.secondUnit + \"s.\");\n",
    "        converting.add();\n",
    "        converting.truncating();\n",
    "    } \n",
    "}\n",
    "\n",
    "UnitConvertor.main(null);\n"
   ]
  },
  {
   "cell_type": "code",
   "execution_count": null,
   "metadata": {},
   "outputs": [],
   "source": []
  },
  {
   "cell_type": "code",
   "execution_count": null,
   "metadata": {},
   "outputs": [],
   "source": []
  }
 ],
 "metadata": {
  "kernelspec": {
   "display_name": "Java",
   "language": "java",
   "name": "java"
  },
  "language_info": {
   "codemirror_mode": "java",
   "file_extension": ".jshell",
   "mimetype": "text/x-java-source",
   "name": "java",
   "pygments_lexer": "java",
   "version": "17.0.4+8-Ubuntu-120.04"
  },
  "orig_nbformat": 4,
  "vscode": {
   "interpreter": {
    "hash": "916dbcbb3f70747c44a77c7bcd40155683ae19c65e1c03b4aa3499c5328201f1"
   }
  }
 },
 "nbformat": 4,
 "nbformat_minor": 2
}
