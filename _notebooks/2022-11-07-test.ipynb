{
 "cells": [
  {
   "cell_type": "markdown",
   "metadata": {},
   "source": [
    "# testing\n",
    "> Booleans\n",
    "\n",
    "- toc: true \n",
    "- badges: true\n",
    "- comments: true\n",
    "- categories: [jupyter,java,collegeboard,frq]"
   ]
  },
  {
   "cell_type": "markdown",
   "metadata": {},
   "source": [
    "# Q1. 2019 AP CSA FRQ\n",
    "The ```APCalendar``` class contains methods used to calculate information about a calendar. You will write two methods of the class. \n"
   ]
  },
  {
   "cell_type": "code",
   "execution_count": null,
   "metadata": {},
   "outputs": [],
   "source": [
    "public class APCalendar\n",
    "{\n",
    "    /** Returns true if year is a leap year and false otherwise */\n",
    "    private static boolean isLeapyear(int year)\n",
    "    { /* implementation not shown */}\n",
    "\n",
    "    /** Returns the number of leap years between year1 and year2,  inclusive. \n",
    "     *  Precondition: 0 <= year1 <= year2 \n",
    "     * */ \n",
    "    public static int numberOfLeapYears(int year1, int year2)\n",
    "    { /* to be implemented in part (a) */}\n",
    "\n",
    "    /** Returns the value representing the day of the week for the first day of year, \n",
    "     *  where 0 denotes Sunday, 1 denotes Monday, ..., and 6 denotes Saturday. \n",
    "     */\n",
    "    private static int firstDayOfYear(int year)\n",
    "    { /* implementation not shown */ }\n",
    "\n",
    "    /** Returns n, where month, day,  and year specify the nth day of the year. \n",
    "     * *  Returns 1 for January 1 (month = 1, day = 1)  of any year. \n",
    "     * *  Precondition: The date represented by month, day, year is a valid date. \n",
    "     * */\n",
    "    \n",
    "    private static int dayOfYear(int month, int day, int year)\n",
    "    { /* implementation not shown */ }\n",
    "\n",
    "    /** Returns the value representing the day of the week for the given date \n",
    "     * (month, day, year),  where 0 denotes Sunday, 1 denotes Monday, ..., \n",
    "     * and 6 denotes Saturday. \n",
    "     * Precondition: The date represented by month, day, year is a valid date. \n",
    "     * *  */ \n",
    "    public static int dayOfWeek(int month, int day, int year) \n",
    "    { /* to be implemented in part (b)  */}\n",
    "\n",
    "    // there may be instance variables, constructors, and other methods not shown.\n",
    "}"
   ]
  },
  {
   "cell_type": "markdown",
   "metadata": {},
   "source": [
    "## (a) `numberOfLeapYears`\n",
    "Write the static method ```numberOfLeapYears```, which returns the number of leap years between ```year1``` and ```year2```, inclusive.\n",
    "\n",
    "In order to calculate this value, a helper method is provided for you.\n",
    "\n",
    "- isLeapYear(year) returns ```true``` if ```year``` is a leap year and ```false``` otherwise\n",
    "\n",
    "\n",
    "Complete method ```numberOfLeapYears``` below. You must use `isLeapYear` appropriately to receive full credit. "
   ]
  },
  {
   "cell_type": "code",
   "execution_count": null,
   "metadata": {},
   "outputs": [],
   "source": [
    "/** Returns the number of leap years between year1 and year2,  inclusive. \n",
    " *  Precondition: 0 <= year1 <= year2 \n",
    " * */ \n",
    "public static int numberOfLeapYears(int year1, int year2) {\n",
    "    int leapYearCount = 0; // variable to keep track of amount of leap years\n",
    "\n",
    "    // for loop: set year to year1, and while it is not yet at year2, find out if leapyear or not\n",
    "    for(int year = year1; year <= year2; year++) {\n",
    "\n",
    "        // check the year for if it is leap year\n",
    "        if(isLeapYear(year)) {\n",
    "            leapYearCount++; // increase count\n",
    "        }\n",
    "    }\n",
    "    return leapYearCount; // return the integer for the count of leap years\n",
    "}"
   ]
  },
  {
   "cell_type": "markdown",
   "metadata": {},
   "source": [
    "The approach I took was to make a loop to go through all the years between the two years, and check if it was a leap year. If it was, it would add one to the count of the leap year. As seen above, this is that pseudocode written in actual java. Comparing to the solution code, it is almost identitcal (with the variable names as the exception)."
   ]
  },
  {
   "cell_type": "markdown",
   "metadata": {},
   "source": [
    "## (b) `dayOfWeek`\n",
    "\n",
    "Write the static method ```dayOfWeek```,  which returns the integer value representing the day of the week for the given date  (`month, day, year`),  where 0 denotes Sunday, 1 denotes Monday, ..., and 6 denotes Saturday. For example, 2019 began on a Tuesday, and January 5 is the fifth day of 2019. As a result, January 5, 2019, fell on a Saturday, and the method call ```dayOfWeek(1, 5, 2019)```  returns 6. \n",
    "\n",
    "As another example, January 10 is the tenth day of 2019. As a result, January 10, 2019, fell on  a Thursday, and the method call `dayOfWeek(1, 10, 2019)` returns 4.\n",
    "\n",
    "In order to calculate this value, two helper methods are provided for you.\n",
    "\n",
    "- `firstDayOfYear(year)` returns the integer value representing the day of the week for the first day of `year`,  where 0 denotes Sunday, 1 denotes Monday, ..., and 6 denotes Saturday. For example, since 2019 began on a Tuesday, `firstDayOfYear(2019)` returns 2. \n",
    "- `dayOfYear(month, day, year)` returns *n*, where `month`, `day`,  and `year` specify the nth day of the year. For the first day of the year, January 1  (`month = 1, day = 1`),  the value  1 is returned. This method accounts for whether `year` is a leap year. For example,  `dayOfYear(3, 1, 2017)` returns 60,  since 2017 is not a leap year, while  `dayOfYear(3, 1, 2016)` returns 61,  since 2016 is a leap year. \n",
    "\n",
    "\n",
    "Complete method `dayOfWeek` below. You must use `firstDayOfYear` and `dayOfYear` appropriately to receive full credit."
   ]
  },
  {
   "cell_type": "code",
   "execution_count": null,
   "metadata": {},
   "outputs": [],
   "source": [
    "/** Returns the value representing the day of the week for the given date \n",
    " * (month, day, year),  where 0 denotes Sunday, 1 denotes Monday, ..., \n",
    " * and 6 denotes Saturday. \n",
    " * Precondition: The date represented by month, day, year is a valid date. \n",
    " * *  */ \n",
    "public static int dayOfWeek(int month, int day, int year) {\n",
    "    firstDay = firstDayOfYear(year); // store the day of the week of the first day\n",
    "    dayAfterNew = dayOfYear(month, day, year); // store the number of days since new year (inclusive)\n",
    "\n",
    "    return (firstDay + dayAfterNew - 1) % 7; // adds the day of the week to the days since new year, but minus 1 because the dayAfterNew includes the first day. then, mod 7\n",
    "}"
   ]
  },
  {
   "cell_type": "markdown",
   "metadata": {},
   "source": [
    "For this one, I initially began by trying to make a loop, and adding each day to the number of the firstDay day by day. I soon realized that was not the intended solution.\n",
    "\n",
    "Instead, I set variables for the firstDay day of the week, and the days after the new year as dayAfterNew. Then, I returned the value of them added minus 1 to get some number, and modulus 7 to take the modulus (remainder). The remainder would be the day of the week, which is what is returned\n",
    "\n",
    "Comparing to the answer, I see that the solution has the return value stored within another variable, so it is almost identitical."
   ]
  },
  {
   "cell_type": "markdown",
   "metadata": {},
   "source": [
    "# Conditionals Exercises\n",
    "\n",
    "2"
   ]
  },
  {
   "cell_type": "code",
   "execution_count": 10,
   "metadata": {},
   "outputs": [
    {
     "name": "stdout",
     "output_type": "stream",
     "text": [
      "input a: \n",
      "Input b: \n",
      "Input c: \n",
      "The roots are -2.9384471871911697 and -7.061552812808831\n"
     ]
    }
   ],
   "source": [
    "import java.util.Scanner;\n",
    "public class Exercise2 {\n",
    "\n",
    "    public static void main(String[] args) {\n",
    "        Scanner input = new Scanner(System.in);\n",
    "\n",
    "        System.out.println(\"input a: \");\n",
    "        double a = input.nextDouble();\n",
    "        System.out.println(\"Input b: \");\n",
    "        double b = input.nextDouble();\n",
    "        System.out.println(\"Input c: \");\n",
    "        double c = input.nextDouble();\n",
    "\n",
    "        double discriminant = b * b - 4 * a * c;\n",
    "\n",
    "        if (discriminant > 0.0) {\n",
    "            double root1 = (-b + Math.pow(discriminant, 0.5)/(2*a));\n",
    "            double root2 = (-b - Math.pow(discriminant, 0.5)/(2*a));\n",
    "            System.out.println(\"The roots are \" + root1 + \" and \" + root2);\n",
    "        } else if (discriminant == 0) {\n",
    "            double root = (-b/(2*a));\n",
    "            System.out.println(\"The root is \" + root);\n",
    "        } else {\n",
    "            System.out.println(\"no real roots\");\n",
    "        }\n",
    "    }\n",
    "    \n",
    "}\n",
    "\n",
    "Exercise2.main(null);"
   ]
  },
  {
   "cell_type": "markdown",
   "metadata": {},
   "source": [
    "4 Write a Java program that reads a floating-point number and prints \"zero\" if the number is zero. Otherwise, print \"positive\" or \"negative\". Add \"small\" if the absolute value of the number is less than 1, or \"large\" if it exceeds 1,000,000. Go to the editor"
   ]
  },
  {
   "cell_type": "code",
   "execution_count": 1,
   "metadata": {},
   "outputs": [
    {
     "name": "stdout",
     "output_type": "stream",
     "text": [
      "enter number: 50.0\n",
      "positive\n"
     ]
    }
   ],
   "source": [
    "public class Exercise4 {\n",
    "    \n",
    "\n",
    "\n",
    "    public static void main(String[] args) {\n",
    "        Scanner input = new Scanner(System.in);\n",
    "\n",
    "        System.out.print(\"enter number: \");\n",
    "        double number = input.nextDouble();\n",
    "        System.out.println(number);\n",
    "\n",
    "        if (number > 0) {\n",
    "            System.out.println(\"positive\");\n",
    "        } else if (number == 0) {\n",
    "            System.out.println(\"zero\");\n",
    "        } else {\n",
    "            System.out.println(\"negative\");\n",
    "        }\n",
    "\n",
    "        if (number < 1) {\n",
    "            System.out.println(\"negative\");\n",
    "        } else if (number > 1000000) {\n",
    "            System.out.println(\"large\");\n",
    "        }\n",
    "\n",
    "\n",
    "    }\n",
    "}\n",
    "\n",
    "Exercise4.main(null);"
   ]
  },
  {
   "cell_type": "markdown",
   "metadata": {},
   "source": [
    "6 Write a Java program that reads in two floating-point numbers and tests whether they are the same up to three decimal places. Go to the editor"
   ]
  },
  {
   "cell_type": "code",
   "execution_count": 4,
   "metadata": {},
   "outputs": [
    {
     "name": "stdout",
     "output_type": "stream",
     "text": [
      "enter number: 5.32532643\n",
      "enter number: 5.32585\n",
      "same\n"
     ]
    }
   ],
   "source": [
    "public class Exercise6 {\n",
    "\n",
    "    static double truncate(double n, int decimalPlace) {\n",
    "        n = n*Math.pow(10, decimalPlace);\n",
    "        n = Math.floor(n);\n",
    "        n = n/Math.pow(10, decimalPlace);\n",
    "\n",
    "        return n;\n",
    "    }\n",
    "    public static void main(String[] args) {\n",
    "        Scanner input = new Scanner(System.in);\n",
    "\n",
    "        System.out.print(\"enter number: \");\n",
    "        double number1 = input.nextDouble();\n",
    "        double num1Trun = truncate(number1, 3);\n",
    "        System.out.println(number1);\n",
    "\n",
    "        System.out.print(\"enter number: \");\n",
    "        double number2 = input.nextDouble();\n",
    "        double num2Trun = truncate(number2, 3);\n",
    "        System.out.println(number2);\n",
    "\n",
    "        if (num1Trun == num2Trun) {\n",
    "            System.out.println(\"same\");\n",
    "        } else {\n",
    "            System.out.println(\"diff\");\n",
    "        }\n",
    "        input.close();\n",
    "\n",
    "        \n",
    "    }\n",
    "}\n",
    "\n",
    "Exercise6.main(null);"
   ]
  },
  {
   "cell_type": "markdown",
   "metadata": {},
   "source": [
    "8 Write a Java program that takes the user to provide a single character from the alphabet. Print Vowel or Consonant, depending on the user input. If the user input is not a letter (between a and z or A and Z), or is a string of length > 1, print an error message."
   ]
  },
  {
   "cell_type": "code",
   "execution_count": 8,
   "metadata": {},
   "outputs": [
    {
     "name": "stdout",
     "output_type": "stream",
     "text": [
      "enter letter: a\n",
      "vowel\n"
     ]
    }
   ],
   "source": [
    "import java.util.ArrayList;\n",
    "import java.util.Scanner;\n",
    "import java.util.Set;\n",
    "\n",
    "/**\n",
    " * Exercise6\n",
    " */\n",
    "public class Exercise8 {\n",
    "\n",
    "    \n",
    "    public static void main(String[] args) {\n",
    "        Scanner input = new Scanner(System.in);\n",
    "\n",
    "        System.out.print(\"enter letter: \");\n",
    "        String letter = input.nextLine();\n",
    "        System.out.println(letter);\n",
    "\n",
    "        Set<String> vowels = Set.of(\"a\", \"e\", \"i\", \"o\", \"u\", \"A\", \"E\", \"I\", \"O\", \"U\");\n",
    "\n",
    "        if(letter.length() > 1) {\n",
    "            System.out.println(\"not one letter\");\n",
    "        } else if (!letter.matches(\"[a-zA-Z]+\")) {\n",
    "            System.out.println(\"not a letter\");\n",
    "        } else if (vowels.contains(letter)) {\n",
    "            System.out.println(\"vowel\");\n",
    "        } else {\n",
    "            System.out.println(\"consonant\");\n",
    "        }\n",
    "\n",
    "\n",
    "        input.close();\n",
    "\n",
    "        \n",
    "    }\n",
    "}\n",
    "\n",
    "Exercise8.main(null);"
   ]
  },
  {
   "cell_type": "markdown",
   "metadata": {},
   "source": [
    "10 Write a program in Java to display the first 10 natural numbers."
   ]
  },
  {
   "cell_type": "code",
   "execution_count": 9,
   "metadata": {},
   "outputs": [
    {
     "name": "stdout",
     "output_type": "stream",
     "text": [
      "The first 10 natural numbers are:\n",
      "1\n",
      "2\n",
      "3\n",
      "4\n",
      "5\n",
      "6\n",
      "7\n",
      "8\n",
      "9\n",
      "10\n"
     ]
    }
   ],
   "source": [
    "public class Exercise10 {\n",
    "\n",
    "    \n",
    "    public static void main(String[] args) {\n",
    "        System.out.println(\"The first 10 natural numbers are:\");\n",
    "\n",
    "        for (int i = 1; i <= 10; i++) {\n",
    "            System.out.println(i);\n",
    "        }\n",
    "        \n",
    "    }\n",
    "}\n",
    "\n",
    "Exercise10.main(null);"
   ]
  },
  {
   "cell_type": "markdown",
   "metadata": {},
   "source": [
    "12 Write a program in Java to input 5 numbers from keyboard and find their sum and average."
   ]
  },
  {
   "cell_type": "code",
   "execution_count": 16,
   "metadata": {},
   "outputs": [
    {
     "name": "stdout",
     "output_type": "stream",
     "text": [
      "Input the 5 numbers\n",
      "8\n",
      "7\n",
      "3\n",
      "6\n",
      "5\n",
      "The sum of 5 no is: 29\n",
      "The avg of 5 no is: 5.8\n"
     ]
    }
   ],
   "source": [
    "import java.util.Scanner;\n",
    "import java.util.Set;\n",
    "\n",
    "/**\n",
    " * Exercise6\n",
    " */\n",
    "public class Exercise12 {\n",
    "\n",
    "    \n",
    "    public static void main(String[] args) {\n",
    "        int sum = 0;\n",
    "        double average;\n",
    "\n",
    "        System.out.println(\"Input the 5 numbers\");\n",
    "        Scanner input = new Scanner(System.in);\n",
    "        for (int i = 0; i < 5; i++) {\n",
    "            int num = input.nextInt();\n",
    "            System.out.println(num);\n",
    "            sum += num;\n",
    "        }\n",
    "\n",
    "        input.close();\n",
    "\n",
    "        average = (double) sum/5;\n",
    "\n",
    "        System.out.println(\"The sum of 5 no is: \" + sum);\n",
    "        System.out.println(\"The avg of 5 no is: \" + average);\n",
    "        \n",
    "    }\n",
    "}\n",
    "\n",
    "Exercise12.main(null);"
   ]
  },
  {
   "cell_type": "markdown",
   "metadata": {},
   "source": [
    "14 Write a program in Java to display the multiplication table of a given integer."
   ]
  },
  {
   "cell_type": "code",
   "execution_count": 18,
   "metadata": {},
   "outputs": [
    {
     "name": "stdout",
     "output_type": "stream",
     "text": [
      "Input the number: \n",
      "Input num of terms: \n",
      "6 X 0 = 0\n",
      "6 X 1 = 6\n",
      "6 X 2 = 12\n",
      "6 X 3 = 18\n",
      "6 X 4 = 24\n",
      "6 X 5 = 30\n"
     ]
    }
   ],
   "source": [
    "public class Exercise14 {\n",
    "\n",
    "    \n",
    "    public static void main(String[] args) {\n",
    "        \n",
    "\n",
    "        System.out.println(\"Input the number: \");\n",
    "        Scanner input = new Scanner(System.in);\n",
    "        int num = input.nextInt();\n",
    "\n",
    "        System.out.println(\"Input num of terms: \");\n",
    "        int termNum = input.nextInt();\n",
    "\n",
    "        for (int i = 0; i <= termNum; i++) {\n",
    "            System.out.println(num + \" X \" + i + \" = \" + num*i);\n",
    "        }\n",
    "\n",
    "        input.close();\n",
    "\n",
    "        \n",
    "        \n",
    "    }\n",
    "}\n",
    "\n",
    "Exercise14.main(null);"
   ]
  },
  {
   "cell_type": "markdown",
   "metadata": {},
   "source": [
    "16 Write a program in Java to display the pattern like right angle triangle with a number."
   ]
  },
  {
   "cell_type": "code",
   "execution_count": 19,
   "metadata": {},
   "outputs": [
    {
     "name": "stdout",
     "output_type": "stream",
     "text": [
      "Input num of rows: 10\n",
      "1\n",
      "12\n",
      "123\n",
      "1234\n",
      "12345\n",
      "123456\n",
      "1234567\n",
      "12345678\n",
      "123456789\n",
      "12345678910\n"
     ]
    }
   ],
   "source": [
    "public class Exercise16 {\n",
    "\n",
    "    \n",
    "    public static void main(String[] args) {\n",
    "        \n",
    "\n",
    "        System.out.print(\"Input num of rows: \");\n",
    "        Scanner input = new Scanner(System.in);\n",
    "        int num = input.nextInt();\n",
    "        System.out.println(num);\n",
    "\n",
    "        \n",
    "\n",
    "        for (int i = 1; i <= num; i++) {\n",
    "            \n",
    "            for (int j = 1; j <= i; j++) {\n",
    "                System.out.print(j);\n",
    "            }\n",
    "\n",
    "            System.out.println();\n",
    "        }\n",
    "\n",
    "        \n",
    "        \n",
    "    }\n",
    "}\n",
    "\n",
    "Exercise16.main(null);"
   ]
  },
  {
   "cell_type": "markdown",
   "metadata": {},
   "source": [
    "18 Write a program in Java to make such a pattern like right angle triangle with number increased by 1.The pattern like :"
   ]
  },
  {
   "cell_type": "code",
   "execution_count": 21,
   "metadata": {},
   "outputs": [
    {
     "name": "stdout",
     "output_type": "stream",
     "text": [
      "Input num of rows: 4\n",
      "1 \n",
      "2 3 \n",
      "4 5 6 \n",
      "7 8 9 10 \n"
     ]
    }
   ],
   "source": [
    "public class Exercise18 {\n",
    "\n",
    "    \n",
    "    public static void main(String[] args) {\n",
    "        \n",
    "\n",
    "        System.out.print(\"Input num of rows: \");\n",
    "        Scanner input = new Scanner(System.in);\n",
    "        int num = input.nextInt();\n",
    "        System.out.println(num);\n",
    "\n",
    "        int numDisplay = 1;\n",
    "        \n",
    "\n",
    "        for (int i = 1; i <= num; i++) {\n",
    "            \n",
    "            for (int j = 1; j <= i; j++) {\n",
    "                System.out.print(numDisplay + \" \");\n",
    "                numDisplay++;\n",
    "            }\n",
    "\n",
    "            System.out.println();\n",
    "        }\n",
    "\n",
    "        \n",
    "        \n",
    "    }\n",
    "}\n",
    "\n",
    "Exercise18.main(null);"
   ]
  },
  {
   "cell_type": "markdown",
   "metadata": {},
   "source": [
    "20 Write a program in Java to print the Floyd's Triangle."
   ]
  },
  {
   "cell_type": "code",
   "execution_count": 22,
   "metadata": {},
   "outputs": [
    {
     "name": "stdout",
     "output_type": "stream",
     "text": [
      "Input num of rows: 5\n",
      "1 \n",
      "2 3 \n",
      "4 5 6 \n",
      "7 8 9 10 \n",
      "11 12 13 14 15 \n"
     ]
    }
   ],
   "source": [
    "public class Exercise20 {\n",
    "\n",
    "    \n",
    "    public static void main(String[] args) {\n",
    "        \n",
    "\n",
    "        System.out.print(\"Input num of rows: \");\n",
    "        Scanner input = new Scanner(System.in);\n",
    "        int num = input.nextInt();\n",
    "        System.out.println(num);\n",
    "\n",
    "        int numDisplay = 1;\n",
    "        \n",
    "\n",
    "        for (int i = 1; i <= num; i++) {\n",
    "            \n",
    "            for (int j = 1; j <= i; j++) {\n",
    "                System.out.print(numDisplay + \" \");\n",
    "                numDisplay++;\n",
    "            }\n",
    "\n",
    "            System.out.println();\n",
    "        }\n",
    "\n",
    "        \n",
    "        \n",
    "    }\n",
    "}\n",
    "\n",
    "Exercise20.main(null);"
   ]
  }
 ],
 "metadata": {
  "kernelspec": {
   "display_name": "Java",
   "language": "java",
   "name": "java"
  },
  "language_info": {
   "codemirror_mode": "java",
   "file_extension": ".jshell",
   "mimetype": "text/x-java-source",
   "name": "java",
   "pygments_lexer": "java",
   "version": "17.0.4+8-Ubuntu-120.04"
  },
  "orig_nbformat": 4
 },
 "nbformat": 4,
 "nbformat_minor": 2
}
