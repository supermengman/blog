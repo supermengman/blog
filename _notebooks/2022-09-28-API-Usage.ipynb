{
 "cells": [
  {
   "cell_type": "markdown",
   "metadata": {},
   "source": [
    "# Rapid API Implementation\n",
    "> Finding an api on rapidAPI and practicing requests\n",
    "\n",
    "- toc: true \n",
    "- badges: true\n",
    "- comments: true\n",
    "- categories: [jupyter,javascript,pbl]"
   ]
  },
  {
   "cell_type": "markdown",
   "metadata": {},
   "source": [
    "Find an API and implement Fetch following Covid example. Answer these questions in implementation…\n",
    "\n",
    "Benefit of using and API?\n",
    "Benefit(s) of backend implementation?"
   ]
  },
  {
   "cell_type": "markdown",
   "metadata": {},
   "source": [
    "To Do:\n",
    "- [x] find API on rapidAPI\n",
    "- [x] copy/repackage code from project link\n",
    "- [x] make sure that httprequest itself works\n",
    "- [x] parse json to find stuff\n",
    "- [ ] possibly build spring boot around it (using objects); \n",
    "- [ ] restart instance, test on ec2 --> deploy"
   ]
  },
  {
   "cell_type": "code",
   "execution_count": 2,
   "metadata": {},
   "outputs": [
    {
     "name": "stdout",
     "output_type": "stream",
     "text": [
      "{\"location\":{\"name\":\"Rancho Penasquitos\",\"region\":\"California\",\"country\":\"United States of America\",\"lat\":32.96,\"lon\":-117.11,\"tz_id\":\"America/Los_Angeles\",\"localtime_epoch\":1664390698,\"localtime\":\"2022-09-28 11:44\"},\"current\":{\"last_updated_epoch\":1664389800,\"last_updated\":\"2022-09-28 11:30\",\"temp_c\":28.3,\"temp_f\":82.9,\"is_day\":1,\"condition\":{\"text\":\"Sunny\",\"icon\":\"//cdn.weatherapi.com/weather/64x64/day/113.png\",\"code\":1000},\"wind_mph\":2.2,\"wind_kph\":3.6,\"wind_degree\":239,\"wind_dir\":\"WSW\",\"pressure_mb\":1014.0,\"pressure_in\":29.95,\"precip_mm\":0.0,\"precip_in\":0.0,\"humidity\":55,\"cloud\":0,\"feelslike_c\":29.6,\"feelslike_f\":85.3,\"vis_km\":16.0,\"vis_miles\":9.0,\"uv\":7.0,\"gust_mph\":4.3,\"gust_kph\":6.8}}\n"
     ]
    }
   ],
   "source": [
    "import java.net.URI;\n",
    "import java.net.http.HttpClient;\n",
    "import java.net.http.HttpRequest;\n",
    "import java.net.http.HttpResponse;\n",
    "\n",
    "//RapidAPI header  https://rapidapi.com/spamakashrajtech/api/corona-virus-world-and-india-data\n",
    "HttpRequest request = HttpRequest.newBuilder()\n",
    "    .uri(URI.create(\"https://weatherapi-com.p.rapidapi.com/current.json?q=209.66.205.197\"))\n",
    "    .header(\"X-RapidAPI-Key\", \"0fb4bb4059msh8489d467f79e14ep1d57f9jsnd0d67fb163e6\")\n",
    "    .header(\"X-RapidAPI-Host\", \"weatherapi-com.p.rapidapi.com\")\n",
    "    .method(\"GET\", HttpRequest.BodyPublishers.noBody())\n",
    "    .build();\n",
    "\n",
    "//RapidAPI request and response\n",
    "HttpResponse<String> response = HttpClient.newHttpClient().send(request, HttpResponse.BodyHandlers.ofString());\n",
    "\n",
    "//RapidAPI Body\n",
    "System.out.println(response.body());"
   ]
  },
  {
   "cell_type": "markdown",
   "metadata": {},
   "source": [
    "## Backend implementation on Spring boot:\n",
    "\n",
    "![backend API](./images/backendAPI.png)\n",
    "\n",
    "As seen, I set up the code such that I could get (curl) a site on my local spring boot, returning the data about weather. I was about to implement this into displaying with javascript, but as of now the AWS servers are down so the links are not working yet. If it does get fixed, it will be seen [here](https://supermengman.github.io/blog/data/weather).\n",
    "\n",
    "The source code can be seen [here](https://github.com/supermengman/using-objects/blob/main/src/main/java/com/nighthawk/spring_portfolio/hacks/api/WeatherApiController.java), but here is a snippet of the code that i changed:\n",
    "\n",
    "```java\n",
    "public ResponseEntity<JSONObject> getCovid() {\n",
    "\n",
    "        //calls API once a day, sets body and status properties\n",
    "        Long currentTime = System.currentTimeMillis()/(1000*60);\n",
    "        if (last_run == null || (currentTime - last_run)>5)\n",
    "        {\n",
    "            try {  //APIs can fail (ie Internet or Service down)\n",
    "                \n",
    "                //RapidAPI header\n",
    "                HttpRequest request = HttpRequest.newBuilder()\n",
    "                    .uri(URI.create(\"https://weatherapi-com.p.rapidapi.com/current.json?q=209.66.205.197\"))\n",
    "                    .header(\"X-RapidAPI-Key\", \"0fb4bb4059msh8489d467f79e14ep1d57f9jsnd0d67fb163e6\")\n",
    "                    .header(\"X-RapidAPI-Host\", \"weatherapi-com.p.rapidapi.com\")\n",
    "                    .method(\"GET\", HttpRequest.BodyPublishers.noBody())\n",
    "                    .build();\n",
    "\n",
    "\n",
    "                //RapidAPI request and response\n",
    "                HttpResponse<String> response = HttpClient.newHttpClient().send(request, HttpResponse.BodyHandlers.ofString());\n",
    "\n",
    "                //JSONParser extracts text body and parses to JSONObject\n",
    "                this.body = (JSONObject) new JSONParser().parse(response.body());\n",
    "                this.status = HttpStatus.OK;  //200 success\n",
    "                this.last_run = currentTime;\n",
    "            }\n",
    "            catch (Exception e) {  //capture failure info\n",
    "                HashMap<String, String> status = new HashMap<>();\n",
    "                status.put(\"status\", \"RapidApi failure: \" + e);\n",
    "\n",
    "                //Setup object for error\n",
    "                this.body = (JSONObject) status;\n",
    "                this.status = HttpStatus.INTERNAL_SERVER_ERROR; //500 error\n",
    "                this.last_run = null;\n",
    "            }\n",
    "        }\n",
    "```\n",
    "\n",
    "Instead of getting the date, I get the epoch time and convert it to minutes. When I pull from the API, if it is successfull, I set the time that I ran the API to the last_run. So, if the difference between the two runs is greater than 5 minutes, then it will request the API again. As this is weather, I think 5 minutes is adequate time, and also enough to take advantage of my 1 million requests per month."
   ]
  },
  {
   "cell_type": "markdown",
   "metadata": {},
   "source": [
    "## Questions?\n",
    "\n",
    "1. Benefit of using an API?\n",
    "\n",
    "An API allows code to interact with data from a server, and this is necessary especailly for our development environment, which is deploying a website. We will constantly have to interact with web servers and possibly serve our own data, so an API is necessary to make it easy to access data without having to write a lot of code. It provides a template for easier interaction in the future.\n",
    "\n",
    "2. Benefits of backend implementation?\n",
    "\n",
    "As described above, if it was only frontend, the code would have to request the source api every time a user reloads, which could be wasteful if the API hasn't had any meaningful changes or updates to its data. So, mine limits requests to every 5 minutes to the source server, caching and saving the last run. This cuts down on unnecessary cost, which could be a problem when scaled up."
   ]
  }
 ],
 "metadata": {
  "kernelspec": {
   "display_name": "Java",
   "language": "java",
   "name": "java"
  },
  "language_info": {
   "codemirror_mode": "java",
   "file_extension": ".jshell",
   "mimetype": "text/x-java-source",
   "name": "java",
   "pygments_lexer": "java",
   "version": "17.0.4+8-Ubuntu-120.04"
  },
  "orig_nbformat": 4,
  "vscode": {
   "interpreter": {
    "hash": "916dbcbb3f70747c44a77c7bcd40155683ae19c65e1c03b4aa3499c5328201f1"
   }
  }
 },
 "nbformat": 4,
 "nbformat_minor": 2
}
