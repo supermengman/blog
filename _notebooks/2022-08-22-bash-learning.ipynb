{
 "cells": [
  {
   "cell_type": "markdown",
   "metadata": {},
   "source": [
    "# Bash Learning\n",
    "> Learning how to use bash.\n",
    "\n",
    "- toc: true \n",
    "- badges: true\n",
    "- comments: true\n",
    "- categories: [jupyter,bash]"
   ]
  },
  {
   "cell_type": "markdown",
   "metadata": {},
   "source": [
    "# Bash script to verify project directories and projects"
   ]
  },
  {
   "cell_type": "markdown",
   "metadata": {},
   "source": [
    "## Initial setup to clone"
   ]
  },
  {
   "cell_type": "code",
   "execution_count": 3,
   "metadata": {
    "vscode": {
     "languageId": "shellscript"
    }
   },
   "outputs": [
    {
     "name": "stdout",
     "output_type": "stream",
     "text": [
      "Hello World!\n"
     ]
    }
   ],
   "source": [
    "echo \"Using conditional statement to create a project directory and project\"\n",
    "\n",
    "\n",
    "# Variable section\n",
    "export project_dir=$HOME/bash_clone_test  # change vscode to different name to test git clone\n",
    "export project=$testing_dir/blog  # change APCSP to name of project from git clone\n",
    "export project_repo=\"https://github.com/supermengman/blog\"  # change to project of choice\n",
    "\n",
    "cd ~    # start in home directory\n",
    "\n",
    "# Conditional block to make a project directory\n",
    "if [ ! -d $project_dir ]\n",
    "then \n",
    "    echo \"Directory $project_dir does not exists... makinng directory $project_dir\"\n",
    "    mkdir -p $project_dir\n",
    "fi\n",
    "echo \"Directory $project_dir exists.\" \n",
    "\n",
    "# Conditional block to git clone a project from project_repo\n",
    "if [ ! -d $project ]\n",
    "then\n",
    "    echo \"Directory $project does not exists... cloning $project_repo\"\n",
    "    cd $project_dir\n",
    "    git clone $project_repo\n",
    "    cd ~\n",
    "fi\n",
    "echo \"Directory $project exists.\""
   ]
  },
  {
   "cell_type": "markdown",
   "metadata": {},
   "source": [
    "## Filesystem Management in Bash"
   ]
  },
  {
   "cell_type": "markdown",
   "metadata": {},
   "source": [
    "### cd, pwd, echo, ls"
   ]
  },
  {
   "cell_type": "markdown",
   "metadata": {},
   "source": [
    "\n",
    "- cd changes directory\n",
    "- pwd prints working directory\n",
    "- echo \"echoes\" lines into terminal\n",
    "- ls \"lists\" files in directories"
   ]
  },
  {
   "cell_type": "code",
   "execution_count": null,
   "metadata": {
    "vscode": {
     "languageId": "shellscript"
    }
   },
   "outputs": [],
   "source": [
    "echo \"Navigate to project, then navigate to area where files were cloned\"\n",
    "cd $project # Changes Directory to the project\n",
    "pwd # outputs the current directory"
   ]
  },
  {
   "cell_type": "code",
   "execution_count": null,
   "metadata": {
    "vscode": {
     "languageId": "shellscript"
    }
   },
   "outputs": [],
   "source": [
    "echo \"\" # empty space\n",
    "echo \"list top level or root of files with project pulled from github\"\n",
    "ls # list"
   ]
  },
  {
   "cell_type": "code",
   "execution_count": null,
   "metadata": {
    "vscode": {
     "languageId": "shellscript"
    }
   },
   "outputs": [],
   "source": [
    "echo \"\" \n",
    "echo \"list again with hidden files pulled from github\"\n",
    "ls -a   # hidden files flag, many shell commands have flags"
   ]
  },
  {
   "cell_type": "code",
   "execution_count": null,
   "metadata": {
    "vscode": {
     "languageId": "shellscript"
    }
   },
   "outputs": [],
   "source": [
    "echo \"\"\n",
    "echo \"list all files in long format\"\n",
    "ls -al   # all files and long listing"
   ]
  },
  {
   "cell_type": "code",
   "execution_count": null,
   "metadata": {
    "vscode": {
     "languageId": "shellscript"
    }
   },
   "outputs": [],
   "source": [
    "echo \"\"\n",
    "echo \"list all files in long format recursively\"\n",
    "ls -Ral   # all files and long listing"
   ]
  },
  {
   "cell_type": "markdown",
   "metadata": {},
   "source": [
    "### Moving through Linux Directories"
   ]
  },
  {
   "cell_type": "code",
   "execution_count": null,
   "metadata": {
    "vscode": {
     "languageId": "shellscript"
    }
   },
   "outputs": [],
   "source": [
    "echo \"Look for posts\"\n",
    "export posts=$project/_posts  # _posts inside project\n",
    "cd $posts  # this should exist per fastpages\n",
    "pwd  # present working directory\n",
    "ls -l  # list posts\n",
    "\n",
    "\n",
    "echo \"Look for notebooks\"\n",
    "export notebooks=$project/_notebooks  # _notebooks is inside project\n",
    "cd $notebooks   # this should exist per fastpages\n",
    "pwd  # present working directory\n",
    "ls -l  # list notebooks\n",
    "\n",
    "\n",
    "echo \"Look for images in notebooks, print working directory, list files\"\n",
    "cd $notebooks/images  # this should exist per fastpages\n",
    "pwd\n",
    "ls -l"
   ]
  },
  {
   "cell_type": "markdown",
   "metadata": {},
   "source": [
    "### Show contents of files"
   ]
  },
  {
   "cell_type": "code",
   "execution_count": null,
   "metadata": {
    "vscode": {
     "languageId": "shellscript"
    }
   },
   "outputs": [],
   "source": [
    "echo \"Navigate to project, then navigate to area where files were cloned\"\n",
    "\n",
    "cd $project\n",
    "echo \"show the contents of index.html\"\n",
    "echo \"\"\n",
    "\n",
    "cat index.html  # show contents of file, in this case markdown\n",
    "echo \"\"\n",
    "echo \"end of index.html\""
   ]
  },
  {
   "cell_type": "markdown",
   "metadata": {},
   "source": [
    "# Other additional bash commands\n",
    "\n",
    "## Commands for Permissions\n",
    "\n",
    "- chmod is the command used to change access permissions of files (allowing specific people to read, write, or execute files)\n",
    "    - permissions are in octal, meaning that a number 0-7 determines the permission for each part (usually there are 3 parts)\n",
    "        - part 1 (user): changes the permission for the user that owns the file\n",
    "        - part 2 (group): changes the permission for the group that owns the file (such as administrator or sudo)\n",
    "        - part 3 (others): changes the permission for all users\n",
    "    - numbers in chmod correspond to the permissions, adding the numbers up results in the complete permission for that part\n",
    "        - 0 = no permissions, 1 = execute permission, 2 = write permission, 4 = read permission\n",
    "            - ex: a permission of 6 = 4 + 2 + 0 so only read and write permissions\n",
    "- chown is the command used to change ownership of files\n",
    "    - easier than chmod, just specify the user and the file\n",
    "- chgrp command used to change group that owns file\n",
    "    - similar syntax to chown"
   ]
  },
  {
   "cell_type": "code",
   "execution_count": null,
   "metadata": {
    "vscode": {
     "languageId": "shellscript"
    }
   },
   "outputs": [],
   "source": [
    "cd $project\n",
    "chmod 644 README.md # changes permissions of the README file to 644, so owner can read and write, while the group and others can only read\n",
    "chown root README.md # changes owner of README.md to root\n",
    "chgrp sudo README.md # changes group that has access to README.md to sudo\n",
    "\n",
    "chown root:sudo README.md # does both owner and group at the same time"
   ]
  },
  {
   "cell_type": "markdown",
   "metadata": {},
   "source": [
    "## Filtering Commands\n",
    "\n",
    "grep is a very useful command in linux, used to filter content inside files to find a specific match. grep can also be used to find a match in the output of a command."
   ]
  },
  {
   "cell_type": "code",
   "execution_count": null,
   "metadata": {
    "vscode": {
     "languageId": "shellscript"
    }
   },
   "outputs": [],
   "source": [
    "grep \"the\" README.md # searches for and prints any matches of \"read\" in readme file\n",
    "grep -rl \"read\" $project # searches recursively through project directory for \"read\" while only listing filenames"
   ]
  },
  {
   "cell_type": "markdown",
   "metadata": {},
   "source": [
    "find is a command similar to grep, but it matches filenames instead of the contents instead files or from outputs like grep does."
   ]
  },
  {
   "cell_type": "code",
   "execution_count": null,
   "metadata": {
    "vscode": {
     "languageId": "shellscript"
    }
   },
   "outputs": [],
   "source": [
    "echo \"README files\"\n",
    "find $project -iname *README* # finds files in the project directory that have readme in the name\n",
    "\n",
    "echo \"\"\n",
    "echo \"jupyter notebook files\"\n",
    "find $project -iname *.ipynb # finds files in the project directory that have md as the file extension"
   ]
  },
  {
   "cell_type": "markdown",
   "metadata": {},
   "source": [
    "## Miscellaneous Commands\n",
    "\n",
    "- \"env\" shows environmental variables set in shell\n",
    "- \"sort\" sorts the output or contents of a file (can set specific flags)\n",
    "- \"head\"/\"tail\" outputs the first or last lines of a file"
   ]
  },
  {
   "cell_type": "markdown",
   "metadata": {},
   "source": [
    "# Hacks\n",
    "\n",
    "Possible bash automations:"
   ]
  },
  {
   "cell_type": "markdown",
   "metadata": {},
   "source": [
    "## Verifying Installation of Tools\n",
    "\n",
    "This is a simple bash script (a file with .sh file extension) that checks if a package is installed and installs it based on user input."
   ]
  },
  {
   "cell_type": "code",
   "execution_count": 1,
   "metadata": {
    "vscode": {
     "languageId": "shellscript"
    }
   },
   "outputs": [
    {
     "name": "stdout",
     "output_type": "stream",
     "text": [
      "would you like to choose a package to check? [y/n] \n"
     ]
    }
   ],
   "source": [
    "#!/bin/bash\n",
    "while true;\n",
    "do\n",
    "    read -r -p \"would you like to choose a package to check? [y/n] \" option # asks and reads input of user if they want to see if package is installed\n",
    "    case $option in # uses input to see the results\n",
    "        y) \n",
    "        read -p \"Enter package to check: \" tools_verify # reads input for specific package\n",
    "        if [[ $(apt list --installed $tools_verify 2>/dev/null | tail -1) = *installed* ]]; then  # checks if the tool is installed\n",
    "            version_number=$(apt list --installed $tools_verify 2>/dev/null | tail -1 | cut -d \" \" -f 2) # finds the version number\n",
    "            echo \"$tools_verify is installed! The version number is $version_number.\"\n",
    "            echo \"\"\n",
    "        else\n",
    "            while true;\n",
    "            do\n",
    "                read -r -p \"$tools_verify is not installed! Would you like to install? [y/n] \" install_option\n",
    "                case $install_option in \n",
    "                    y)\n",
    "                    sudo apt-get install -y $tools_verify # installs the package\n",
    "                    version_number=$(apt list --installed $tools_verify 2>/dev/null | tail -1 | cut -d \" \" -f 2) # finds the version number\n",
    "                    echo \"$tools_verify is installed! The version number is $version_number.\"\n",
    "                    echo \"\"\n",
    "                    break # returns back to main loop of package to check\n",
    "                    ;;\n",
    "                    n)\n",
    "                    echo \"alright then!\" \n",
    "                    break # returns back to main loop\n",
    "                    ;;\n",
    "                    *)\n",
    "                    echo \"Invalid Option\"\n",
    "                    ;;\n",
    "                esac\n",
    "            done\n",
    "        fi\n",
    "        ;;\n",
    "        n)\n",
    "        echo \"see you next time!\"\n",
    "        break # ends the script\n",
    "        ;;\n",
    "        *)\n",
    "        echo \"Invalid Option\" # throws user back to start of script\n",
    "        ;;\n",
    "    esac\n",
    "done"
   ]
  },
  {
   "cell_type": "markdown",
   "metadata": {},
   "source": [
    "## Conda Verifiying Packages Installed\n",
    "\n",
    "This code snippet checks if a package in conda is installed, and if not, installs it."
   ]
  },
  {
   "cell_type": "code",
   "execution_count": null,
   "metadata": {
    "vscode": {
     "languageId": "shellscript"
    }
   },
   "outputs": [],
   "source": [
    "export conda_package=jupyter # can be any package\n",
    "if [[ $(conda list $conda_package) = *$conda_package* ]]; then # matches package with list of installed\n",
    "    echo \"$conda_package is already installed!\"\n",
    "else\n",
    "    echo \"$conda_package has not been installed, installing now.\"\n",
    "    conda install $conda_package\n",
    "fi"
   ]
  },
  {
   "cell_type": "markdown",
   "metadata": {},
   "source": [
    "## Updating Repositories"
   ]
  },
  {
   "cell_type": "code",
   "execution_count": null,
   "metadata": {
    "vscode": {
     "languageId": "shellscript"
    }
   },
   "outputs": [],
   "source": [
    "export repository=blog # sets the repository to a specific one\n",
    "export repo_main_folder=vscode # where the repositories are stored\n",
    "cd $HOME/$repo_main_folder/$blog # moves into that directory\n",
    "git fetch origin # fetches any changes\n",
    "git pull origin master # updates the repo with new changes"
   ]
  }
 ],
 "metadata": {
  "kernelspec": {
   "display_name": "Bash",
   "language": "bash",
   "name": "bash"
  },
  "language_info": {
   "codemirror_mode": "shell",
   "file_extension": ".sh",
   "mimetype": "text/x-sh",
   "name": "bash"
  },
  "orig_nbformat": 4
 },
 "nbformat": 4,
 "nbformat_minor": 2
}
