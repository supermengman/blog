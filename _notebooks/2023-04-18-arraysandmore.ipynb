{
 "cells": [
  {
   "attachments": {},
   "cell_type": "markdown",
   "metadata": {},
   "source": [
    "# Arrays and 2D Arrays\n",
    "\n",
    "- toc: false\n",
    "- badges: true\n",
    "- categories: [cb,arrays,lesson]\n",
    "- author: Macro Monkeys"
   ]
  },
  {
   "attachments": {},
   "cell_type": "markdown",
   "metadata": {},
   "source": [
    "### Arrays\n",
    "Arrays are 10-15% of the exam, so it is very important to understand the basics of arrays. Collegeboard will typically test you on:\n",
    "- Representing multiple items as array objects\n",
    "- Traversing an array by accessing the elements using iteration statements\n",
    "- Standard algorithms that utilize array traversals to perform functions"
   ]
  },
  {
   "attachments": {},
   "cell_type": "markdown",
   "metadata": {},
   "source": [
    "### Array Basics\n",
    "An array can contain primitives (int, char, etc) and object references of a class. Primitive data types have their actual values stored in contiguous memory  location. They are useful when you need to store a large number of values of the same type.\n",
    "\n",
    "Arrays can also be used to store objects of a class. In this case, the array stores the reference to the object.\n",
    "\n",
    "Important things to note are that:\n",
    "- Arrays are fixed in size\n",
    "- They are zero-indexed, meaning the first element is at index 0 not 1\n",
    "- Arrays can be used as a static field, local variable, or method parameter\n",
    "\n",
    "![array](https://media.geeksforgeeks.org/wp-content/uploads/Arrays1.png)"
   ]
  },
  {
   "cell_type": "code",
   "execution_count": 9,
   "metadata": {
    "vscode": {
     "languageId": "java"
    }
   },
   "outputs": [
    {
     "name": "stdout",
     "output_type": "stream",
     "text": [
      "length 4\n",
      "initialized element 2\n"
     ]
    }
   ],
   "source": [
    "//BASIC ARRAY CONCEPTS\n",
    "\n",
    "//Declare an array and then allocate memory\n",
    "int myArray[];\n",
    "myArray = new int[4];\n",
    "\n",
    "//Declare while directly assign values\n",
    "int[] myArray1 = new int[]{ 1, 6, 7, 9};\n",
    "\n",
    "// Print the length of an array\n",
    "System.out.println(\"length \" + myArray1.length);\n",
    "\n",
    "\n",
    "//Initialize element\n",
    "myArray[0] = 2;\n",
    "System.out.println(\"initialized element \" + myArray[0]);\n",
    "\n",
    "//Create an array of objects\n",
    "Object[] arr = new Object[5];"
   ]
  },
  {
   "attachments": {},
   "cell_type": "markdown",
   "metadata": {},
   "source": [
    "As seen above, there are some important methods that are used to manipulate and access arrays. The most important/common one is probably going to be the length method. \n",
    "\n",
    "Evidently, the method returns the length of the array, and it has multitudes of uses when traversing through the array, as seen below."
   ]
  },
  {
   "attachments": {},
   "cell_type": "markdown",
   "metadata": {},
   "source": [
    "### Traversing an Array\n",
    "Common ways to traverse an array include for loops and enhanced for loops:\n",
    "- A for loop allows you to access the index, and manipulations can be done by changing the incrementer (ie. i+=2 instead of i++)\n",
    "- An enhanced for loop is simpler but you CANNOT access the index, only the value"
   ]
  },
  {
   "cell_type": "code",
   "execution_count": 3,
   "metadata": {
    "vscode": {
     "languageId": "java"
    }
   },
   "outputs": [
    {
     "name": "stdout",
     "output_type": "stream",
     "text": [
      "Looping through array by incrementing value of i\n",
      "0 0\n",
      "1 6\n",
      "2 8\n",
      "3 2\n",
      "\n",
      "Looping through array by using enhanced for loop\n",
      "0\n",
      "6\n",
      "8\n",
      "2\n"
     ]
    }
   ],
   "source": [
    "//Basic for loop to print elements of array\n",
    "int[] arr1 = {0, 6, 8, 2};\n",
    "\n",
    "// Looping through array by incrementing value of i\n",
    "//'i' is an index of array 'arr1'\n",
    "System.out.println(\"Looping through array by incrementing value of i\");\n",
    "for (int i = 0; i < arr1.length; i++) {\n",
    "\n",
    "    // Print array element present at index i\n",
    "    System.out.println(i + \" \" + arr1[i]);\n",
    "\n",
    "}\n",
    "\n",
    "System.out.println();\n",
    "// NOTE: You may also use an enhanced for loop\n",
    "\n",
    "System.out.println(\"Looping through array by using enhanced for loop\");\n",
    "for(int value: arr1){\n",
    "    System.out.println(value);\n",
    "}\n"
   ]
  },
  {
   "attachments": {},
   "cell_type": "markdown",
   "metadata": {},
   "source": [
    "When traversing an array, it is often in a method that takes in the array as an input. Why can the method actually change the array?\n",
    "\n",
    "The answer is that the array is a reference type, and the method is passed a reference to the array. This means that the method can change the array by changing the values of the elements in the array directly, instead of being copied like a pass by value."
   ]
  },
  {
   "attachments": {},
   "cell_type": "markdown",
   "metadata": {},
   "source": [
    "# Hack: Create method that sets all elements in array to n"
   ]
  },
  {
   "cell_type": "code",
   "execution_count": 14,
   "metadata": {
    "vscode": {
     "languageId": "java"
    }
   },
   "outputs": [
    {
     "name": "stdout",
     "output_type": "stream",
     "text": [
      "0\n",
      "0\n",
      "0\n",
      "0\n",
      "0\n",
      "0\n",
      "0\n",
      "0\n",
      "0\n",
      "0\n"
     ]
    }
   ],
   "source": [
    "void setArray(int[] arr, int n) {\n",
    "    // your code here\n",
    "}\n",
    "\n",
    "int[] array = new int[10];\n",
    "setArray(array, 10);\n",
    "\n",
    "for (int i = 0; i<array.length; i++) {\n",
    "    System.out.println(array[i]);\n",
    "}\n",
    "\n",
    "// Should print all 10s when working properly\n"
   ]
  },
  {
   "attachments": {},
   "cell_type": "markdown",
   "metadata": {},
   "source": [
    "### Developing Algorithms Using Arrays\n",
    "Arrays are an essential part in developing algorithms. It is important to understand how to traverse an array and the structure of an array to accomplish this.\n",
    "\n",
    "There are lots of algorithms you can create,and CollegeBoard goes over a lot of good examples of this. They go over this in the 6.4 unit videos. "
   ]
  },
  {
   "cell_type": "code",
   "execution_count": 7,
   "metadata": {
    "vscode": {
     "languageId": "java"
    }
   },
   "outputs": [
    {
     "data": {
      "text/plain": [
       "10"
      ]
     },
     "execution_count": 7,
     "metadata": {},
     "output_type": "execute_result"
    }
   ],
   "source": [
    "//Example finding the max in an array. \n",
    "\n",
    "//Finds the maximum in an array\n",
    "public static int maximum(int[] array) {\n",
    "    //variable that holds value of max value\n",
    "    int maxValue = array[0];\n",
    "    //for each number in the array..\n",
    "    for (int number: array) {\n",
    "      //checks if current index is greater than maxValue\n",
    "      if (number > maxValue) {\n",
    "        //if new max value found, replace current maxValue\n",
    "        maxValue = number;\n",
    "      }\n",
    "    }\n",
    "    return maxValue;\n",
    "  }\n",
    "\n",
    "//tester array\n",
    "int[] test = {3, 5, 7, 2, 10};\n",
    "\n",
    "//returns 10\n",
    "maximum(test);"
   ]
  },
  {
   "attachments": {},
   "cell_type": "markdown",
   "metadata": {},
   "source": [
    "Generally, when you are coding algorithms using arrays you will probably use some traversal element. The key thing to think about is what you want to do for each element, because once you have a repeatable action you can just put it in a for loop. You also want to consider which elements you actually want to look at beacuse in some causes you may want to skip some elements."
   ]
  },
  {
   "attachments": {},
   "cell_type": "markdown",
   "metadata": {},
   "source": [
    "## Think?: What should be changed in the code above to find the minimum?"
   ]
  },
  {
   "attachments": {},
   "cell_type": "markdown",
   "metadata": {},
   "source": [
    "## Hack: Write an array to find the average of an array"
   ]
  },
  {
   "cell_type": "code",
   "execution_count": 6,
   "metadata": {
    "vscode": {
     "languageId": "java"
    }
   },
   "outputs": [
    {
     "name": "stdout",
     "output_type": "stream",
     "text": [
      "0\n"
     ]
    }
   ],
   "source": [
    "//Example finding the max in an array. \n",
    "\n",
    "//Finds the maximum in an array\n",
    "public static int average(int[] array) {\n",
    "    // put your code here\n",
    "    return 0;\n",
    "}\n",
    "\n",
    "//tester array\n",
    "int[] test = {3, 5, 7, 2, 10};\n",
    "\n",
    "//returns 10\n",
    "System.out.println(average(test));"
   ]
  },
  {
   "attachments": {},
   "cell_type": "markdown",
   "metadata": {},
   "source": [
    "### 2-D Arrays\n",
    "2-D arrays are 7.5-10% of the exam, so they are also very important to know for the AP exam. Many concepts of 2-D arrays rely on a solid understanding of arrays. \n",
    "\n",
    "A 2-D array is an array of arrays, and store data similar to a row and column fashion. This is also how java stores data in a 2d array.\n",
    "\n",
    "Length is determined by the number of rows in the array, which is also the number of arrays in the 2-D array.\n",
    "\n",
    "Columns is based on the size of each row of an array and can be determined based on the number of elements in the first row. "
   ]
  },
  {
   "attachments": {},
   "cell_type": "markdown",
   "metadata": {},
   "source": [
    "### 2-D Array Basics"
   ]
  },
  {
   "cell_type": "code",
   "execution_count": 1,
   "metadata": {
    "vscode": {
     "languageId": "java"
    }
   },
   "outputs": [
    {
     "data": {
      "text/plain": [
       "0"
      ]
     },
     "execution_count": 1,
     "metadata": {},
     "output_type": "execute_result"
    }
   ],
   "source": [
    "//create a new 2-d array (default to all 0s)\n",
    "int[][] twoDArray = new int[3][3];\n",
    "\n",
    "//access the value at row 2 column 1\n",
    "twoDArray[1][0];\n",
    "\n",
    "//get value at the end of a 2-d array\n",
    "// (twoDArray.length - 1) gets how many arrays (rows)\n",
    "// (twoDArray[0].length - 1) gets how many elements in first array (columns)\n",
    "twoDArray[twoDArray.length - 1][twoDArray[0].length - 1];"
   ]
  },
  {
   "attachments": {},
   "cell_type": "markdown",
   "metadata": {},
   "source": [
    "The 2D array is useful to represent a matrix as well, which then can be accessed by the rows and columns. This is a good way to visualize a 2d array. Here, I will show an example of how a \"grid\" looks like + initialization"
   ]
  },
  {
   "cell_type": "code",
   "execution_count": 16,
   "metadata": {
    "vscode": {
     "languageId": "java"
    }
   },
   "outputs": [],
   "source": [
    "// GRID of our array\n",
    "// 4 5 6\n",
    "// 7 8 9\n",
    "// 1 2 3\n",
    "\n",
    "// Initializing our array\n",
    "int[][] twoDArray = {\n",
    "    {4,5,6},\n",
    "    {7,8,9},\n",
    "    {1,2,3}\n",
    "}"
   ]
  },
  {
   "attachments": {},
   "cell_type": "markdown",
   "metadata": {},
   "source": [
    "### Traversing 2-D Arrays\n",
    "2-D arrays are traversed similarly to arrays in that you will primarily use for and while loops. However, since there are both rows and columns now, you will need to use nested for loops or nested enhanced for loops. "
   ]
  },
  {
   "cell_type": "code",
   "execution_count": 17,
   "metadata": {
    "vscode": {
     "languageId": "java"
    }
   },
   "outputs": [
    {
     "name": "stdout",
     "output_type": "stream",
     "text": [
      "1 2 3 \n",
      "4 6 7 \n",
      "8 9 10 \n"
     ]
    }
   ],
   "source": [
    "//Prints the 2-d array\n",
    "public static void print2D(int mat[][])\n",
    "    {\n",
    "        // For each row of the array (goes one array at a time)\n",
    "        for (int row = 0; row < twoDArray1.length; row++) {\n",
    " \n",
    "            //Goes through each element of the array\n",
    "            for (int column = 0; column < twoDArray1[row].length; column++)\n",
    "                System.out.print(mat[row][column] + \" \");\n",
    "\n",
    "            // runs for every row (not every element)\n",
    "            System.out.println();\n",
    "        }\n",
    "    }\n",
    "\n",
    "    int twoDArray1[][] = { { 1, 2, 3 },\n",
    "                           { 4, 6, 7 },\n",
    "                           { 8, 9, 10} };\n",
    " \n",
    "print2D(twoDArray1);"
   ]
  },
  {
   "attachments": {},
   "cell_type": "markdown",
   "metadata": {},
   "source": [
    "When traversing 2-D arrays it is important to note wether the code is in row-major or column-major order. This basically indicates what the outer for loop of the method is traversing.\n",
    "\n",
    "If the outer loop is going by column, its in column major order. If the outer loop is going by row, its in row-major order.\n",
    "\n",
    "The code example above is in row-major order.\n",
    "\n",
    "In addition, also notice how the column is compared to twoDArray[0].length. This is because the number of columns is based on the number of elements in the first row.\n",
    "\n",
    "Now, a for each loop:"
   ]
  },
  {
   "cell_type": "code",
   "execution_count": 10,
   "metadata": {
    "vscode": {
     "languageId": "java"
    }
   },
   "outputs": [
    {
     "name": "stdout",
     "output_type": "stream",
     "text": [
      "1 2 3 \n",
      "4 6 7 \n",
      "8 9 10 \n"
     ]
    }
   ],
   "source": [
    "public static void print2DForEach(int mat[][])\n",
    "    {\n",
    "        // For each row of the array (goes one array at a time)\n",
    "        for (int[] row : mat) {\n",
    " \n",
    "            //Goes through each element of the array\n",
    "            for (int column : row)\n",
    "                System.out.print(column + \" \");\n",
    "\n",
    "            // runs for every row (not every element)\n",
    "            System.out.println();\n",
    "        }\n",
    "    }\n",
    "\n",
    "    int twoDArray1[][] = { { 1, 2, 3 },\n",
    "                           { 4, 6, 7 },\n",
    "                           { 8, 9, 10} };\n",
    " \n",
    "print2DForEach(twoDArray1);"
   ]
  },
  {
   "attachments": {},
   "cell_type": "markdown",
   "metadata": {},
   "source": [
    "When you are traversing, again make sure to consider the pros/cons of for vs enhanced for loop (for loop allows you to mess with index). This can be useful to again think about which elements you actually want to take actions on. Furthermore, you may also consider actions that you only want to do for every row, or every column. This could be opposed to every element, in which case you would put it in the outer for loop (see the ``System.out.println()`` in above code)"
   ]
  },
  {
   "attachments": {},
   "cell_type": "markdown",
   "metadata": {},
   "source": [
    "# Think: What would this code print and why (without running it yourself)?"
   ]
  },
  {
   "attachments": {},
   "cell_type": "markdown",
   "metadata": {},
   "source": [
    "```java\n",
    "public static void main(String[] args){\n",
    "    int[][] arrayOne = new int[5][7];\n",
    "    for (int row = 0; row < arrayOne.length; row++){\n",
    "        for (int col = 0; col < arrayOne[row].length; col++){\n",
    "            arrayOne[row][col] = row+col - 1;\n",
    "        }\n",
    "    }\n",
    "\n",
    "    System.out.println(arrayOne[4][6]);\n",
    "}\n",
    "```"
   ]
  },
  {
   "attachments": {},
   "cell_type": "markdown",
   "metadata": {},
   "source": [
    "# 2D Array Algorithms\n",
    "\n",
    "The algorithms from arrays can also be applied to 2D arrays. For instance, the counting and searching algorithms work similarly, but you just need to consider the rows and columns and iterate through those."
   ]
  },
  {
   "attachments": {},
   "cell_type": "markdown",
   "metadata": {},
   "source": [
    "# Hack: Find the average number of a diagonal in a 2d array\n",
    "For example, here find the average of the bolded #s<br>\n",
    "**1** 2 3 4<br>\n",
    "5 **6** 7 8<br>\n",
    "9 1 **2** 3<br>"
   ]
  },
  {
   "cell_type": "code",
   "execution_count": 12,
   "metadata": {
    "vscode": {
     "languageId": "java"
    }
   },
   "outputs": [
    {
     "name": "stdout",
     "output_type": "stream",
     "text": [
      "0\n"
     ]
    }
   ],
   "source": [
    "public static int averageDiagonal (int[][] array2D) {\n",
    "    // your code here\n",
    "    return 0;\n",
    "}\n",
    "\n",
    "int[][] arr = {\n",
    "    {1,2,3,4,5,6},\n",
    "    {7,8,9,10,11,12},\n",
    "    {0,1,2,3,4,5},\n",
    "    {10,11,12,13,14,15},\n",
    "    {15,16,17,18,19,20}\n",
    "};\n",
    "\n",
    "System.out.println(averageDiagonal(arr));"
   ]
  }
 ],
 "metadata": {
  "kernelspec": {
   "display_name": "Java",
   "language": "java",
   "name": "java"
  },
  "language_info": {
   "codemirror_mode": "java",
   "file_extension": ".jshell",
   "mimetype": "text/x-java-source",
   "name": "Java",
   "pygments_lexer": "java",
   "version": "17.0.4+8-Ubuntu-120.04"
  },
  "orig_nbformat": 4
 },
 "nbformat": 4,
 "nbformat_minor": 2
}
