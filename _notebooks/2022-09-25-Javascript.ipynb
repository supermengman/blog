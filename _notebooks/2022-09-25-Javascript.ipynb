{
 "cells": [
  {
   "cell_type": "markdown",
   "metadata": {},
   "source": [
    "# JavaScript Frontend\n",
    "> cusing Javascript for UI elements\n",
    "\n",
    "- toc: true \n",
    "- badges: true\n",
    "- comments: true\n",
    "- categories: [jupyter,javascript,pbl]"
   ]
  },
  {
   "cell_type": "code",
   "execution_count": 1,
   "metadata": {},
   "outputs": [],
   "source": [
    "function logItType(output) {\n",
    "    console.log(typeof output, \";\", output);\n",
    "}"
   ]
  },
  {
   "cell_type": "markdown",
   "metadata": {},
   "source": [
    "This above code helps me to debug code and check outputs."
   ]
  },
  {
   "cell_type": "code",
   "execution_count": 2,
   "metadata": {},
   "outputs": [
    {
     "name": "stdout",
     "output_type": "stream",
     "text": [
      "object ; Person {\n",
      "  name: 'Krish P',\n",
      "  grade: 11,\n",
      "  school: 'Del Norte High School',\n",
      "  role: '',\n",
      "  category: [ 'Anatomy', 'Codebusters' ] }\n",
      "string ; {\"name\":\"Krish P\",\"grade\":11,\"school\":\"Del Norte High School\",\"role\":\"\",\"category\":[\"Anatomy\",\"Codebusters\"]}\n",
      "object ; Person {\n",
      "  name: 'Krish P',\n",
      "  grade: 11,\n",
      "  school: 'Del Norte High School',\n",
      "  role: 'Instructor',\n",
      "  category: [ 'Anatomy', 'Codebusters' ] }\n",
      "string ; {\"name\":\"Krish P\",\"grade\":11,\"school\":\"Del Norte High School\",\"role\":\"Instructor\",\"category\":[\"Anatomy\",\"Codebusters\"]}\n"
     ]
    }
   ],
   "source": [
    "// define a function to hold data for a Person\n",
    "class Person {\n",
    "    constructor(name, grade, school, category) {\n",
    "        this.name = name;\n",
    "        this.grade = grade;\n",
    "        this.school = school;\n",
    "        this.role = \"\";\n",
    "        this.category = category;\n",
    "    }\n",
    "    // define a setter for role in Person data\n",
    "    setRole(role) {\n",
    "        this.role = role;\n",
    "    }\n",
    "    // define a JSON conversion \"method\" associated with Person\n",
    "    toJSON() {\n",
    "        const obj = { name: this.name, grade: this.grade, school: this.school, role: this.role, category: this.category };\n",
    "        const json = JSON.stringify(obj); // json/string is useful when passing data on internet\n",
    "        return json;\n",
    "    }\n",
    "}\n",
    "\n",
    "\n",
    "\n",
    "// make a new Person and assign to variable teacher\n",
    "var instructor = new Person(\"Krish P\", 11, \"Del Norte High School\", [\"Anatomy\", \"Codebusters\"]);  // object type is easy to work with in JavaScript\n",
    "logItType(instructor);  // before role\n",
    "logItType(instructor.toJSON());  // ok to do this even though role is not yet defined\n",
    "\n",
    "// output of Object and JSON/string associated with Teacher\n",
    "instructor.setRole(\"Instructor\");   // set the role\n",
    "logItType(instructor); \n",
    "logItType(instructor.toJSON());"
   ]
  },
  {
   "cell_type": "markdown",
   "metadata": {},
   "source": [
    "I made the Person into a class definition, easier to read than the function. It is quite similar to Java, with getters and setters like setRole."
   ]
  },
  {
   "cell_type": "code",
   "execution_count": 3,
   "metadata": {},
   "outputs": [
    {
     "data": {
      "text/plain": [
       "[Function: SciolyRoster]"
      ]
     },
     "execution_count": 3,
     "metadata": {},
     "output_type": "execute_result"
    }
   ],
   "source": [
    "var students = [\n",
    "    new Person(\"Don T\", 11, \"Del Norte High School\", [\"Bridge\", \"Roller Coaster\"]),\n",
    "    new Person(\"Rohan G\", 11, \"Del Norte High School\", [\"Fast Facts\"]),\n",
    "    new Person(\"John Doe\", 11, \"Oak Valley Middle School\", [\"Crave The Wave\"])\n",
    "];\n",
    "\n",
    "class SciolyRoster {\n",
    "    constructor(instructor, students) {\n",
    "        // set instructors\n",
    "        instructor.setRole(\"Instructor\");\n",
    "        this.instructor = instructor;\n",
    "        // set students\n",
    "        this.students = students;\n",
    "\n",
    "        // initiate the array for roster\n",
    "        this.roster = [instructor];\n",
    "\n",
    "        // add all students to the array\n",
    "        this.students.forEach(student => { student.setRole(\"Student\"); this.roster.push(student); });\n",
    "\n",
    "        // convert to JSON\n",
    "        this.json = [];\n",
    "        this.roster.forEach(person => this.json.push(person.toJSON()));\n",
    "    }\n",
    "}\n",
    "\n"
   ]
  },
  {
   "cell_type": "markdown",
   "metadata": {},
   "source": [
    "Creating a list of students to use, and then also making a class definition for easier reading."
   ]
  },
  {
   "cell_type": "code",
   "execution_count": 4,
   "metadata": {},
   "outputs": [
    {
     "name": "stdout",
     "output_type": "stream",
     "text": [
      "object ; [ '{\"name\":\"Krish P\",\"grade\":11,\"school\":\"Del Norte High School\",\"role\":\"Instructor\",\"category\":[\"Anatomy\",\"Codebusters\"]}',\n",
      "  '{\"name\":\"Don T\",\"grade\":11,\"school\":\"Del Norte High School\",\"role\":\"Student\",\"category\":[\"Bridge\",\"Roller Coaster\"]}',\n",
      "  '{\"name\":\"Rohan G\",\"grade\":11,\"school\":\"Del Norte High School\",\"role\":\"Student\",\"category\":[\"Fast Facts\"]}',\n",
      "  '{\"name\":\"John Doe\",\"grade\":11,\"school\":\"Oak Valley Middle School\",\"role\":\"Student\",\"category\":[\"Crave The Wave\"]}' ]\n"
     ]
    }
   ],
   "source": [
    "roster2021 = new SciolyRoster(instructor, students);\n",
    "\n",
    "logItType(roster2021.json);"
   ]
  },
  {
   "cell_type": "code",
   "execution_count": 6,
   "metadata": {},
   "outputs": [
    {
     "data": {
      "text/html": [
       "<div style='display:inline-block;border: 2px solid black;box-shadow: 0.8em 0.4em 0.4em grey;'><header>2021 Roster</header><table><tr><th><mark>Name</mark></th><th><mark>Grade</mark></th><th><mark>School</mark></th><th><mark>Role</mark></th><th><mark>Category</mark></th></tr><tr><td>Krish P</td><td>11</td><td>Del Norte High School</td><td>Instructor</td><td>Anatomy,Codebusters</td><tr><tr><td>Don T</td><td>11</td><td>Del Norte High School</td><td>Student</td><td>Bridge,Roller Coaster</td><tr><tr><td>Rohan G</td><td>11</td><td>Del Norte High School</td><td>Student</td><td>Fast Facts</td><tr><tr><td>John Doe</td><td>11</td><td>Oak Valley Middle School</td><td>Student</td><td>Crave The Wave</td><tr></table></div>"
      ]
     },
     "execution_count": 6,
     "metadata": {},
     "output_type": "execute_result"
    }
   ],
   "source": [
    "SciolyRoster.prototype._toHtml = function() {\n",
    "    var style = (\n",
    "        \"display:inline-block;\" + \n",
    "        \"border: 2px solid black;\" + \n",
    "        \"box-shadow: 0.8em 0.4em 0.4em grey;\"\n",
    "    );\n",
    "\n",
    "    var body = \"\";\n",
    "\n",
    "    // set up top row of table\n",
    "    body += \"<tr>\";\n",
    "    body += \"<th><mark>\" + \"Name\" + \"</mark></th>\";\n",
    "    body += \"<th><mark>\" + \"Grade\" + \"</mark></th>\";\n",
    "    body += \"<th><mark>\" + \"School\" + \"</mark></th>\";\n",
    "    body += \"<th><mark>\" + \"Role\" + \"</mark></th>\";\n",
    "    body += \"<th><mark>\" + \"Category\" + \"</mark></th>\";\n",
    "    body += \"</tr>\";\n",
    "\n",
    "    for (var row in roster2021.roster) {\n",
    "         // tr for each row, a new line\n",
    "        body += \"<tr>\";\n",
    "        // td for each column of data\n",
    "        body += \"<td>\" + roster2021.roster[row].name + \"</td>\";\n",
    "        body += \"<td>\" + roster2021.roster[row].grade + \"</td>\";\n",
    "        body += \"<td>\" + roster2021.roster[row].school + \"</td>\";\n",
    "        body += \"<td>\" + roster2021.roster[row].role + \"</td>\";\n",
    "        body += \"<td>\" + roster2021.roster[row].category + \"</td>\";\n",
    "        // tr to end line\n",
    "        body += \"<tr>\";\n",
    "    }\n",
    "\n",
    "\n",
    "    return (\n",
    "        \"<div style='\" + style + \"'>\" +\n",
    "          \"<header>2021 Roster</header>\" + \n",
    "          \"<table>\" +\n",
    "            body +\n",
    "          \"</table>\" +\n",
    "        \"</div>\"\n",
    "      );\n",
    "\n",
    "    \n",
    "}\n",
    "\n",
    "$$.html(roster2021._toHtml());"
   ]
  },
  {
   "cell_type": "markdown",
   "metadata": {},
   "source": [
    "As seen, this allows me to print the people in Scioly 2021 with a nice title at the start as well as extra categories for the event and school. Most of the data structure is similar to the person code in Mr Morts javascript, but they are class definitions instead of functions. This makes it easier to read and see within the funciton itself."
   ]
  }
 ],
 "metadata": {
  "kernelspec": {
   "display_name": "JavaScript (Node.js)",
   "language": "javascript",
   "name": "javascript"
  },
  "language_info": {
   "file_extension": ".js",
   "mimetype": "application/javascript",
   "name": "javascript",
   "version": "6.11.2"
  },
  "orig_nbformat": 4,
  "vscode": {
   "interpreter": {
    "hash": "8cc4d25c8c0def48b4f635951cc59cef2f8f13a91d5d54e0947f49ef2f11e990"
   }
  }
 },
 "nbformat": 4,
 "nbformat_minor": 2
}
