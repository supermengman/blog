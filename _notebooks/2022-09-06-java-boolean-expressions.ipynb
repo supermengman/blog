{
 "cells": [
  {
   "cell_type": "markdown",
   "metadata": {},
   "source": [
    "# Boolean Expressions\n",
    "> Documenting learning of conditionals\n",
    "\n",
    "- toc: true \n",
    "- badges: true\n",
    "- comments: true\n",
    "- categories: [jupyter,java,collegeboard]"
   ]
  },
  {
   "cell_type": "markdown",
   "metadata": {},
   "source": [
    "# If Statements\n"
   ]
  },
  {
   "cell_type": "markdown",
   "metadata": {},
   "source": [
    "## If\n",
    "\n",
    "If is a conditional statement, meaning it will only execute code within the block if the statement is true. If the code executed within the condition returns true, then code will run. This code in the conditional can be very complex, or could even be a whole method call. It just needs to return true or false."
   ]
  },
  {
   "cell_type": "code",
   "execution_count": 4,
   "metadata": {},
   "outputs": [
    {
     "name": "stdout",
     "output_type": "stream",
     "text": [
      "yes\n",
      "yes!\n"
     ]
    }
   ],
   "source": [
    "import java.util.Scanner;\n",
    "\n",
    "public class cheese {\n",
    "    public static void main(String[] args) {\n",
    "        Scanner yesNoScan = new Scanner(System.in); // scanner initiate\n",
    "        String yesNo =  yesNoScan.nextLine();\n",
    "        System.out.println(yesNo);\n",
    "        \n",
    "        // if statement: if matches yes, then say yes\n",
    "        if (yesNo.matches(\"yes\")) {\n",
    "            System.out.println(\"yes!\");\n",
    "        }\n",
    "    }\n",
    "}\n",
    "\n",
    "cheese.main(null);"
   ]
  },
  {
   "cell_type": "markdown",
   "metadata": {},
   "source": [
    "As seen in this example, the program calls for user input. If the user inputs yes, the condition returns true, and the code block runs. The console will say \"yes!\""
   ]
  },
  {
   "cell_type": "markdown",
   "metadata": {},
   "source": [
    "## If-else\n",
    "\n",
    "If-else builds off of an if statement, but adds the else part. If the condition in the if statement is false, then the code in the else block will execute instead. The else does not have a conditional."
   ]
  },
  {
   "cell_type": "code",
   "execution_count": 5,
   "metadata": {},
   "outputs": [
    {
     "name": "stdout",
     "output_type": "stream",
     "text": [
      "nope\n",
      "not yes :(\n"
     ]
    }
   ],
   "source": [
    "import java.util.Scanner;\n",
    "\n",
    "public class cheese {\n",
    "    public static void main(String[] args) {\n",
    "        Scanner yesNoScan = new Scanner(System.in); // scanner initiate\n",
    "        String yesNo =  yesNoScan.nextLine();\n",
    "        System.out.println(yesNo);\n",
    "        \n",
    "        // if statement: if matches yes, then say yes\n",
    "        if (yesNo.matches(\"yes\")) {\n",
    "            System.out.println(\"yes!\");\n",
    "        } else { // if not yes, then print that\n",
    "            System.out.println(\"not yes :(\");\n",
    "        }\n",
    "    }\n",
    "}\n",
    "\n",
    "cheese.main(null);"
   ]
  },
  {
   "cell_type": "markdown",
   "metadata": {},
   "source": [
    "As seen, when an input that isn't yes is entered, the \"not yes :(\" is triggered to run."
   ]
  },
  {
   "cell_type": "markdown",
   "metadata": {},
   "source": [
    "## If-elseif-else\n",
    "\n",
    "This code structure combines both if and else statements. If the first conditional under the if statement returns false, then it goes to the next part: else if. The else if does have a conditional, basically a second conditional to check if the first one is false. If that one is true, it will run the code, but if not, it goes to the next block. There can be an indefinite chain of elseifs, but they always run from top to bottom and the statement exits if one of them is true. If they all return false, the else statement at the end will execute the code if everything is false."
   ]
  },
  {
   "cell_type": "code",
   "execution_count": 8,
   "metadata": {},
   "outputs": [
    {
     "name": "stdout",
     "output_type": "stream",
     "text": [
      "fdasdfagsa\n",
      "bruh u messed up\n"
     ]
    }
   ],
   "source": [
    "import java.util.Scanner;\n",
    "\n",
    "public class cheese {\n",
    "    public static void main(String[] args) {\n",
    "        Scanner yesNoScan = new Scanner(System.in); // scanner initiate\n",
    "        String yesNo =  yesNoScan.nextLine();\n",
    "        System.out.println(yesNo);\n",
    "        \n",
    "        // if statement: if matches yes, then say yes\n",
    "        if (yesNo.matches(\"yes\")) {\n",
    "            System.out.println(\"yes!\");\n",
    "        } else if (yesNo.matches(\"no\")) { // if no, then print\n",
    "            System.out.println(\"no? :(\");\n",
    "        } else { // if not yes or no\n",
    "            System.out.println(\"bruh u messed up\");\n",
    "        }\n",
    "    }\n",
    "}\n",
    "\n",
    "cheese.main(null);"
   ]
  },
  {
   "cell_type": "markdown",
   "metadata": {},
   "source": [
    "As seen above, when it is neither yes or no, it outpus the else block of code."
   ]
  },
  {
   "cell_type": "markdown",
   "metadata": {},
   "source": [
    "## Switch Case\n",
    "\n",
    "Sometimes, when you only need to test expressions matching only a single integer, value, or String, a Switch Case is the better option. It is similar to an if-elseif-elseif...-else chain, except it has less functionality. \n",
    "\n",
    "In an if-elseif chain, each section has its own conditional. These conditionals can be extremely complex and do not have to relate to each other at all. However, in a switch case, the switch takes in an input, and then checks against the \"cases\". Basically, the conditionals in all of the cases are only determining whether the input matches the set case. \n",
    "\n",
    "For example, to match a string in if-elseif, it would look something like:"
   ]
  },
  {
   "cell_type": "code",
   "execution_count": 4,
   "metadata": {},
   "outputs": [
    {
     "name": "stdout",
     "output_type": "stream",
     "text": [
      "Type a type of cheese, and find out the best meat to pair it with: \n",
      "gouda\n",
      "salami\n"
     ]
    }
   ],
   "source": [
    "import java.util.Scanner;\n",
    "\n",
    "public class cheesePicker {\n",
    "    public static void main(String[] args) {\n",
    "        System.out.println(\"Type a type of cheese, and find out the best meat to pair it with: \");\n",
    "        Scanner cheeseScan = new Scanner(System.in); // scanner initiate\n",
    "        String cheese =  cheeseScan.nextLine();\n",
    "        System.out.println(cheese);\n",
    "        \n",
    "        // if statement: if matches types of cheese, say the sandwich\n",
    "        if (cheese.matches(\"gouda\")) {\n",
    "            System.out.println(\"salami\");\n",
    "        } else if (cheese.matches(\"parmesan\")) { \n",
    "            System.out.println(\"prosciutto\");\n",
    "        } else if (cheese.matches(\"havarti\")) { \n",
    "            System.out.println(\"soppressata\");\n",
    "        } else if (cheese.matches(\"monterey jack\")) { \n",
    "            System.out.println(\"salami\");\n",
    "        } else if (cheese.matches(\"ricotta\")) { \n",
    "            System.out.println(\"ground beef\");\n",
    "        } else {\n",
    "            System.out.println(\"search it up\");\n",
    "        }\n",
    "    }\n",
    "}\n",
    "\n",
    "cheesePicker.main(null); "
   ]
  },
  {
   "cell_type": "markdown",
   "metadata": {},
   "source": [
    "However, by using switch case, these conditionals can be made more readable as they are just matching strings:"
   ]
  },
  {
   "cell_type": "code",
   "execution_count": 11,
   "metadata": {},
   "outputs": [
    {
     "name": "stdout",
     "output_type": "stream",
     "text": [
      "Type a type of cheese, and find out the best meat to pair it with: \n",
      "monterey jack\n",
      "salami\n"
     ]
    }
   ],
   "source": [
    "import java.util.Scanner;\n",
    "\n",
    "public class cheesePickerCase {\n",
    "    public static void main(String[] args) {\n",
    "        System.out.println(\"Type a type of cheese, and find out the best meat to pair it with: \");\n",
    "        Scanner cheeseScan = new Scanner(System.in); // scanner initiate\n",
    "        String cheese =  cheeseScan.nextLine();\n",
    "        System.out.println(cheese);\n",
    "        \n",
    "        // switch case: take cheese as input, check against list of cheeses\n",
    "        switch (cheese) {\n",
    "            case \"gouda\":\n",
    "                System.out.println(\"salami\");\n",
    "                break; // break to get out of switch, so no default case\n",
    "            case \"parmesan\":\n",
    "                System.out.println(\"prosciutto\");\n",
    "                break;\n",
    "            case \"havarti\":\n",
    "                System.out.println(\"soppressata\");\n",
    "                break;\n",
    "            case \"monterey jack\":\n",
    "                System.out.println(\"salami\");\n",
    "                break;\n",
    "            case \"ricotta\":\n",
    "                System.out.println(\"ground beef\");\n",
    "                break;\n",
    "\n",
    "            default: // case if nothing matches\n",
    "                System.out.println(\"google it\");\n",
    "        }\n",
    "       \n",
    "    }\n",
    "}\n",
    "\n",
    "cheesePickerCase.main(null);"
   ]
  },
  {
   "cell_type": "markdown",
   "metadata": {},
   "source": [
    "# De Morgan's Law\n",
    "\n",
    "These are laws named after Augustus De Morgan, a 19th C British Mathemetician. It uses the NOT operator, which takes precedent over AND and OR. It can be used to simplify expressions of true and false, and as boolean values are being compared in an if conditional, applying De Morgan's law to simplify a program's logic will be very helpful.\n",
    "\n",
    "Overall, the idea is that: when distributing or factoring a negation from a boolean expression, the operators all switch. || changes to && and vice versa. In addition, < changes to =>, and vice versa. [PunApps AP Comp Sci](https://sites.google.com/a/punahou.edu/apcompsci/exam-review/boolean-operators-and-demorgan-s-laws)\n",
    "\n",
    "In addition:\n",
    "- < becomes >=\n",
    "- \\> becomes <=\n",
    "- == becomes !=\n",
    "- <= becomes >\n",
    "- \\>= becomes <\n",
    "- != becomes ==\n",
    "\n",
    "For example:\n",
    "> ```!(!A || !B)``` --> ```A && B``` \n",
    "\n",
    "As you can see, the ! in the front propogates and distributes into the condition, negating the ! inside as well as changing the || (or) to && (and). If you plug in the values, you will see that they equate to the same thing. It may not make intuitive sense exactly, but it is a proven law."
   ]
  },
  {
   "cell_type": "markdown",
   "metadata": {},
   "source": [
    "Seen below is an example of this law: "
   ]
  },
  {
   "cell_type": "code",
   "execution_count": 27,
   "metadata": {},
   "outputs": [
    {
     "name": "stdout",
     "output_type": "stream",
     "text": [
      "type your email, username, then password to sign up: \n",
      "email: f\n",
      "username: d\n",
      "password: \n"
     ]
    },
    {
     "ename": "EvalException",
     "evalue": "Not all requirements are met",
     "output_type": "error",
     "traceback": [
      "\u001b[1m\u001b[31m---------------------------------------------------------------------------\u001b[0m",
      "\u001b[1m\u001b[31mjava.lang.Error: Not all requirements are met\u001b[0m",
      "\u001b[1m\u001b[31m\tat DeMorgan.main(#13:1)\u001b[0m",
      "\u001b[1m\u001b[31m\tat .(#35:1)\u001b[0m"
     ]
    }
   ],
   "source": [
    "import java.util.Scanner;\n",
    "\n",
    "public class DeMorgan {\n",
    "\n",
    "    // define variables\n",
    "    public static String email = null;\n",
    "    public static String username = null;\n",
    "    public static String password = null;\n",
    "\n",
    "    // take the input for the variables using scanner\n",
    "    public static String inputDetails(String detail) {\n",
    "        System.out.print(detail + \": \");\n",
    "        Scanner detailScan = new Scanner(System.in); // scanner initiate\n",
    "        String inputDetail = detailScan.nextLine();\n",
    "        System.out.println(inputDetail);\n",
    "        detailScan.close();\n",
    "        return inputDetail; // return the input\n",
    "    }\n",
    "\n",
    "    public static void main(String[] args) {\n",
    "        \n",
    "\n",
    "        System.out.println(\"type your email, username, then password to sign up: \");\n",
    "        \n",
    "        // take user input\n",
    "        email = inputDetails(\"email\");\n",
    "        username = inputDetails(\"username\");\n",
    "        password = inputDetails(\"password\");\n",
    "\n",
    "        // conditional, if not all requirements met then throw error\n",
    "        if (!(email != \"\" && username != \"\" && password != \"\")) {\n",
    "            throw new Error(\"Not all requirements are met\");\n",
    "        }\n",
    "    }\n",
    "\n",
    "}\n",
    "\n",
    "DeMorgan.main(null);"
   ]
  },
  {
   "cell_type": "markdown",
   "metadata": {},
   "source": [
    "As seen, it takes user input and checks if all of them have some sort of input. If they do not, the NOT operator turns that false into true for the conditional, throwing the error. In essence, it is saying that NOT all conditions are met."
   ]
  },
  {
   "cell_type": "code",
   "execution_count": 22,
   "metadata": {},
   "outputs": [
    {
     "name": "stdout",
     "output_type": "stream",
     "text": [
      "type your email, username, then password to sign up: \n",
      "email: f\n",
      "username: d\n",
      "password: \n"
     ]
    },
    {
     "ename": "EvalException",
     "evalue": "Not all requirements are met",
     "output_type": "error",
     "traceback": [
      "\u001b[1m\u001b[31m---------------------------------------------------------------------------\u001b[0m",
      "\u001b[1m\u001b[31mjava.lang.Error: Not all requirements are met\u001b[0m",
      "\u001b[1m\u001b[31m\tat DeMorgan.main(#13:1)\u001b[0m",
      "\u001b[1m\u001b[31m\tat .(#30:1)\u001b[0m"
     ]
    }
   ],
   "source": [
    "import java.util.Scanner;\n",
    "\n",
    "public class DeMorgan {\n",
    "\n",
    "    // define variables\n",
    "    public static String email = null;\n",
    "    public static String username = null;\n",
    "    public static String password = null;\n",
    "\n",
    "    \n",
    "    public static String inputDetails(String detail) {\n",
    "        System.out.print(detail + \": \");\n",
    "        Scanner detailScan = new Scanner(System.in); // scanner initiate\n",
    "        String inputDetail = detailScan.nextLine();\n",
    "        System.out.println(inputDetail);\n",
    "        detailScan.close();\n",
    "        return inputDetail;\n",
    "    }\n",
    "\n",
    "    // take the input for the variables using scanner\n",
    "    public static void main(String[] args) {\n",
    "        \n",
    "        System.out.println(\"type your email, username, then password to sign up: \");\n",
    "\n",
    "        // take user input\n",
    "        email = inputDetails(\"email\");\n",
    "        username = inputDetails(\"username\");\n",
    "        password = inputDetails(\"password\");\n",
    "\n",
    "        // conditional with de morgans law applied\n",
    "        if (email == \"\" || username == \"\" || password == \"\") {\n",
    "            throw new Error(\"Not all requirements are met\");\n",
    "        }\n",
    "    }\n",
    "\n",
    "}\n",
    "\n",
    "DeMorgan.main(null);"
   ]
  },
  {
   "cell_type": "markdown",
   "metadata": {},
   "source": [
    "After applying De Morgan's law and switching all of the comparators, such as != to == and && to ||, the code becomes much more readable. It reads that if any one of the inputs are not filled in, then the condition is true and the error is thrown. In essence: if any of the inputs are empty, throw an error. As seen, it has the same output, so it demonstrates that the law is true.\n",
    "\n",
    "Inspiration from [Patrick Divine](https://betterprogramming.pub/de-morgans-laws-in-software-engineering-b08feb897f75?gi=55f4b5a3761c)"
   ]
  }
 ],
 "metadata": {
  "kernelspec": {
   "display_name": "Java",
   "language": "java",
   "name": "java"
  },
  "language_info": {
   "codemirror_mode": "java",
   "file_extension": ".jshell",
   "mimetype": "text/x-java-source",
   "name": "java",
   "pygments_lexer": "java",
   "version": "17.0.4+8-Ubuntu-120.04"
  },
  "orig_nbformat": 4
 },
 "nbformat": 4,
 "nbformat_minor": 2
}
