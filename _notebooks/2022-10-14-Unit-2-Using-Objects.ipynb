{
 "cells": [
  {
   "cell_type": "markdown",
   "metadata": {},
   "source": [
    "# Collegeboard Unit 2 - Using Objects \n",
    "> A notebook to document learning of objects\n",
    "\n",
    "- toc: true \n",
    "- badges: true\n",
    "- comments: true\n",
    "- categories: [jupyter,java,collegeboard]"
   ]
  },
  {
   "cell_type": "markdown",
   "metadata": {},
   "source": [
    "# 2.1: What are objects?\n",
    "\n",
    "Objects are a reference type, similar to something like a String class. In fact, a String is an object. However, Objects contain primitive data types as well as reference data types. When you reference an object, you are referencing the point at which it is located.\n",
    "\n",
    "Objects are defined by a class, which describes what attributes the object has and what things it can do with methods.\n",
    "\n",
    "- House metaphor: blueprint is the class, each house is an object\n",
    "\n",
    "An object is not a type of a class, but it is a specific instance."
   ]
  },
  {
   "cell_type": "markdown",
   "metadata": {},
   "source": [
    "# 2.2: Initializing/Constructing\n",
    "\n",
    "To initialize an object, the syntax goes like:\n",
    "\n",
    "``` Person andrew = new Person(\"andrew\", 16); ```\n",
    "\n",
    "This creates a new person object called andrew, with attributes of \"andrew\" and 16. "
   ]
  },
  {
   "cell_type": "markdown",
   "metadata": {},
   "source": [
    "# 2.3: Methods\n",
    "Methods are code that do something, sometimes taking parameters. THey can change data, print text, etc.\n",
    "\n",
    "There are also void and non void methods. Void methods don't return anything, but change data or print things. The void keyword is used.\n",
    "\n",
    "Methods can be static or non static. \n",
    "\n",
    "Static methods are general to the class, and do not have to be in any specific object. It basically changes something general. To make a method static, the static keyword is added."
   ]
  },
  {
   "cell_type": "markdown",
   "metadata": {},
   "source": [
    "# 2.4 Methods with parameters\n",
    "\n",
    "A method can be created with parameters as well, taking in input and returning some output. There can be multiple methods with the same name but different parameters, which are all valid."
   ]
  },
  {
   "cell_type": "markdown",
   "metadata": {},
   "source": [
    "# HOMEWORK\n",
    "\n",
    "Full solution:"
   ]
  },
  {
   "cell_type": "code",
   "execution_count": null,
   "metadata": {},
   "outputs": [],
   "source": [
    "public class WordMatch\n",
    "{\n",
    "    /** The secret string. */\n",
    "    private String secret;\n",
    "    /** Constructs a WordMatch object with the given secret string of lowercase letters. */\n",
    "    public WordMatch(String word)\n",
    "    {\n",
    "    /* implementation not shown */\n",
    "        this.secret = word;\n",
    "        \n",
    "    }\n",
    "    /** Returns a score for guess, as described in part (a).\n",
    "    * Precondition: 0 < guess.length() <= secret.length()\n",
    "    */\n",
    "\n",
    "    // START OF SOLUTION A\n",
    "    public int scoreGuess(String guess) {\n",
    "\n",
    "        // Tracks number of times the substring appears\n",
    "        int occurrences = 0;\n",
    "\n",
    "        // secret.length() - guess.length() to avoid index overflow with substring later on\n",
    "        for (int i = 0; i <= secret.length() - guess.length(); i++) {\n",
    "\n",
    "            // Checks if the substring is equal to the guess\n",
    "            if (secret.substring(i, i + guess.length()).contains(guess)) {\n",
    "                occurrences++;\n",
    "\n",
    "                // Moves forward by guess.length() - 1 to move forward in the string (and avoid repeats)\n",
    "                // -1 is included because i++ \n",
    "                i += guess.length() - 1;\n",
    "            }\n",
    "        }\n",
    "        return occurrences * guess.length() * guess.length();\n",
    "    }\n",
    "    // END OF SOLUTION A\n",
    "\n",
    "    // START OF SOLUTION B\n",
    "    public String findBetterGuess(String guess1, String guess2)\n",
    "    { /* to be implemented in part (b) */ \n",
    "        if (scoreGuess(guess1) > scoreGuess(guess2)) {\n",
    "            return guess1;\n",
    "        } else if (scoreGuess(guess2) > scoreGuess(guess1)) {\n",
    "            return guess2;\n",
    "        } else if (guess1.compareTo(guess2) > 0) {\n",
    "                return guess1;\n",
    "        } else {\n",
    "                return guess2;\n",
    "            }\n",
    "        }\n",
    "    // END OF SOLUTION B\n",
    "\n",
    "    public static void main(String[] args) {\n",
    "\n",
    "        WordMatch testA = new WordMatch(\"mississippi\");\n",
    "        System.out.println(testA.scoreGuess(\"issippi\"));\n",
    "        System.out.println(testA.scoreGuess(\"mississippi\"));\n",
    "\n",
    "        WordMatch testB = new WordMatch(\"concatenation\");\n",
    "        System.out.println(testB.findBetterGuess(\"ten\" , \"nation\"));\n",
    "        System.out.println(testB.findBetterGuess(\"con\", \"cat\"));\n",
    "    }\n",
    "\n",
    "}\n",
    "\n",
    "WordMatch.main(null);"
   ]
  },
  {
   "cell_type": "markdown",
   "metadata": {},
   "source": [
    "## part a\n",
    "\n",
    "scoreGuess, finds times guess occurs as a substring of secret and multiply that by the square of length of guess"
   ]
  },
  {
   "cell_type": "code",
   "execution_count": null,
   "metadata": {},
   "outputs": [],
   "source": [
    "public int scoreGuess(String guess) {\n",
    "\n",
    "    // Tracks number of times the substring appears\n",
    "    int occurrences = 0;\n",
    "\n",
    "    // secret.length() - guess.length() to avoid index overflow with substring later on\n",
    "    for (int i = 0; i <= secret.length() - guess.length(); i++) {\n",
    "\n",
    "        // Checks if the substring is equal to the guess\n",
    "        if (secret.substring(i, i + guess.length()).contains(guess)) {\n",
    "            occurrences++;\n",
    "\n",
    "            // Moves forward by guess.length() - 1 to move forward in the string (and avoid repeats)\n",
    "            // -1 is included because i++ \n",
    "            i += guess.length() - 1;\n",
    "        }\n",
    "    }\n",
    "    return occurrences * guess.length() * guess.length();\n",
    "}"
   ]
  },
  {
   "cell_type": "markdown",
   "metadata": {},
   "source": [
    "The condition `secret.substring(i, i + guess.length()).contains(guess)` checks if the substring the length of the guess contains the guess itself. If it does, it adds one to the occurences, and moves the pointer to avoid repeats.\n",
    "\n",
    "## Part B\n",
    "\n",
    "findBetterGuess, returns better guess of two strings. If they are equal, alphabetically greater guess is returned"
   ]
  },
  {
   "cell_type": "code",
   "execution_count": null,
   "metadata": {},
   "outputs": [],
   "source": [
    "public String findBetterGuess(String guess1, String guess2)\n",
    "    { /* to be implemented in part (b) */ \n",
    "        if (scoreGuess(guess1) > scoreGuess(guess2)) {\n",
    "            return guess1;\n",
    "        } else if (scoreGuess(guess2) > scoreGuess(guess1)) {\n",
    "            return guess2;\n",
    "        } else if (guess1.compareTo(guess2) > 0) {\n",
    "                return guess1;\n",
    "        } else {\n",
    "                return guess2;\n",
    "            }\n",
    "    }"
   ]
  },
  {
   "cell_type": "markdown",
   "metadata": {},
   "source": [
    "The first two if statements are purely for returning the higher score guess. However, if they are equal, then the compareTo metod finds the alphabetically greater guess."
   ]
  }
 ],
 "metadata": {
  "kernelspec": {
   "display_name": "Java",
   "language": "java",
   "name": "java"
  },
  "language_info": {
   "name": "java",
   "version": "3.8.10"
  },
  "orig_nbformat": 4,
  "vscode": {
   "interpreter": {
    "hash": "916dbcbb3f70747c44a77c7bcd40155683ae19c65e1c03b4aa3499c5328201f1"
   }
  }
 },
 "nbformat": 4,
 "nbformat_minor": 2
}
