{
 "cells": [
  {
   "cell_type": "markdown",
   "metadata": {},
   "source": [
    "# Collegeboard Unit 1: Using Objects \n",
    "> A notebook to document learning of objects\n",
    "\n",
    "- toc: true \n",
    "- badges: true\n",
    "- comments: true\n",
    "- categories: [jupyter,java,collegeboard]"
   ]
  },
  {
   "cell_type": "markdown",
   "metadata": {},
   "source": [
    "# 2.1: What are objects?\n",
    "\n",
    "Objects are a reference type, similar to something like a String class. In fact, a String is an object. However, Objects contain primitive data types as well as reference data types. When you reference an object, you are referencing the point at which it is located.\n",
    "\n",
    "Objects are defined by a class, which describes what attributes the object has and what things it can do with methods.\n",
    "\n",
    "- House metaphor: blueprint is the class, each house is an object\n",
    "\n",
    "An object is not a type of a class, but it is a specific instance."
   ]
  },
  {
   "cell_type": "markdown",
   "metadata": {},
   "source": [
    "# 2.2: Initializing/Constructing\n",
    "\n",
    "To initialize an object, the syntax goes like:\n",
    "\n",
    "``` Person andrew = new Person(\"andrew\", 16); ```\n",
    "\n",
    "This creates a new person object called andrew, with attributes of \"andrew\" and 16. "
   ]
  },
  {
   "cell_type": "markdown",
   "metadata": {},
   "source": [
    "# 2.3: Methods\n",
    "\n",
    "Methods can be static or non static. \n",
    "\n",
    "Static methods are general to the class, and do not "
   ]
  }
 ],
 "metadata": {
  "kernelspec": {
   "display_name": "Java",
   "language": "java",
   "name": "java"
  },
  "language_info": {
   "name": "java",
   "version": "3.8.10"
  },
  "orig_nbformat": 4,
  "vscode": {
   "interpreter": {
    "hash": "916dbcbb3f70747c44a77c7bcd40155683ae19c65e1c03b4aa3499c5328201f1"
   }
  }
 },
 "nbformat": 4,
 "nbformat_minor": 2
}
