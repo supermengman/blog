{
 "cells": [
  {
   "cell_type": "markdown",
   "metadata": {},
   "source": [
    "# Writing Classes FRQ 2\n",
    "> Gotta do HW\n",
    "\n",
    "- toc: true \n",
    "- badges: true\n",
    "- comments: true\n",
    "- categories: [jupyter,java,collegeboard]"
   ]
  },
  {
   "cell_type": "markdown",
   "metadata": {},
   "source": [
    "# Code\n",
    "\n",
    "StepTracker, object w/ parameter that defines min steps to be active\n",
    "\n",
    "methods:\n",
    "- addDailySteps, once per day\n",
    "- activeDays\n",
    "- averageSteps, returns avg num steps per day (total steps/number of days)\n",
    "\n",
    "\n",
    "Write the StepTracker class"
   ]
  },
  {
   "cell_type": "code",
   "execution_count": null,
   "metadata": {},
   "outputs": [],
   "source": [
    "public class StepTracker {\n",
    "    // initialize variables\n",
    "    private int minActiveSteps\n",
    "    private int totalSteps\n",
    "    private int numTotalDays\n",
    "    private int numActiveDays\n",
    "\n",
    "    // set default construct\n",
    "    public StepTracker(int minActiveSteps) {\n",
    "        this.minActiveSteps = minActiveSteps;\n",
    "        this.totalSteps = 0;\n",
    "        this.numTotalDays = 0;\n",
    "        this.numActiveDays = 0;\n",
    "    }\n",
    "\n",
    "    // once per day, increment steps, days, and possibly active\n",
    "    public void addDailySteps(int numSteps) {\n",
    "        this.totalSteps += numSteps;\n",
    "        this.numTotalDays++;\n",
    "\n",
    "        if (numSteps >= this.minActiveSteps) {\n",
    "            this.numActiveDays++;\n",
    "        }\n",
    "    }\n",
    "\n",
    "    // getter\n",
    "    public int activeDays() {\n",
    "        return this.numActiveDays;\n",
    "    }\n",
    "\n",
    "    // calculate\n",
    "    public double averageSteps() {\n",
    "\n",
    "        if (numTotalDays == 0) {\n",
    "            return 0.0;\n",
    "        } else {\n",
    "            return (double) this.totalSteps/this.numTotalDays;\n",
    "        }\n",
    "    }\n",
    "}"
   ]
  },
  {
   "cell_type": "markdown",
   "metadata": {},
   "source": [
    "## Overview\n",
    "\n",
    "here is where the private initial variables are stored:"
   ]
  },
  {
   "cell_type": "code",
   "execution_count": null,
   "metadata": {},
   "outputs": [],
   "source": [
    "private int minActiveSteps\n",
    "    private int totalSteps\n",
    "    private int numTotalDays\n",
    "    private int numActiveDays"
   ]
  },
  {
   "cell_type": "markdown",
   "metadata": {},
   "source": [
    "now for constructor: "
   ]
  },
  {
   "cell_type": "code",
   "execution_count": null,
   "metadata": {},
   "outputs": [],
   "source": [
    "public StepTracker(int minActiveSteps) {\n",
    "    this.minActiveSteps = minActiveSteps;\n",
    "    this.totalSteps = 0;\n",
    "    this.numTotalDays = 0;\n",
    "    this.numActiveDays = 0;\n",
    "}"
   ]
  },
  {
   "cell_type": "markdown",
   "metadata": {},
   "source": [
    "It sets the default minactivesteps, and sets all the rest to 0."
   ]
  },
  {
   "cell_type": "code",
   "execution_count": null,
   "metadata": {},
   "outputs": [],
   "source": [
    "public void addDailySteps(int numSteps) {\n",
    "    this.totalSteps += numSteps;\n",
    "    this.numTotalDays++;\n",
    "\n",
    "    if (numSteps >= this.minActiveSteps) {\n",
    "        this.numActiveDays++;\n",
    "    }\n",
    "}"
   ]
  },
  {
   "cell_type": "markdown",
   "metadata": {},
   "source": [
    "It adds the steps to the total steps, and if the steps is over the active threshold, the active days will increase."
   ]
  },
  {
   "cell_type": "code",
   "execution_count": null,
   "metadata": {},
   "outputs": [],
   "source": [
    "public int activeDays() {\n",
    "    return this.numActiveDays;\n",
    "}"
   ]
  },
  {
   "cell_type": "markdown",
   "metadata": {},
   "source": [
    "just a getter"
   ]
  },
  {
   "cell_type": "code",
   "execution_count": null,
   "metadata": {},
   "outputs": [],
   "source": [
    "public double averageSteps() {\n",
    "\n",
    "    if (numTotalDays == 0) {\n",
    "        return 0.0;\n",
    "    } else {\n",
    "        return (double) this.totalSteps/this.numTotalDays;\n",
    "    }\n",
    "}"
   ]
  },
  {
   "cell_type": "markdown",
   "metadata": {},
   "source": [
    "If there is 0 days, return 0 cuz thats what it says in the q\n",
    "\n",
    "otherwise return steps/days to get average steps"
   ]
  }
 ],
 "metadata": {
  "kernelspec": {
   "display_name": "Java",
   "language": "java",
   "name": "java"
  },
  "language_info": {
   "name": "java"
  },
  "orig_nbformat": 4
 },
 "nbformat": 4,
 "nbformat_minor": 2
}
