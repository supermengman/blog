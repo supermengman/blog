{
 "cells": [
  {
   "attachments": {},
   "cell_type": "markdown",
   "metadata": {},
   "source": [
    "# Data Types\n",
    "> Notes, Hacks, and HW for Data Types.\n",
    "\n",
    "- toc: true \n",
    "- badges: true\n",
    "- comments: true\n",
    "- categories: [jupyter,student,datastructures]\n",
    "- title: Data Types"
   ]
  },
  {
   "attachments": {},
   "cell_type": "markdown",
   "metadata": {},
   "source": [
    "# Hack: Binary Add"
   ]
  },
  {
   "cell_type": "code",
   "execution_count": 12,
   "metadata": {},
   "outputs": [
    {
     "name": "stdout",
     "output_type": "stream",
     "text": [
      "Enter first binary number: 10\n",
      "Enter second binary number: 10\n",
      "Sum of two binary numbers is: 100\n"
     ]
    }
   ],
   "source": [
    "public class BinaryAdd {\n",
    "    public static void main(String[] args) {\n",
    "        Scanner sc = new Scanner(System.in);\n",
    "        System.out.print(\"Enter first binary number: \");\n",
    "        // Use a radix of 2 cuz input is binary\n",
    "        String input1 = sc.nextLine();   \n",
    "        int a = Integer.parseInt(input1, 2);\n",
    "        System.out.println(input1);\n",
    "\n",
    "        System.out.print(\"Enter second binary number: \");\n",
    "        String input2 = sc.nextLine();\n",
    "        int b = Integer.parseInt(input2, 2);\n",
    "        System.out.println(input2);\n",
    "\n",
    "        int sum = a + b;\n",
    "        System.out.println(\"Sum of two binary numbers is: \" + Integer.toBinaryString(sum));\n",
    "    }\n",
    "}\n",
    "\n",
    "BinaryAdd.main(null);"
   ]
  },
  {
   "attachments": {},
   "cell_type": "markdown",
   "metadata": {},
   "source": [
    "# Code Exercises\n",
    "\n",
    "## int"
   ]
  },
  {
   "cell_type": "code",
   "execution_count": 15,
   "metadata": {},
   "outputs": [
    {
     "name": "stdout",
     "output_type": "stream",
     "text": [
      "19\n",
      "74\n"
     ]
    }
   ],
   "source": [
    "import java.lang.Math;\n",
    "\n",
    "int a = (int)(Math.random()*100);\n",
    "System.out.println(a);\n",
    "int b = (int)(Math.random()*100);\n",
    "System.out.println(b);"
   ]
  }
 ],
 "metadata": {
  "kernelspec": {
   "display_name": "Java",
   "language": "java",
   "name": "java"
  },
  "language_info": {
   "codemirror_mode": "java",
   "file_extension": ".jshell",
   "mimetype": "text/x-java-source",
   "name": "java",
   "pygments_lexer": "java",
   "version": "17.0.4+8-Ubuntu-120.04"
  },
  "orig_nbformat": 4
 },
 "nbformat": 4,
 "nbformat_minor": 2
}
