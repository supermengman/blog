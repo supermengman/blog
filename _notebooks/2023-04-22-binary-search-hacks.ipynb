{
 "cells": [
  {
   "attachments": {},
   "cell_type": "markdown",
   "metadata": {},
   "source": [
    "# Binary Search Hacks\n",
    "\n",
    "- toc: true\n",
    "- badges: true\n",
    "- categories: [cb,binary,lesson]"
   ]
  },
  {
   "attachments": {},
   "cell_type": "markdown",
   "metadata": {},
   "source": [
    "# Hack 1: use recursion\n"
   ]
  },
  {
   "cell_type": "code",
   "execution_count": 5,
   "metadata": {
    "vscode": {
     "languageId": "java"
    }
   },
   "outputs": [
    {
     "name": "stdout",
     "output_type": "stream",
     "text": [
      "6\n"
     ]
    }
   ],
   "source": [
    "public class BinarySearch {\n",
    "    public int BinarySearch(int[] nums, int target, int start, int end) {\n",
    "\n",
    "        // 1. Base case\n",
    "        if (start > end) {\n",
    "            return -1;\n",
    "        }\n",
    "\n",
    "        // set mid\n",
    "        int mid = start + (end - start) / 2;\n",
    "\n",
    "        // check if mid is target\n",
    "        if (nums[mid] == target) {\n",
    "            return mid;\n",
    "        } else if (nums[mid] > target) { // check if mid is greater than target\n",
    "            return BinarySearch(nums, target, start, mid - 1); // recursive call with new end as mid\n",
    "        } else {\n",
    "            return BinarySearch(nums, target, mid + 1, end); // recursive call with new start as mid\n",
    "        }\n",
    "    }\n",
    "\n",
    "    // starter method for binary search\n",
    "    public int BinarySearch(int[] nums, int target) {\n",
    "        return BinarySearch(nums, target, 0, nums.length - 1);\n",
    "    }\n",
    "\n",
    "    public static void main(String[] args) {\n",
    "        BinarySearch bs = new BinarySearch();\n",
    "        int[] nums = { 1, 3, 5, 7, 9, 23, 45, 67 };\n",
    "        int target = 45;\n",
    "        int index = bs.BinarySearch(nums, target);\n",
    "        System.out.println(index);\n",
    "    }\n",
    "}\n",
    "\n",
    "BinarySearch.main(null);"
   ]
  },
  {
   "attachments": {},
   "cell_type": "markdown",
   "metadata": {},
   "source": [
    "# Hack 2: use merge sort and binary search"
   ]
  },
  {
   "cell_type": "code",
   "execution_count": 13,
   "metadata": {
    "vscode": {
     "languageId": "java"
    }
   },
   "outputs": [
    {
     "name": "stdout",
     "output_type": "stream",
     "text": [
      "[1, 2, 3, 4, 5, 6, 7, 8, 9]\n",
      "6\n"
     ]
    }
   ],
   "source": [
    "public class MergeSortAndBinarySearch {\n",
    "\n",
    "    // uses comparable as a generic type, as long as the type implements comparable\n",
    "    // any primitive will work as well as any object that implements comparable\n",
    "    static void sort(Comparable arr[], int l, int r)\n",
    "    {\n",
    "        if (l < r) {\n",
    "            // COMMENT A\n",
    "            int m = l + (r - l) / 2;\n",
    "\n",
    "            // COMMENT B\n",
    "            sort(arr, l, m);\n",
    "            sort(arr, m + 1, r);\n",
    "\n",
    "            // COMMENT C\n",
    "            merge(arr, l, m, r);\n",
    "\n",
    "        }\n",
    "    }\n",
    "\n",
    "    static void merge(Comparable arr[], int l, int m, int r)\n",
    "    {\n",
    "        // Find the sizes of two subarrays to be merged\n",
    "        int n1 = m - l + 1;\n",
    "        int n2 = r - m;\n",
    "\n",
    "        /* Create temp arrays */\n",
    "        Comparable[] L = new Comparable[n1];\n",
    "        Comparable[] R = new Comparable[n2];\n",
    "\n",
    "        /* Copy data to temp arrays */\n",
    "        for (int i = 0; i < n1; ++i)\n",
    "            L[i] = arr[l + i];\n",
    "        for (int j = 0; j < n2; ++j)\n",
    "            R[j] = arr[m + 1 + j];\n",
    "\n",
    "        /* Merge the temp arrays */\n",
    "\n",
    "        // Initial indexes of first and second subarrays\n",
    "        int i = 0, j = 0;\n",
    "\n",
    "        // Initial index of merged subarray array\n",
    "        int k = l;\n",
    "        while (i < n1 && j < n2) {\n",
    "            if (L[i].compareTo(R[j]) < 0) {\n",
    "                arr[k] = L[i];\n",
    "                i++;\n",
    "            }\n",
    "            else {\n",
    "                arr[k] = R[j];\n",
    "                j++;\n",
    "            }\n",
    "            k++;\n",
    "        }\n",
    "\n",
    "        /* Copy remaining elements of L[] if any */\n",
    "        while (i < n1) {\n",
    "            arr[k] = L[i];\n",
    "            i++;\n",
    "            k++;\n",
    "        }\n",
    "\n",
    "        /* Copy remaining elements of R[] if any */\n",
    "        while (j < n2) {\n",
    "            arr[k] = R[j];\n",
    "            j++;\n",
    "            k++;\n",
    "        }\n",
    "    }\n",
    "\n",
    "    \n",
    "\n",
    "    public static void main(String[] args) {\n",
    "        // testing\n",
    "        Integer[] arr = { 5, 6, 3, 1, 8, 9, 4, 7, 2};\n",
    "        int n = arr.length;\n",
    "        sort(arr, 0, n - 1);\n",
    "\n",
    "        System.out.println(Arrays.toString(arr));\n",
    "\n",
    "        int[] primSorted = new int[arr.length];\n",
    "        for (int i = 0; i < arr.length; i++) {\n",
    "            primSorted[i] = arr[i];\n",
    "        }\n",
    "\n",
    "        BinarySearch bs = new BinarySearch();\n",
    "        int index = bs.BinarySearch(primSorted, 7);\n",
    "        System.out.println(index);\n",
    "    }\n",
    "\n",
    "}\n",
    "\n",
    "MergeSortAndBinarySearch.main(null);"
   ]
  }
 ],
 "metadata": {
  "kernelspec": {
   "display_name": "Java",
   "language": "java",
   "name": "java"
  },
  "language_info": {
   "codemirror_mode": "java",
   "file_extension": ".jshell",
   "mimetype": "text/x-java-source",
   "name": "Java",
   "pygments_lexer": "java",
   "version": "17.0.4+8-Ubuntu-120.04"
  },
  "orig_nbformat": 4
 },
 "nbformat": 4,
 "nbformat_minor": 2
}
