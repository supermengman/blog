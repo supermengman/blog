{
 "cells": [
  {
   "cell_type": "markdown",
   "metadata": {},
   "source": [
    "# Collegeboard Unit 3 - Boolean Expressions and If Statements\n",
    "> Booleans\n",
    "\n",
    "- toc: true \n",
    "- badges: true\n",
    "- comments: true\n",
    "- categories: [jupyter,java,collegeboard,frq,student]"
   ]
  },
  {
   "cell_type": "markdown",
   "metadata": {},
   "source": [
    "# 3.1 Booleans\n",
    "- boolean expressions represent logic, find if true or false\n",
    "- operators: ==, !=, <, <=, etc\n",
    "\n"
   ]
  },
  {
   "cell_type": "markdown",
   "metadata": {},
   "source": [
    "# 3.2 If statements\n",
    "\n",
    "conditional statements: perform computations if boolean true or false\n",
    "- if statement: run code if true"
   ]
  },
  {
   "cell_type": "markdown",
   "metadata": {},
   "source": [
    "# 3.3 if else\n",
    "\n",
    "- runs a block of code if there are alternatives\n",
    "\n",
    "# 3.4 else if\n",
    "- another conditional if the frst one is false\n",
    "\n",
    "# 3.5 <mark>compound boolean expressions</mark>\n",
    "- nested if: if within if (if outer is false, then inner is ignored too)\n",
    "- logical operators: \n",
    "  > &&: and\n",
    "  > !!: or\n",
    "  > !: not\n",
    "- short circuited evaluation\n",
    "\n",
    "# 3.6 <mark>DeMorgans law</mark>\n",
    "- basically distribute the negative and reverse all the operations\n",
    "\n",
    "\n",
    "These are laws named after Augustus De Morgan, a 19th C British Mathemetician. It uses the NOT operator, which takes precedent over AND and OR. It can be used to simplify expressions of true and false, and as boolean values are being compared in an if conditional, applying De Morgan's law to simplify a program's logic will be very helpful.\n",
    "\n",
    "Overall, the idea is that: when distributing or factoring a negation from a boolean expression, the operators all switch. || changes to && and vice versa. In addition, < changes to =>, and vice versa. [PunApps AP Comp Sci](https://sites.google.com/a/punahou.edu/apcompsci/exam-review/boolean-operators-and-demorgan-s-laws)\n",
    "\n",
    "In addition:\n",
    "- < becomes >=\n",
    "- \\> becomes <=\n",
    "- == becomes !=\n",
    "- <= becomes >\n",
    "- \\>= becomes <\n",
    "- != becomes ==\n",
    "\n",
    "For example:\n",
    "> ```!(!A || !B)``` --> ```A && B``` \n",
    "\n",
    "As you can see, the ! in the front propogates and distributes into the condition, negating the ! inside as well as changing the || (or) to && (and). If you plug in the values, you will see that they equate to the same thing. It may not make intuitive sense exactly, but it is a proven law.\n",
    "- can be seen in a <mark>truth table</mark>\n",
    "![bruh](data:image/png;base64,iVBORw0KGgoAAAANSUhEUgAAAVAAAACWCAMAAAC/8CD2AAABUFBMVEX///9ks9/+/v79/f3v7+/s7OzZ2dn///3h4eHk5OTW1tbs7v/O1v00UmORve/z8fH09v0AAABmuOVcsuG/v7/MzMzv8v/l6v/X3v/39/fHx8eurq6cnJybv/N0tdqOuNKXuc+uvMaFhYV2dnarq6tTU1OPj48iIiJkZGT6IgCgoKCXl5eBgYFtbW36VEf9ubZMTEwANv/+4N8+Pj6zwf8REREdHR1dXV0kTP/7m5aVyeiCwOT+6+r7jYay2O7G4vMuLi79xcOWqf8AIf/Z7Pc0NDSBmf/7g3z8rKjD4fKn0uz6NyLAyv/+2thyh//W6/b7c2uptv+Oov/9wL28w9/6Zl37hoAvWf9qhf8AGv9Zc/93kf/8l5L6RDWpuf/9z82jv+iPn8pHV2F7jrQ7YP8fSf8vXf9Zbf+6xf8NPP/Kz+n6T0Jae//6QDD6Lxj5dm9iN56mAAAgAElEQVR4nO2d/1/aSrfvxwwJIfUeEglKCIfnOQRSTEilolIBQSkqsP1S7bV111bPPbfd7T51t///b3etSQIBFIlPz3P79MV6tYKTrJmVN/ON+WQiIXOb29zmNre5zW1uc5vb/w+jT+b2o0xGoMv//m9h7X//jzug/ed//lOK+YF5/PuKC3QhpGX/IxHOIaGGdGBOf/t7SK/Qcd1V6mNC9e3fnvzMQBf+9veQDnOg020O9F6bA51uc6D32M8FNJEdS5gDvddmiHKp1uuMJc2B3mszRFk/JWQs6YcBDRPtfaHOlMfPBDTR1+hY0o8Cmu2ECPeeUJda9RmcR4HWs/VZnBaGgS/V69nxjm9qlNlstr7k5eEWVodi3V/7MvWPZN1cPaBLEJhfSt19B2fU74jAj8s/DGVAaTWZzhblaKgQ2dKgyPoprc2QRxBo7VTudWhvpkK9wGunHbDazFHWe/Jpi3bwWrPN1ilpLtRapN+R+wsLTbnToQxottmBbHt4LS7QWkfuyVqTXVsLymsuZHsyeGO59VM4WR5E4MYFxbRaWg89wep1mdBWc6brGoaahYCa8mkWS+h0+gunhJ62lh50DgJtEtqvwf9ZCvUCl+V6XSOz1Go3yholrXqHtBLQvkl/gXSWmpT0+1Su10hnoe8CbZJeoklaQ6A9Qms1gtQS+Bl0SA0QnTbxg8x2SB3+9/1G6saFxdRkAiS1epZ06k0oYMamNwgViujUTiFIyH0B8qppWm2GPIJA61BsQoarmaFQN/A+6WSzcgigiQ7XTPSIDO/r/X4T3CFu+E/rLXKaqLEmD3xqI0ATNa5TT1DwXFggWh+gtoAxVFM4VtNIAh1G40IIcCV9iK+eIFoNPrHQfWiiBZ97i/Sy8EkmOqSJlWeGTMaAouvsQBMYcEigpAmwcIiodXpQK5cA6NIo0DrSGKmhNegkEjLtjwFdYOMYWbgLKIdAax7Q/qOA9gJA5ccCrSc0OlPb8Jo8kR8BtAdtaGEJWpMHFGspNvlEn7KsANg4UAgMimL+/QTya7lAsWHW76+hCGGByFnoSxJhmzx8bqdYSxc6FIHW8VMP3eTJaQs+jlkK9QLva3KHhgMK4wtjAUN6U6anpxrtwfV2FnpUPoVhAM7KnnIdeRQo6bW8+gHnyH2omJrM+nqs1XDyKNBEj9JWX9Y69ZoMIwo49rzTZzI3VIiv0+9Ax5mFMQmpQIYzNN7xJj9LrR4Ezt6E7kOz7gw54c2UEwnv/1J2YSnhJmWz/bEmPwgsAZMZ5uH/vsBq6OigNMgU50+s3IXE7G3emzZhEayYhDsD8wOebiNAuZl6iWDgWFoooNAZzVTE6KDEmvv9sUyM8v+Y/bCvnr0obc06/R0EDvMerjeDlz9tciehD1mtw2ZJLtBsKzp1dtyEOZQfwU8FtAY2q98w8Dp4PTzf9Sd3cPIsQP3zvCY/PbB64PBPBTSM/fzroQ98T0yMDPv94MnDUGf58LP9kQv7VYFmT6d/1YQvliQQUD3YSQ9CbZ7OUuRoSb8o0HqnM72CZk8JFwgI5r3DTsUPtTV1KBxYTQt28L8o0KY3mRhOlobTLPe3mkb9t/i6RIafgBdqjX2hC0y4EsN3wYTsKQ308L8oUBknUvVmrdl0K1m93+svLSzVmpCGZzWbLeoCrTeb/T5MbfE77UioCbaGU2/W+02XV7YPuSWGmWBCv9ZPLPnf2pj9mkCzRKslejLttSireE2536K1ekuWmx1cTevg75StRsi9PiQlEnS4huEB1aCW9zvkFL7CeeuE/dNOLduTtRZ8ZcbpLyTIp/A1jJwOpzm/JtA6LmjUgGrdnfOfagt9ANYjMryeLuDqTJ81eTieZV/8Ad8Y0AUKQOtQ1bMtgp0kfNXA1bWFJqX1vreSCDm6QIcd9q8JdIGDSpfF71enLqdaDxtwk8oJBIqrL24fiotVuEyTSBDaHKuhMjZ5XHdpMmCIFReD/JWrBIUyEOiSC9yzXxRoD2qPBxRqKAzp9WYAKGLoa9wCaiNQQ/EcGJQGQ7oHtI+Dkrs269bQHo5TS32quUBlVudPE9lT8usPSnX5NJtFAULGPhQbLvR79RahS03oDepU7vcIYsDaVcMRrEmH83N/caQDHwiuLJ+6fajcqbVoc8F1dIHXTtkqbi/wTfEXBQpDSB+A9rxRvt/q1Vq9frPXg+G+V4PfW80eG6rrvdMm9KH1TmDV0g91qdXLQk/R77kVsNZrtvow7Pd63qDebEFHcrrQCvL8ZYHCF/z65BrVcFVvYTCZXGJL3cFV4EGoWRzUAgsV7sJjcCEQmvzC6ELrLwuUzZ1mW41EFS5ogVCDK4N3WKJFxgX/XxdotqNpMy0VtjRttCoHQu3BsSkLXX1ZpmPru78uUPxiOFORE+cFQn0oj8njvzDQR9t8PTRgPw3QpZCW/Y+QDol0ImwZYH/7e0iH0HHdYY8L1TMXqPx//ldYq/6PO6D913/9U4r5gXn8X7eGpuIhjU+HdNB0LWwZYIIU0oFXH1HKmD0uVM9W3H1KqXA77wjRkmE91LAOaDExpEP4uO6wR4Xq2RzoHTYHOrQ50Ok2B3q/zYFOtX8ZoHTs93jj4UzGQ+XG81y53zcAlBpKoaCUnc2quatUHUelxFA2jRjRd3fz+adK1Sgrg3DdwEtKuapUnK2yWQHHIniYiuKIRK1sWfq+UigVlEFw7I0OZz/ddypKpgDvqhkNMlcKaSIVlVKyrFSMomIGw2NAI0WlWlCqRcXJbWFgSaIVlc1chFi7+2pmUykaFSU2Etfes9WLnYvVG3j7ah1Tu7+tHrI3F+93vq4fP1t9tvNqtTsVaOry5duDy+dteNveQDxHH59/XoQ30aur9seNlauXLw5OPp3IU4BWRSI9TZKIKVoK5KpIhBQd/ITFDCEZSCL5MaAFgYgVlVA7qSuUJJGeU0CPSA7haZDLKNCSSjTHpMTKC1tJQpFeHk8j1CFEgiTCTwKNOTzkLZKYGck9xUhiRCuw05I6ZAlJxBRH4iLr3/YIudmGN193WMLON/Zy+J2Q7jrRVtcIabyZCpSQlwBz5QDoXN4u4+8bzxm9sz8IWQTEn/DQwTSgEIv0NA0XwCPQNFRHzjEYHssFqokRv/a7gcPJQgUuio8hPQmBGgwoNV2gNMb7HixK8Io4JqRLrKTNEgJlrTLnFx4LNlIGVJMwGgHK0hCoDkAjVRPzFaFsTNLE+BjQ3/ZInEKdXHv1F0t4/xt7eQZAGxppfFsjNH78AFConTJNYV19m3KBMq4Hb2WyDN+HXhwQTk6NdyljfSi7JpeeXhEJLY4ATQ47qEFfxYDiVVKS3pVGgVIiDbsj/x2PQAlrC3FF92uoCxSSMiPhDfpQBtSlZ5cj40DVQVcbALoGvWWju7d6HAC6vbqNfSgCPX59H88A0EVo4/KXjc9nAaBHz68YLgC6cjReQe8FauVyEh0FqtuFIZ5JoLZZSmqjQC2rqk8AjXhAdw3bULURoLulfDE3HSgEZgp0BKiimwVpHOi3ne5vgG5vjzzbCQBtvFl9BYAbq4fdi3u70AHQ27PPXwBRmxx85oZA5bOXH78g0HfXl+czAxV3HbhOAMoNgGp8fhpQcb8QIaNAY7yenwA6qKGqwYaSYJNXI5IxHehTaSsH7gCU+EC3tJg9CXStAaMQ7X7ffvY1AJRoa7/9tQ41tNvoPgz0XG4fQX/5uX3LUHpACZd6+ycQfXElH50tzwoUOkQIljOKmhc3Nnk+NvC7o8nHFAsvuYzdWcxy+9DIcNozXkOhfW8VMV3hMT/bTSKj0547mryqQIhxJ8cyUd0mL0bGgUKTX2+QdWjgjdW9AVCsHTcfuqzJa8cT06FxoG3yZIXQgxSR37YDQIHXu5NlbPJ0ZeYaSrRcRcCOFK8jL3ijPGf5kd8BlMvsQiLrSIkuuX0o/PSR3AE0rUAFjrGZVVr1gJJk+m6gogc0YpR5Qq0qfLgaZo5AYZ5BJ4CC7WEt/PDGB7q+fQg/D7cZUEKO9x4ECvbkMkrI1VvijfLL18CSbFwyoMDveirQuKWYPOF4Q5E0YddIcpFqThCTtpskSKYxNpoSLb9ZihEuklPSWqxSTGq0agiiZLpJgpQx+NEoabpSlDjwUzI8qVbUCNRpSZRsjSUJkl4M1lEfaMRU8hGIoqoINL2Zg9laOSOI6TxLkqRkqTQSV2NtdRsivbnoUtK4+O11o3Gxenx8c/H6t5vG8fdjbW/1/frx3l/3zfFZqHLq95MnlKxcXslEPv/97Mnywe9HqcWD83dnKysHZ/LK89tU6ujj4lSgopWxJJjTWJl8jFPtvAZTUNuCS8EkXc2b430VieUzGZheCeAokqQNp8Ys8OBZUh480v68wgOq6ZkMfAHg8xkrSUQTvDTLhGkpB0l2XtVNfWLaBCZYliXAh5GxdJ7qNpwj2balxzEJArPG5qHr3e3uOkfWtmGkZ+9vtrfXXnd3Gt3tte4ehZfu3tr76RP7Jxvn7UVKFs/PVqAettuLqfb59dH1weJR+3pjY3kZDh99aZ9PnzZR9z/84/At62N43j8SNB8ox/kew1MibO457uE3eS9/zjsDT43zrLRxjwBQOuLInCgfGQY26A3duLzg2b9A1lhmA6olva/zDIbKDYt03w+dnizfHS3aL/9d/jE2XxwZ2hzodJsDvd/mQKfaPwkoHxYo/UmALkphDeaYoUxQQzowSybDeoSN6w57XKie/bdXQyMhjU+G9VDDOqAJUkgHPv2YYsbsUaF6lvq5m/y8D73f5kCn2hzoPTYHeofNgQ7t1wE6sXoSGUsYj3LcgfJk0n4OoBO6/JP7fQNAOXO36pSLxr5hF+ClJBBSqpRLMaKWC3q+XHFKBbbcHAhcLVSKpeo+LuoZCFCzymWDnePkSgU+WahUS8VdfRilVKwUvBQdF5Ip5FBgWZmGXU6LDhx2KuYAtqt65naLxbLj7OfMMgSWixHNqZTNCLHKBRVKdErlMj8SV/e3i8OLV2++vupePHv15s0NIdvPnr1ZJzcXz7qvIen9q2c3DwFNXb59d3D5AheQN44w1KN3H98xXb591X53tHL1x+eDq7fTlu9oQSLSVprESoKNqifq8lWHra7bhGASscd0eSLgcrtuEiLuu3q68dR9cQjJiYRHHUVyhlESglJ80sGFe4ctVucV9wW1SzhZMVCH10aAxooik0CEEl/agiC2eBIp5/BK0nkoCpJIaXQ99OKGrH9dI/H3N2urDXKDIsjhM8wUtXhMImtrDwEl5PdzQhavgM7JpavLv2Qv128JOQLOf8KhlatpurzqSSBiLKDLD0U6OEMcqOw+0E2VaBy8zxd2WULOfdkFLkKcAeW8b4M+UBsaO2pHhV2mUOmu6FnadyWrzRw4SKM1NJ72NCUpHtDl8bAvI1NxVJoBWuvP8F6G9bXVOCp2hOw8Y5luI9A44RqNe9YzA6E+b0OoUCdTt28ZJV+X/8iR5RUmIxMujC6/K4zr8tJgwX4INE10Hs/QXdGn5NbQ0qaOFQ+BCupIlEqGJCEbDdqqGgCqKxZrtQCUVwcV9E5dPlPhx3X59Lgu7wFFehq5+evGB8ptu0nr01p8UJdPYVu//rwRALrxvM36UAC6PLsur+ZNuK4RoGndmZCRBcVU93l2x43b5j2gsaKCrZBXcmoxPwrUUasqyqK0VAgAjZsKE5M2q2rJnAJ0U7VQVQkC3UznixPSzADot7W192vaCNBva68Pp7X4AdCTo9svhDw5owfvgrr8+ctb7Etf3B4dzK7LJ596uvwQqCjZdwC1hGqMcFZJr5QDQAmf2YSBgldswRwDWhJyUEayqhcZSg8oVNmtfchz0xHzmfigmAmgW+omDlkjQMVk7n6gqzdfLzC/YA29OZ4iygeAHqQOUJe/3bgc0eXlLy9eQPqLy5Xr9uy6vIrDDWc4QV1eHE5iAk0+yRPRliJJdmueD5RQfTPPmjyfHAVqYzaamY4Iu/kAUCi7UtKwyWvS1Caf3wR68eKILi8MbhiYBEqP8c4w8t4dlLpuk2/ce19TEGgb8HC0fbSccgf7gS6f+giDETR5OTW7Lh83yhBlHn8QNenp8kQf0+URKF4u3uKg4F00uV34wdvY/A3THeVJTB0FSnCMhx/Fig9U04El0Ys8AsVf7wDq6/J8sRqBDwTOhQ9N8HR5kh/V5YN9KPf+K+B7/Rfezrh34wIl5GbKfaIjurx8GyXk8qMPVN7AG+6ubz1dXt6YCpTqSh6vL6fwnLRpxghfyUQisZybxPN5ZxSopip4JQL2k1q1ktS06maE5x19K6aJxSSVlEyEF7digygpr5Q0jmhGiRJqKqoGPwSez5jltMbnLKopToSPlQezMx+oZsG5hNOczQi0HRi/hH09EpEsN4nnbYcbBUr3/kJlnnZXj2njw+E6pc/eNxqNHTep0XjNbhedBpQu/34lc0Q+OOAI1355JNP2y9Tyk/b5uyN5+bxN5eeXy09W3h1NBSrkjFKS0HTJMEWqO7ZGJCNnmzxLsvNmMT06bZJyhilwXMbI8CRZMnKCahi2VSrGcqW8rVMRDudtxxxGGbONEowpumMKRDThPXiZmG/esKwMkDVKlmU4o9MmsGTOgH6SQvaZGLUci3Jpw8zYEZZkW7nBqOQDbWwfvtkj9Hjn8P06ef19u0HWd3a62+uY9H27u/1q7aFp00r75OqIkqOTgxRZOT+5WkwdnJxfn98eXZ9cX7efLJ+dXF2fnUy74Za42rOrRVNfaediMf9I8DvYUP9m53OcK+a7UVK8Y5P3MvGd3I+dDgpwCxvkS8WY7xCwSV1+EBhz8L/BDvwGNXRwJe4dBliMO/ccv5L7gFIuynKIslCjLNRolPkiNIgjSqKTvvPFkTvsp1gcedDmQKfaHOg9Ngd6h82BDu1nAboohjQhHQvnEFNDOjCTkmG9wsZ1hz0uVM88XX4xFtIg8JCmhnVAk6SQDuHjusMeFapn/z1v8pM270OHNgc63eZA77c50Kk2B3qP3QN0QmXXxhP+YaATYve4kI/2cwCdCHVinX5oQV1eNQwzYxh4DWzbj5Y3cF0O3pgZs0TThpHL5JxkIHC9WDKNnO3k9JJRsm2BkLxj2DGSNAw9XWKnD8QJFqWYc0qZXBHfq3gElwVL7JS8aRlSzDRKGdPJjy7faVYxlzNMs2hBQDnT4gk1DcOKE90opXU36DHV82Jn+3Bn+/vO2g68bB9DyuHhdoMc7xyu3bz5/r67833akr27fHd+eXV2fovrnUcoIdHFqxO2azZ6fX52tfikDYfbl2fTVE9NV9Q4n7NQXMM8Oa1ciaNDydAi1YiWVvR4xCoFAq/kI+l9KyI56YwiRvT9JC4zixSOOhq1IYm3B4vv7ppYRClpEd0huMbM9snbioCv6q4Wt3SiKY4WSRfHdPmCGteVdFx1RGczHjHLPBErBs+RiG5TXGCO8MUxXX6tcfO12zg+3Ouurjdef7gh2quv65TQm+/UXWDeflCXp/LvB/LyxhUh8hVT33GBGV+PPi7LZ2dEfn4pLy9eTl0PTW9JbkiZSpUlFJkwSTZtOKa5egdNBwK3vK2JooT7EAUUPNzNs5ztiRsxcWzjF5NA8A6A8i7TjT1NyajAuQJxJZD0aA2NqJ4Eko74unzc0+U9TYkIY3eOeBLI+vFr1IxdXZ41XE9GJo31mXR5wEdI6t2oLv8ZsKVcXZ4sPghUjeBOVn0zEgBarSSxeAQqpoOBk5H98kkEPrpfXhx2aUOgkoB3VdiVdACopejsFYBG0tN1eWt3QpdPThHpNHKMGz9HdfnGjLp8iuny7Y9HAaDXLzcYRdTlJ3iOAd3UkxX3uRZsZ7EPNFnZwl2zgmJJvjQ/CTSdtqFbGwGaTOYm9ssrJclgurxmVANAeYMJ+WTTEWx7ioy8Kam4eXFERhZUY5qMfLPdjY/JyDfvZ9Llr1JXR6jLy1e3AV1++eol60tfXKba7QeAKpaKQE0rveUEgBLJUAxs0nb6fqD6bhXRBIGq6h1AjbSDuryTdkZ0+UhmswxYNotpcyrQ/KQun9SnAP22NqnLv96bDejJ0Qnq8peLV3/KJKDLtz/hntkXt4vnDwF1m7xgp4X8vhAASuK2knabvL8LebLJMyWflAoaw+M2+dhdTV4QYCzShfSWSoK6vLqbY7p8JDm1ydu7AtPlkY+vy0vTdPm9b/gwDFeXj3fDNnmOtjdSi582SFCXP3p74OryDzV5AEo5ogOiCG5ld4FqMPoSWsh4g5J748IdQDWngEp+BS8Ot78jKo5IY9u78WYxmAZgAygUfKBUzcBPy9PlKR1MBO/Q5cWyoREth4I2xakXu1mMqPfr8vTwAp/m8gGF+Js972YxcjyTLg+hUtwvf/vOBwo9KkA8u33CBiVKp8rIKrv5I2YAN62AdxKUyxCrk4cRmIf2iE+94SJlcSTwJLv/AwaVCBy3NRLfsiBcw03ioGmPPYDAfS6TiYO5jbUOHYmag1w126Z4OyPlipNAdfeRUXjvInQlkC/ekcHbbhKFCfE40OMP7G6b7moDRvn38BH81YW43hDvdsbjB3V5Ql6e4882DuZnL1P44wkhX84/p2AGdc7h7YwcdzINqFrEu2XjRsWMEL1QNkSrXCiZ1X2+7ORLFkkXy45p7OdGAhedckGHuVSxXJS4PMwOiVR1TEdgSXh6fmTaJBrlKlSmfAUm/IJRLqjpKpzl7Ktm2bJKMT5Xrpq5cmVCl4fTiklCIapcTMtVTMqpEFqJZ0mGWdz1OfpxrR8+u1iDeeerZzCFX/t6CJP6V4fbh8du0vabD90HdfmDP959kcn1x8sUSV19fHe0ePvHSfvk7cb557Ozg5Un5x8/t88/f5w2bXJVb44p5uy925fhGCANVPaxmoCJ2pj+LQqUjJ3uRzmiy7My3LOgQDaZGtv9Pq7La0FdXnCbyuD4RFzjuvz6+jCuGXR5Go1iXAFdPgqGe/DZZGquy89u89Wmoc2BTrc50PttDnSqzYHeY74uz4e0WDoSziGihnRgJkghHULHdYc9LlTPvO3di0JIk9JhPdSwDmjJZEiH8HHdYY8K1bOfXJf/l31Exs8K9F+2D50DDdoc6NDmQKfbLwN0fO3gYV1+Qrse93hQ7I6TSZsA+lBgPxXQZMbO6xmmxLNHS2uqndGZLp/XrQyV8LBlulvmvW01LMlmT/5lonA6YzMPks9bmTg+K1P3n5HpbquxWAo6pzEjKkECg6bmdVvg83jYVkeX7zBXOGoNA9PtjIr8IxCv5cZt2YF12pud7lq3u7bdvelud9fW1gnZ2/YefXlzDEmvcYPNA0BTB+2NNvw7WDw7b29c49PC2+dnKbJyfb6xcnZ+tnF9Pr4WOg6Uzyi6KBm4Xs82yNFYZV9ETrYTEwqRiK5YomQG10N5XcmIUskCD7ZwT2NVV2bPV2NiUYyriilKGWMYZVxQDFGyIUUr4eZC9thWFFjTFTFm6pqoVEVBH9PlKZ9TVDGN2h6vsNsjhKdVDEwzczFpn/A2xp2zhnFdbB+//rC9vvf99fbq3nr34pg0Lj7caKTx+lWj8R6Sjnce1OXPTxYX310upm7PNv5spxbffiH4RNZlIi++S8nXkJQ6O3kAqKvL85Bdftd9aICnKT1FhcjX5fUAUCLgA5FxJ6G6z/bOktIue8FlaJUnEbY1MT+M0tPl86jL7wd1+VIFMpM8XV4fraG41RwaAcpZ9pb7eZbZhxR5qrN7A1SMO6IO43rvSSDHN0yXXx3o8py3X540jqesiLKczoDdyYFMnlyncKvspxN8AgEL7Bwq69sjVEPuWKSeAIr1hZqZLS0AtFJgIhgC9bfCjm6eJZxle2DczbPVfUbi3s2zUFaukgwAtb2/inH35tk8AE3jTsOSXaZDoPF9h30oCDQmBeMa0+Vfjz6AYMbNs2T5hP0hBUbvz4MJoHe1+HFdXuXxId+qSlnV8oGmt3bxoQCCovOlURkZkwo8/g0J7WkmAFR6uomdKq9Y/Pj27hyfw7Zr8YYTAAp9hYlNf9OI6JMycv5pMoZqqp7mN9UhUKorFbzLRN1SeSd4R0sQ6PF6d6cxKiOvT3vm+l1Az1aO3q2MAr1e/nL1MFDFtHZRl9fFLSMAlKThclGXz+XL40BzeCMHyVtipRAAyv5aigZAjXx1DGgxj39fQDJEw32KuCcj8wZ0nwC0oBuTDyDIb2YyZfyrA+nkpjkESqhaVjIoLpr5cvAmtgDQb92vF5hf8AEE3e73WXT5IdAr70H2AaAHG1cHDwOFpqNHiGjqaZupwQNdHoaFJGvfwuitOJgEfSVv62lrSwwAxed6q6zJixOPyJAkQq1MWmcj30CXp/kt+NDwERmTt+Lk4UPT40QyVTVX5YdAUfVTYkR9Kvh/VuMOXb7LHsHu6fJ+k7/viet3Az1KPcc/XvHlJf7Ktb0mfzYTUI2yp9O4O91dXV6HAiJliz2xhWoRYQSoih5JGBk4rCvufnkN/0aNVnT3y1NNk4JAbZw7arjhuFD1gVLoMghnO0yX57ThCkegD4ViLPgEJNbmGdC4DufxWyrrQ6nGFlLu0uVfXTR8XR7/AAgOSpSuP6zLB/vQ80+AaBHFZPboegZUvuv7EAMaXU5FOY6DPhQvPZJL4o0NhubdimBacOEaNCkRh3TqCKghQuDowZJg+qLCjLtaxVubEKhlVRCo6o3yRQk9VObgPYAgD9xgIOK9v1yRNMvQgWZylCh4t6Sp47l4OgBFJ30LqyWPt67y7KlOFQRq4IQsDjU0vSm4R/24wAcfMwQv7CEu37rE+1sAO9S/+25n3Stj0txQOS66fHsgR7kojPJR+dMJjUb/uIpGo2crUZYU5c6/RMd9oysrUc4HCh1SVSJxRylFiP5UKQq2suWUKgpMDnUjR9NlpVBylCIDwwInmJSk1FAcaHe7SkHKb206pbIi7RbyuTIxZcIAAAHMSURBVFJcKijlkrNVIX6URHSUfaiMloL3TRSUfTVdUaq5qpI3di2rKMRKym7J2MdbToZAoYlUsAActzRqPVUcHk4z4DRx09Edk2DcuaKSG37QwPPV6gfU5Z+tXhzT7dXvDbL39XD7+42b9P473vvwANCofPXnp3M5unL5/ONG9MvLd4vRJ3/ctq+uKSZ9Prj69G55OlCNQ/GZMsVcG+ryOFqnY/63PMoFgGp4LjgyD/TW6MBDHHjQAVC2oV7D3DmKr5zmOqB7Ev86TsBhWEMxVXOjohx7z07Dt7E0j13EILBBDXXvF/Auxt2Xzx0fY8Z0ePYDNZTK0aiMQOAFNXkU5lcWl6Fq4hH4nU7wHAXKHoHPceyn9zh8N5VNid3f/J9ekw/h4UbpnjJwI95Bzns78A8CZYcfLiYQ14iPl4NfWODsB4ByUfbPf3GTolHvCL6f9B0BGsKGgc/soYZ0YE4u0BAOoeO6K5PHhOrZHOhdmcyBDh1+HqDhDAMP6aGGdGBOADScQ+i47srkMaH6xoByy4tyWEuGdVBDFwEmCmE90o8pZsweFapnqRWYwHDy4tx+lC2z+0H/4WYyN9/cue/cfqTNgf5gmwP9wfb/AEYoIZOlj1pUAAAAAElFTkSuQmCC)\n",
    "  - used in logic for boolean algebra, can tell what is true and false from different alignment sof the table"
   ]
  },
  {
   "cell_type": "markdown",
   "metadata": {},
   "source": [
    "## 3.7 <mark>Comparing Objects</mark>\n",
    "It might be common sense to just use the boolean equality == to compare two objects, but they will only return true if they are the same object (not a copy, but the exact memory code). If there is a variable that points to an object, it is identical, but if it is another instantiatoin of an object, it iwll be false. "
   ]
  },
  {
   "cell_type": "code",
   "execution_count": 3,
   "metadata": {
    "vscode": {
     "languageId": "java"
    }
   },
   "outputs": [
    {
     "name": "stdout",
     "output_type": "stream",
     "text": [
      "true\n",
      "false\n",
      "true\n",
      "false\n"
     ]
    }
   ],
   "source": [
    "String a = \"Hi\";\n",
    "String b = \"Hi\";\n",
    "String c = a;\n",
    "String d = \"Hi!\";\n",
    "String e = new String(\"Hi\");\n",
    "System.out.println(a == c);\n",
    "System.out.println(d == b);\n",
    "System.out.println(a == b); // no string constructor, so still same\n",
    "System.out.println(a == e);"
   ]
  },
  {
   "cell_type": "markdown",
   "metadata": {},
   "source": [
    "If you just want to commpare the two characteristics, the equals() method works. "
   ]
  },
  {
   "cell_type": "code",
   "execution_count": 5,
   "metadata": {
    "vscode": {
     "languageId": "java"
    }
   },
   "outputs": [
    {
     "name": "stdout",
     "output_type": "stream",
     "text": [
      "true\n",
      "false\n",
      "true\n",
      "true\n"
     ]
    }
   ],
   "source": [
    "String a = \"Hi\";\n",
    "String b = \"Hi\";\n",
    "String c = a;\n",
    "String d = \"Hi!\";\n",
    "String e = new String(\"Hi\");\n",
    "System.out.println(a.equals(c));\n",
    "System.out.println(d.equals(b));\n",
    "System.out.println(a.equals(b));\n",
    "System.out.println(a.equals(e));"
   ]
  },
  {
   "cell_type": "markdown",
   "metadata": {},
   "source": [
    "Although these examples are all on strings, they work on all objects."
   ]
  },
  {
   "cell_type": "markdown",
   "metadata": {},
   "source": [
    "# Q1. 2019 AP CSA FRQ\n",
    "The ```APCalendar``` class contains methods used to calculate information about a calendar. You will write two methods of the class. \n"
   ]
  },
  {
   "cell_type": "code",
   "execution_count": null,
   "metadata": {
    "vscode": {
     "languageId": "java"
    }
   },
   "outputs": [],
   "source": [
    "public class APCalendar\n",
    "{\n",
    "    /** Returns true if year is a leap year and false otherwise */\n",
    "    private static boolean isLeapyear(int year)\n",
    "    { /* implementation not shown */}\n",
    "\n",
    "    /** Returns the number of leap years between year1 and year2,  inclusive. \n",
    "     *  Precondition: 0 <= year1 <= year2 \n",
    "     * */ \n",
    "    public static int numberOfLeapYears(int year1, int year2)\n",
    "    { /* to be implemented in part (a) */}\n",
    "\n",
    "    /** Returns the value representing the day of the week for the first day of year, \n",
    "     *  where 0 denotes Sunday, 1 denotes Monday, ..., and 6 denotes Saturday. \n",
    "     */\n",
    "    private static int firstDayOfYear(int year)\n",
    "    { /* implementation not shown */ }\n",
    "\n",
    "    /** Returns n, where month, day,  and year specify the nth day of the year. \n",
    "     * *  Returns 1 for January 1 (month = 1, day = 1)  of any year. \n",
    "     * *  Precondition: The date represented by month, day, year is a valid date. \n",
    "     * */\n",
    "    \n",
    "    private static int dayOfYear(int month, int day, int year)\n",
    "    { /* implementation not shown */ }\n",
    "\n",
    "    /** Returns the value representing the day of the week for the given date \n",
    "     * (month, day, year),  where 0 denotes Sunday, 1 denotes Monday, ..., \n",
    "     * and 6 denotes Saturday. \n",
    "     * Precondition: The date represented by month, day, year is a valid date. \n",
    "     * *  */ \n",
    "    public static int dayOfWeek(int month, int day, int year) \n",
    "    { /* to be implemented in part (b)  */}\n",
    "\n",
    "    // there may be instance variables, constructors, and other methods not shown.\n",
    "}"
   ]
  },
  {
   "cell_type": "markdown",
   "metadata": {},
   "source": [
    "## (a) `numberOfLeapYears`\n",
    "Write the static method ```numberOfLeapYears```, which returns the number of leap years between ```year1``` and ```year2```, inclusive.\n",
    "\n",
    "In order to calculate this value, a helper method is provided for you.\n",
    "\n",
    "- isLeapYear(year) returns ```true``` if ```year``` is a leap year and ```false``` otherwise\n",
    "\n",
    "\n",
    "Complete method ```numberOfLeapYears``` below. You must use `isLeapYear` appropriately to receive full credit. "
   ]
  },
  {
   "cell_type": "code",
   "execution_count": null,
   "metadata": {
    "vscode": {
     "languageId": "java"
    }
   },
   "outputs": [],
   "source": [
    "/** Returns the number of leap years between year1 and year2,  inclusive. \n",
    " *  Precondition: 0 <= year1 <= year2 \n",
    " * */ \n",
    "public static int numberOfLeapYears(int year1, int year2) {\n",
    "    int leapYearCount = 0; // variable to keep track of amount of leap years\n",
    "\n",
    "    // for loop: set year to year1, and while it is not yet at year2, find out if leapyear or not\n",
    "    for(int year = year1; year <= year2; year++) {\n",
    "\n",
    "        // check the year for if it is leap year\n",
    "        if(isLeapYear(year)) {\n",
    "            leapYearCount++; // increase count\n",
    "        }\n",
    "    }\n",
    "    return leapYearCount; // return the integer for the count of leap years\n",
    "}"
   ]
  },
  {
   "cell_type": "markdown",
   "metadata": {},
   "source": [
    "The approach I took was to make a loop to go through all the years between the two years, and check if it was a leap year. If it was, it would add one to the count of the leap year. As seen above, this is that pseudocode written in actual java. Comparing to the solution code, it is almost identitcal (with the variable names as the exception)."
   ]
  },
  {
   "cell_type": "markdown",
   "metadata": {},
   "source": [
    "## (b) `dayOfWeek`\n",
    "\n",
    "Write the static method ```dayOfWeek```,  which returns the integer value representing the day of the week for the given date  (`month, day, year`),  where 0 denotes Sunday, 1 denotes Monday, ..., and 6 denotes Saturday. For example, 2019 began on a Tuesday, and January 5 is the fifth day of 2019. As a result, January 5, 2019, fell on a Saturday, and the method call ```dayOfWeek(1, 5, 2019)```  returns 6. \n",
    "\n",
    "As another example, January 10 is the tenth day of 2019. As a result, January 10, 2019, fell on  a Thursday, and the method call `dayOfWeek(1, 10, 2019)` returns 4.\n",
    "\n",
    "In order to calculate this value, two helper methods are provided for you.\n",
    "\n",
    "- `firstDayOfYear(year)` returns the integer value representing the day of the week for the first day of `year`,  where 0 denotes Sunday, 1 denotes Monday, ..., and 6 denotes Saturday. For example, since 2019 began on a Tuesday, `firstDayOfYear(2019)` returns 2. \n",
    "- `dayOfYear(month, day, year)` returns *n*, where `month`, `day`,  and `year` specify the nth day of the year. For the first day of the year, January 1  (`month = 1, day = 1`),  the value  1 is returned. This method accounts for whether `year` is a leap year. For example,  `dayOfYear(3, 1, 2017)` returns 60,  since 2017 is not a leap year, while  `dayOfYear(3, 1, 2016)` returns 61,  since 2016 is a leap year. \n",
    "\n",
    "\n",
    "Complete method `dayOfWeek` below. You must use `firstDayOfYear` and `dayOfYear` appropriately to receive full credit."
   ]
  },
  {
   "cell_type": "code",
   "execution_count": null,
   "metadata": {
    "vscode": {
     "languageId": "java"
    }
   },
   "outputs": [],
   "source": [
    "/** Returns the value representing the day of the week for the given date \n",
    " * (month, day, year),  where 0 denotes Sunday, 1 denotes Monday, ..., \n",
    " * and 6 denotes Saturday. \n",
    " * Precondition: The date represented by month, day, year is a valid date. \n",
    " * *  */ \n",
    "public static int dayOfWeek(int month, int day, int year) {\n",
    "    firstDay = firstDayOfYear(year); // store the day of the week of the first day\n",
    "    dayAfterNew = dayOfYear(month, day, year); // store the number of days since new year (inclusive)\n",
    "\n",
    "    return (firstDay + dayAfterNew - 1) % 7; // adds the day of the week to the days since new year, but minus 1 because the dayAfterNew includes the first day. then, mod 7\n",
    "}"
   ]
  },
  {
   "cell_type": "markdown",
   "metadata": {},
   "source": [
    "For this one, I initially began by trying to make a loop, and adding each day to the number of the firstDay day by day. I soon realized that was not the intended solution.\n",
    "\n",
    "Instead, I set variables for the firstDay day of the week, and the days after the new year as dayAfterNew. Then, I returned the value of them added minus 1 to get some number, and modulus 7 to take the modulus (remainder). The remainder would be the day of the week, which is what is returned\n",
    "\n",
    "Comparing to the answer, I see that the solution has the return value stored within another variable, so it is almost identitical."
   ]
  },
  {
   "cell_type": "markdown",
   "metadata": {},
   "source": [
    "# Conditionals Exercises\n",
    "\n",
    "2"
   ]
  },
  {
   "cell_type": "code",
   "execution_count": 10,
   "metadata": {
    "vscode": {
     "languageId": "java"
    }
   },
   "outputs": [
    {
     "name": "stdout",
     "output_type": "stream",
     "text": [
      "input a: \n",
      "Input b: \n",
      "Input c: \n",
      "The roots are -2.9384471871911697 and -7.061552812808831\n"
     ]
    }
   ],
   "source": [
    "import java.util.Scanner;\n",
    "public class Exercise2 {\n",
    "\n",
    "    public static void main(String[] args) {\n",
    "        Scanner input = new Scanner(System.in);\n",
    "\n",
    "        System.out.println(\"input a: \");\n",
    "        double a = input.nextDouble();\n",
    "        System.out.println(\"Input b: \");\n",
    "        double b = input.nextDouble();\n",
    "        System.out.println(\"Input c: \");\n",
    "        double c = input.nextDouble();\n",
    "\n",
    "        double discriminant = b * b - 4 * a * c;\n",
    "\n",
    "        if (discriminant > 0.0) {\n",
    "            double root1 = (-b + Math.pow(discriminant, 0.5)/(2*a));\n",
    "            double root2 = (-b - Math.pow(discriminant, 0.5)/(2*a));\n",
    "            System.out.println(\"The roots are \" + root1 + \" and \" + root2);\n",
    "        } else if (discriminant == 0) {\n",
    "            double root = (-b/(2*a));\n",
    "            System.out.println(\"The root is \" + root);\n",
    "        } else {\n",
    "            System.out.println(\"no real roots\");\n",
    "        }\n",
    "    }\n",
    "    \n",
    "}\n",
    "\n",
    "Exercise2.main(null);"
   ]
  },
  {
   "cell_type": "markdown",
   "metadata": {},
   "source": [
    "4 Write a Java program that reads a floating-point number and prints \"zero\" if the number is zero. Otherwise, print \"positive\" or \"negative\". Add \"small\" if the absolute value of the number is less than 1, or \"large\" if it exceeds 1,000,000. Go to the editor"
   ]
  },
  {
   "cell_type": "code",
   "execution_count": 1,
   "metadata": {
    "vscode": {
     "languageId": "java"
    }
   },
   "outputs": [
    {
     "name": "stdout",
     "output_type": "stream",
     "text": [
      "enter number: 50.0\n",
      "positive\n"
     ]
    }
   ],
   "source": [
    "public class Exercise4 {\n",
    "    \n",
    "\n",
    "\n",
    "    public static void main(String[] args) {\n",
    "        Scanner input = new Scanner(System.in);\n",
    "\n",
    "        System.out.print(\"enter number: \");\n",
    "        double number = input.nextDouble();\n",
    "        System.out.println(number);\n",
    "\n",
    "        if (number > 0) {\n",
    "            System.out.println(\"positive\");\n",
    "        } else if (number == 0) {\n",
    "            System.out.println(\"zero\");\n",
    "        } else {\n",
    "            System.out.println(\"negative\");\n",
    "        }\n",
    "\n",
    "        if (number < 1) {\n",
    "            System.out.println(\"negative\");\n",
    "        } else if (number > 1000000) {\n",
    "            System.out.println(\"large\");\n",
    "        }\n",
    "\n",
    "\n",
    "    }\n",
    "}\n",
    "\n",
    "Exercise4.main(null);"
   ]
  },
  {
   "cell_type": "markdown",
   "metadata": {},
   "source": [
    "6 Write a Java program that reads in two floating-point numbers and tests whether they are the same up to three decimal places. Go to the editor"
   ]
  },
  {
   "cell_type": "code",
   "execution_count": 4,
   "metadata": {
    "vscode": {
     "languageId": "java"
    }
   },
   "outputs": [
    {
     "name": "stdout",
     "output_type": "stream",
     "text": [
      "enter number: 5.32532643\n",
      "enter number: 5.32585\n",
      "same\n"
     ]
    }
   ],
   "source": [
    "public class Exercise6 {\n",
    "\n",
    "    static double truncate(double n, int decimalPlace) {\n",
    "        n = n*Math.pow(10, decimalPlace);\n",
    "        n = Math.floor(n);\n",
    "        n = n/Math.pow(10, decimalPlace);\n",
    "\n",
    "        return n;\n",
    "    }\n",
    "    public static void main(String[] args) {\n",
    "        Scanner input = new Scanner(System.in);\n",
    "\n",
    "        System.out.print(\"enter number: \");\n",
    "        double number1 = input.nextDouble();\n",
    "        double num1Trun = truncate(number1, 3);\n",
    "        System.out.println(number1);\n",
    "\n",
    "        System.out.print(\"enter number: \");\n",
    "        double number2 = input.nextDouble();\n",
    "        double num2Trun = truncate(number2, 3);\n",
    "        System.out.println(number2);\n",
    "\n",
    "        if (num1Trun == num2Trun) {\n",
    "            System.out.println(\"same\");\n",
    "        } else {\n",
    "            System.out.println(\"diff\");\n",
    "        }\n",
    "        input.close();\n",
    "\n",
    "        \n",
    "    }\n",
    "}\n",
    "\n",
    "Exercise6.main(null);"
   ]
  },
  {
   "cell_type": "markdown",
   "metadata": {},
   "source": [
    "8 Write a Java program that takes the user to provide a single character from the alphabet. Print Vowel or Consonant, depending on the user input. If the user input is not a letter (between a and z or A and Z), or is a string of length > 1, print an error message."
   ]
  },
  {
   "cell_type": "code",
   "execution_count": 8,
   "metadata": {
    "vscode": {
     "languageId": "java"
    }
   },
   "outputs": [
    {
     "name": "stdout",
     "output_type": "stream",
     "text": [
      "enter letter: a\n",
      "vowel\n"
     ]
    }
   ],
   "source": [
    "import java.util.ArrayList;\n",
    "import java.util.Scanner;\n",
    "import java.util.Set;\n",
    "\n",
    "/**\n",
    " * Exercise6\n",
    " */\n",
    "public class Exercise8 {\n",
    "\n",
    "    \n",
    "    public static void main(String[] args) {\n",
    "        Scanner input = new Scanner(System.in);\n",
    "\n",
    "        System.out.print(\"enter letter: \");\n",
    "        String letter = input.nextLine();\n",
    "        System.out.println(letter);\n",
    "\n",
    "        Set<String> vowels = Set.of(\"a\", \"e\", \"i\", \"o\", \"u\", \"A\", \"E\", \"I\", \"O\", \"U\");\n",
    "\n",
    "        if(letter.length() > 1) {\n",
    "            System.out.println(\"not one letter\");\n",
    "        } else if (!letter.matches(\"[a-zA-Z]+\")) {\n",
    "            System.out.println(\"not a letter\");\n",
    "        } else if (vowels.contains(letter)) {\n",
    "            System.out.println(\"vowel\");\n",
    "        } else {\n",
    "            System.out.println(\"consonant\");\n",
    "        }\n",
    "\n",
    "\n",
    "        input.close();\n",
    "\n",
    "        \n",
    "    }\n",
    "}\n",
    "\n",
    "Exercise8.main(null);"
   ]
  },
  {
   "cell_type": "markdown",
   "metadata": {},
   "source": [
    "10 Write a program in Java to display the first 10 natural numbers."
   ]
  },
  {
   "cell_type": "code",
   "execution_count": 9,
   "metadata": {
    "vscode": {
     "languageId": "java"
    }
   },
   "outputs": [
    {
     "name": "stdout",
     "output_type": "stream",
     "text": [
      "The first 10 natural numbers are:\n",
      "1\n",
      "2\n",
      "3\n",
      "4\n",
      "5\n",
      "6\n",
      "7\n",
      "8\n",
      "9\n",
      "10\n"
     ]
    }
   ],
   "source": [
    "public class Exercise10 {\n",
    "\n",
    "    \n",
    "    public static void main(String[] args) {\n",
    "        System.out.println(\"The first 10 natural numbers are:\");\n",
    "\n",
    "        for (int i = 1; i <= 10; i++) {\n",
    "            System.out.println(i);\n",
    "        }\n",
    "        \n",
    "    }\n",
    "}\n",
    "\n",
    "Exercise10.main(null);"
   ]
  },
  {
   "cell_type": "markdown",
   "metadata": {},
   "source": [
    "12 Write a program in Java to input 5 numbers from keyboard and find their sum and average."
   ]
  },
  {
   "cell_type": "code",
   "execution_count": 16,
   "metadata": {
    "vscode": {
     "languageId": "java"
    }
   },
   "outputs": [
    {
     "name": "stdout",
     "output_type": "stream",
     "text": [
      "Input the 5 numbers\n",
      "8\n",
      "7\n",
      "3\n",
      "6\n",
      "5\n",
      "The sum of 5 no is: 29\n",
      "The avg of 5 no is: 5.8\n"
     ]
    }
   ],
   "source": [
    "import java.util.Scanner;\n",
    "import java.util.Set;\n",
    "\n",
    "/**\n",
    " * Exercise6\n",
    " */\n",
    "public class Exercise12 {\n",
    "\n",
    "    \n",
    "    public static void main(String[] args) {\n",
    "        int sum = 0;\n",
    "        double average;\n",
    "\n",
    "        System.out.println(\"Input the 5 numbers\");\n",
    "        Scanner input = new Scanner(System.in);\n",
    "        for (int i = 0; i < 5; i++) {\n",
    "            int num = input.nextInt();\n",
    "            System.out.println(num);\n",
    "            sum += num;\n",
    "        }\n",
    "\n",
    "        input.close();\n",
    "\n",
    "        average = (double) sum/5;\n",
    "\n",
    "        System.out.println(\"The sum of 5 no is: \" + sum);\n",
    "        System.out.println(\"The avg of 5 no is: \" + average);\n",
    "        \n",
    "    }\n",
    "}\n",
    "\n",
    "Exercise12.main(null);"
   ]
  },
  {
   "cell_type": "markdown",
   "metadata": {},
   "source": [
    "14 Write a program in Java to display the multiplication table of a given integer."
   ]
  },
  {
   "cell_type": "code",
   "execution_count": 18,
   "metadata": {
    "vscode": {
     "languageId": "java"
    }
   },
   "outputs": [
    {
     "name": "stdout",
     "output_type": "stream",
     "text": [
      "Input the number: \n",
      "Input num of terms: \n",
      "6 X 0 = 0\n",
      "6 X 1 = 6\n",
      "6 X 2 = 12\n",
      "6 X 3 = 18\n",
      "6 X 4 = 24\n",
      "6 X 5 = 30\n"
     ]
    }
   ],
   "source": [
    "public class Exercise14 {\n",
    "\n",
    "    \n",
    "    public static void main(String[] args) {\n",
    "        \n",
    "\n",
    "        System.out.println(\"Input the number: \");\n",
    "        Scanner input = new Scanner(System.in);\n",
    "        int num = input.nextInt();\n",
    "\n",
    "        System.out.println(\"Input num of terms: \");\n",
    "        int termNum = input.nextInt();\n",
    "\n",
    "        for (int i = 0; i <= termNum; i++) {\n",
    "            System.out.println(num + \" X \" + i + \" = \" + num*i);\n",
    "        }\n",
    "\n",
    "        input.close();\n",
    "\n",
    "        \n",
    "        \n",
    "    }\n",
    "}\n",
    "\n",
    "Exercise14.main(null);"
   ]
  },
  {
   "cell_type": "markdown",
   "metadata": {},
   "source": [
    "16 Write a program in Java to display the pattern like right angle triangle with a number."
   ]
  },
  {
   "cell_type": "code",
   "execution_count": 19,
   "metadata": {
    "vscode": {
     "languageId": "java"
    }
   },
   "outputs": [
    {
     "name": "stdout",
     "output_type": "stream",
     "text": [
      "Input num of rows: 10\n",
      "1\n",
      "12\n",
      "123\n",
      "1234\n",
      "12345\n",
      "123456\n",
      "1234567\n",
      "12345678\n",
      "123456789\n",
      "12345678910\n"
     ]
    }
   ],
   "source": [
    "public class Exercise16 {\n",
    "\n",
    "    \n",
    "    public static void main(String[] args) {\n",
    "        \n",
    "\n",
    "        System.out.print(\"Input num of rows: \");\n",
    "        Scanner input = new Scanner(System.in);\n",
    "        int num = input.nextInt();\n",
    "        System.out.println(num);\n",
    "\n",
    "        \n",
    "\n",
    "        for (int i = 1; i <= num; i++) {\n",
    "            \n",
    "            for (int j = 1; j <= i; j++) {\n",
    "                System.out.print(j);\n",
    "            }\n",
    "\n",
    "            System.out.println();\n",
    "        }\n",
    "\n",
    "        \n",
    "        \n",
    "    }\n",
    "}\n",
    "\n",
    "Exercise16.main(null);"
   ]
  },
  {
   "cell_type": "markdown",
   "metadata": {},
   "source": [
    "18 Write a program in Java to make such a pattern like right angle triangle with number increased by 1.The pattern like :"
   ]
  },
  {
   "cell_type": "code",
   "execution_count": 21,
   "metadata": {
    "vscode": {
     "languageId": "java"
    }
   },
   "outputs": [
    {
     "name": "stdout",
     "output_type": "stream",
     "text": [
      "Input num of rows: 4\n",
      "1 \n",
      "2 3 \n",
      "4 5 6 \n",
      "7 8 9 10 \n"
     ]
    }
   ],
   "source": [
    "public class Exercise18 {\n",
    "\n",
    "    \n",
    "    public static void main(String[] args) {\n",
    "        \n",
    "\n",
    "        System.out.print(\"Input num of rows: \");\n",
    "        Scanner input = new Scanner(System.in);\n",
    "        int num = input.nextInt();\n",
    "        System.out.println(num);\n",
    "\n",
    "        int numDisplay = 1;\n",
    "        \n",
    "\n",
    "        for (int i = 1; i <= num; i++) {\n",
    "            \n",
    "            for (int j = 1; j <= i; j++) {\n",
    "                System.out.print(numDisplay + \" \");\n",
    "                numDisplay++;\n",
    "            }\n",
    "\n",
    "            System.out.println();\n",
    "        }\n",
    "\n",
    "        \n",
    "        \n",
    "    }\n",
    "}\n",
    "\n",
    "Exercise18.main(null);"
   ]
  },
  {
   "cell_type": "markdown",
   "metadata": {},
   "source": [
    "20 Write a program in Java to print the Floyd's Triangle."
   ]
  },
  {
   "cell_type": "code",
   "execution_count": 22,
   "metadata": {
    "vscode": {
     "languageId": "java"
    }
   },
   "outputs": [
    {
     "name": "stdout",
     "output_type": "stream",
     "text": [
      "Input num of rows: 5\n",
      "1 \n",
      "2 3 \n",
      "4 5 6 \n",
      "7 8 9 10 \n",
      "11 12 13 14 15 \n"
     ]
    }
   ],
   "source": [
    "public class Exercise20 {\n",
    "\n",
    "    \n",
    "    public static void main(String[] args) {\n",
    "        \n",
    "\n",
    "        System.out.print(\"Input num of rows: \");\n",
    "        Scanner input = new Scanner(System.in);\n",
    "        int num = input.nextInt();\n",
    "        System.out.println(num);\n",
    "\n",
    "        int numDisplay = 1;\n",
    "        \n",
    "\n",
    "        for (int i = 1; i <= num; i++) {\n",
    "            \n",
    "            for (int j = 1; j <= i; j++) {\n",
    "                System.out.print(numDisplay + \" \");\n",
    "                numDisplay++;\n",
    "            }\n",
    "\n",
    "            System.out.println();\n",
    "        }\n",
    "\n",
    "        \n",
    "        \n",
    "    }\n",
    "}\n",
    "\n",
    "Exercise20.main(null);"
   ]
  }
 ],
 "metadata": {
  "kernelspec": {
   "display_name": "Java",
   "language": "java",
   "name": "java"
  },
  "language_info": {
   "codemirror_mode": "java",
   "file_extension": ".jshell",
   "mimetype": "text/x-java-source",
   "name": "Java",
   "pygments_lexer": "java",
   "version": "17.0.4+8-Ubuntu-120.04"
  },
  "orig_nbformat": 4
 },
 "nbformat": 4,
 "nbformat_minor": 2
}
