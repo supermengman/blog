{
 "cells": [
  {
   "attachments": {},
   "cell_type": "markdown",
   "metadata": {},
   "source": [
    "# Sort Notes\n",
    "> ChatGPT didn't help fr\n",
    "\n",
    "- toc: true \n",
    "- badges: true\n",
    "- comments: true\n",
    "- categories: [jupyter,java,collegeboard,sort]"
   ]
  },
  {
   "attachments": {},
   "cell_type": "markdown",
   "metadata": {},
   "source": [
    "# Generic Class"
   ]
  },
  {
   "cell_type": "code",
   "execution_count": 1,
   "metadata": {
    "vscode": {
     "languageId": "java"
    }
   },
   "outputs": [],
   "source": [
    "import java.util.*;\n",
    "\n",
    "abstract class Sorter<T> {\n",
    "  String name;\n",
    "  \n",
    "  public Sorter(String name) {\n",
    "      this.name = name;\n",
    "  }\n",
    "  \n",
    "  public String getName() {\n",
    "      return this.name;\n",
    "  }\n",
    "  \n",
    "  abstract public List<T> sort(List<T> list);\n",
    "}\n"
   ]
  },
  {
   "attachments": {},
   "cell_type": "markdown",
   "metadata": {},
   "source": [
    "# Bubble Sort\n",
    "\n",
    "Bubble sort is the simplest sorting algorithm that works by repeatedly swapping the adjacent elements if they are in the wrong order.\n",
    "\n",
    "It's time complexity is quite high, as it has to go through the entire array multiple times, constantly swapping elements and checking.\n",
    "\n",
    "![Bubble Sort](https://upload.wikimedia.org/wikipedia/commons/c/c8/Bubble-sort-example-300px.gif)\n",
    "shown above is a rudimentary example of the steps that bubble sort takes to sort an array."
   ]
  },
  {
   "cell_type": "code",
   "execution_count": 2,
   "metadata": {
    "vscode": {
     "languageId": "java"
    }
   },
   "outputs": [],
   "source": [
    "\n",
    "class BubbleSorter<T extends Comparable> extends Sorter<T> {\n",
    "  public BubbleSorter() {\n",
    "      super(\"Bubble Sort\");\n",
    "  }\n",
    "  \n",
    "  public List<T> sort (List<T> list) {\n",
    "      boolean swapped = true;\n",
    "      while (swapped) {\n",
    "          swapped = false;\n",
    "          for (int i = 0; i<list.size()-1; i++) {\n",
    "              if (list.get(i).compareTo(list.get(i+1)) > 0) {\n",
    "                  T temp = list.get(i+1);\n",
    "                  list.set(i+1, list.get(i));\n",
    "                  list.set(i, temp);\n",
    "                  swapped = true;\n",
    "              }\n",
    "          }\n",
    "          System.out.println(\"Intermediate: \" + list);\n",
    "      }\n",
    "      return list;\n",
    "  }\n",
    "}"
   ]
  },
  {
   "attachments": {},
   "cell_type": "markdown",
   "metadata": {},
   "source": [
    "# Selection Sort\n",
    "\n",
    "Selection sort is a simple sorting algorithm that works by repeatedly finding the minimum element from an unsorted part of an array and swapping it with the first element of the unsorted part. This process is repeated until the entire array is sorted.\n",
    "\n",
    "\n",
    "Here are the steps to perform a selection sort on an array of n elements:\n",
    "\n",
    "- Set the first element as the minimum.\n",
    "- Iterate through the remaining elements and compare each element with the current minimum.\n",
    "- If a smaller element is found, set it as the new minimum.\n",
    "- Once the end of the array is reached, swap the current minimum with the first element of the unsorted part.\n",
    "- Increment the starting index of the unsorted part and repeat the above steps until the entire array is sorted.\n",
    "\n",
    "Time complexity: O(n^2) (worst case)\n",
    "\n",
    "![Selection Sort](https://upload.wikimedia.org/wikipedia/commons/9/94/Selection-Sort-Animation.gif)"
   ]
  },
  {
   "cell_type": "code",
   "execution_count": 2,
   "metadata": {
    "vscode": {
     "languageId": "java"
    }
   },
   "outputs": [
    {
     "name": "stdout",
     "output_type": "stream",
     "text": [
      "[1, 4, 3, 2, 5]\n",
      "[1, 2, 3, 4, 5]\n",
      "[1, 2, 3, 4, 5]\n",
      "[1, 2, 3, 4, 5]\n"
     ]
    }
   ],
   "source": [
    "public class SelectionSort {\n",
    "\n",
    "    public int[] sSort(int[] arr) {\n",
    "        int n = arr.length;\n",
    "        for (int i = 0; i < n - 1; i++) {\n",
    "            int minIndex = i;\n",
    "            for (int j = i + 1; j < n; j++) {\n",
    "                if (arr[j] < arr[minIndex]) {\n",
    "                    minIndex = j;\n",
    "                }\n",
    "            }\n",
    "            int temp = arr[minIndex];\n",
    "            arr[minIndex] = arr[i];\n",
    "            arr[i] = temp;\n",
    "\n",
    "            System.out.println(Arrays.toString(arr));\n",
    "        }\n",
    "        return arr;\n",
    "    }\n",
    "\n",
    "    public static void main(String[] args) {\n",
    "        int[] arr = { 5, 4, 3, 2, 1 };\n",
    "        SelectionSort ss = new SelectionSort();\n",
    "        \n",
    "        int[] sortedArr = ss.sSort(arr);\n",
    "    }\n",
    "}\n",
    "\n",
    "SelectionSort.main(null);"
   ]
  },
  {
   "attachments": {},
   "cell_type": "markdown",
   "metadata": {},
   "source": [
    "# Insertion Sort\n",
    "\n",
    "Insertion sort is a simple sorting algorithm that works by iterating through an array of elements, comparing each element to the ones that came before it, and swapping them if they are out of order. This process is repeated until the entire array is sorted. It h as two parts: the sorted part and the unsorted part. The sorted part is at the beginning of the array, and the unsorted part is at the end of the array. The algorithm iterates through the unsorted part, removing one element at a time, and inserting it into the correct position in the sorted part. To insert, the algorithm compares elements to the sorted subaray from right to left. If the element is smaller than the current, the current element is shifted right. This process is repeated until the element is larger than the current element, or the beginning of the array is reached. \n",
    "\n",
    "Time complexity: O(n^2) (worst case), but it can be better if the array is partially sorted. This makes it more efficient than selection sort and bubble sort, as those require going through the array the whole time. \n",
    "\n",
    "![Insertion Sort](https://upload.wikimedia.org/wikipedia/commons/0/0f/Insertion-sort-example-300px.gif)"
   ]
  },
  {
   "cell_type": "code",
   "execution_count": 4,
   "metadata": {
    "vscode": {
     "languageId": "java"
    }
   },
   "outputs": [
    {
     "name": "stdout",
     "output_type": "stream",
     "text": [
      "[4, 5, 3, 2, 1]\n",
      "[3, 4, 5, 2, 1]\n",
      "[2, 3, 4, 5, 1]\n",
      "[1, 2, 3, 4, 5]\n"
     ]
    }
   ],
   "source": [
    "public class InsertionSort {\n",
    "\n",
    "    public int[] iSort(int[] arr) {\n",
    "        int n = arr.length;\n",
    "        for (int i = 1; i < n; i++) {\n",
    "            int key = arr[i];\n",
    "            int j = i - 1;\n",
    "            while (j >= 0 && arr[j] > key) {\n",
    "                arr[j + 1] = arr[j];\n",
    "                j = j - 1;\n",
    "            }\n",
    "            arr[j + 1] = key;\n",
    "\n",
    "            System.out.println(Arrays.toString(arr));\n",
    "        }\n",
    "        return arr;\n",
    "    }\n",
    "\n",
    "    public static void main(String[] args) {\n",
    "        int[] arr = { 5, 4, 3, 2, 1 };\n",
    "        InsertionSort is = new InsertionSort();\n",
    "        \n",
    "        int[] sortedArr = is.iSort(arr);\n",
    "    }\n",
    "}\n",
    "\n",
    "InsertionSort.main(null);"
   ]
  },
  {
   "attachments": {},
   "cell_type": "markdown",
   "metadata": {},
   "source": [
    "# Merge Sort\n",
    "\n",
    "Merge sort is a divide and conquer algorithm that works by recursively splitting the array into two halves, sorting each half, and then merging the two sorted halves. The merge step is the most important part of the algorithm, as it is where the actual sorting takes place. The merge step works by comparing the first element of each half, and placing the smaller element into the result array. This process is repeated until all the elements have been placed into the result array.\n",
    "\n",
    "Time complexity: O(nlogn) (worst case)\n",
    "\n",
    "![Merge Sort](https://upload.wikimedia.org/wikipedia/commons/c/cc/Merge-sort-example-300px.gif)"
   ]
  },
  {
   "cell_type": "code",
   "execution_count": 8,
   "metadata": {
    "vscode": {
     "languageId": "java"
    }
   },
   "outputs": [
    {
     "name": "stdout",
     "output_type": "stream",
     "text": [
      "[3, 10]\n",
      "[7, 15]\n",
      "[3, 7, 10, 15]\n",
      "[8, 23]\n",
      "[29, 98]\n",
      "[8, 23, 29, 98]\n",
      "[3, 7, 8, 10, 15, 23, 29, 98]\n"
     ]
    }
   ],
   "source": [
    "public class MergeSort {\n",
    "    \n",
    "        public int[] mSort(int[] arr) {\n",
    "            int n = arr.length;\n",
    "            if (n < 2) {\n",
    "                return arr;\n",
    "            }\n",
    "            int mid = n / 2;\n",
    "            int[] left = new int[mid];\n",
    "            int[] right = new int[n - mid];\n",
    "    \n",
    "            for (int i = 0; i < mid; i++) {\n",
    "                left[i] = arr[i];\n",
    "            }\n",
    "            for (int i = mid; i < n; i++) {\n",
    "                right[i - mid] = arr[i];\n",
    "            }\n",
    "    \n",
    "            mSort(left);\n",
    "            mSort(right);\n",
    "            merge(left, right, arr);\n",
    "    \n",
    "            return arr;\n",
    "        }\n",
    "    \n",
    "        public void merge(int[] left, int[] right, int[] arr) {\n",
    "            int i = 0;\n",
    "            int j = 0;\n",
    "            int k = 0;\n",
    "    \n",
    "            while (i < left.length && j < right.length) {\n",
    "                if (left[i] <= right[j]) {\n",
    "                    arr[k] = left[i];\n",
    "                    i++;\n",
    "                } else {\n",
    "                    arr[k] = right[j];\n",
    "                    j++;\n",
    "                }\n",
    "                k++;\n",
    "            }\n",
    "    \n",
    "            while (i < left.length) {\n",
    "                arr[k] = left[i];\n",
    "                i++;\n",
    "                k++;\n",
    "            }\n",
    "    \n",
    "            while (j < right.length) {\n",
    "                arr[k] = right[j];\n",
    "                j++;\n",
    "                k++;\n",
    "            }\n",
    "    \n",
    "            System.out.println(Arrays.toString(arr));\n",
    "        }\n",
    "    \n",
    "        public static void main(String[] args) {\n",
    "            int[] arr = { 10, 3, 15, 7, 8, 23, 98, 29};\n",
    "            MergeSort ms = new MergeSort();\n",
    "            \n",
    "            int[] sortedArr = ms.mSort(arr);\n",
    "        }\n",
    "}\n",
    "\n",
    "MergeSort.main(null);"
   ]
  }
 ],
 "metadata": {
  "kernelspec": {
   "display_name": "Java",
   "language": "java",
   "name": "java"
  },
  "language_info": {
   "codemirror_mode": "java",
   "file_extension": ".jshell",
   "mimetype": "text/x-java-source",
   "name": "Java",
   "pygments_lexer": "java",
   "version": "17-ea+11-Ubuntu-116.042"
  },
  "orig_nbformat": 4
 },
 "nbformat": 4,
 "nbformat_minor": 2
}
