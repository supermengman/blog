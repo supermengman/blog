{
 "cells": [
  {
   "attachments": {},
   "cell_type": "markdown",
   "metadata": {},
   "source": [
    "# Sort Notes\n",
    "> ChatGPT didn't help fr\n",
    "\n",
    "- toc: true \n",
    "- badges: true\n",
    "- comments: true\n",
    "- categories: [jupyter,java,collegeboard,sort]"
   ]
  },
  {
   "attachments": {},
   "cell_type": "markdown",
   "metadata": {},
   "source": [
    "# Generic Class"
   ]
  },
  {
   "cell_type": "code",
   "execution_count": 1,
   "metadata": {
    "vscode": {
     "languageId": "java"
    }
   },
   "outputs": [],
   "source": [
    "import java.util.*;\n",
    "\n",
    "abstract class Sorter<T> {\n",
    "  String name;\n",
    "  \n",
    "  public Sorter(String name) {\n",
    "      this.name = name;\n",
    "  }\n",
    "  \n",
    "  public String getName() {\n",
    "      return this.name;\n",
    "  }\n",
    "  \n",
    "  abstract public List<T> sort(List<T> list);\n",
    "}\n"
   ]
  },
  {
   "attachments": {},
   "cell_type": "markdown",
   "metadata": {},
   "source": [
    "# Bubble Sort\n",
    "\n",
    "Bubble sort is the simplest sorting algorithm that works by repeatedly swapping the adjacent elements if they are in the wrong order.\n",
    "\n",
    "It's time complexity is quite high, as it has to go through the entire array multiple times, constantly swapping elements and checking.\n",
    "\n",
    "![Bubble Sort](https://upload.wikimedia.org/wikipedia/commons/c/c8/Bubble-sort-example-300px.gif)\n",
    "shown above is a rudimentary example of the steps that bubble sort takes to sort an array."
   ]
  },
  {
   "cell_type": "code",
   "execution_count": 2,
   "metadata": {
    "vscode": {
     "languageId": "java"
    }
   },
   "outputs": [],
   "source": [
    "\n",
    "class BubbleSorter<T extends Comparable> extends Sorter<T> {\n",
    "  public BubbleSorter() {\n",
    "      super(\"Bubble Sort\");\n",
    "  }\n",
    "  \n",
    "  public List<T> sort (List<T> list) {\n",
    "      boolean swapped = true;\n",
    "      while (swapped) {\n",
    "          swapped = false;\n",
    "          for (int i = 0; i<list.size()-1; i++) {\n",
    "              if (list.get(i).compareTo(list.get(i+1)) > 0) {\n",
    "                  T temp = list.get(i+1);\n",
    "                  list.set(i+1, list.get(i));\n",
    "                  list.set(i, temp);\n",
    "                  swapped = true;\n",
    "              }\n",
    "          }\n",
    "          System.out.println(\"Intermediate: \" + list);\n",
    "      }\n",
    "      return list;\n",
    "  }\n",
    "}"
   ]
  },
  {
   "attachments": {},
   "cell_type": "markdown",
   "metadata": {},
   "source": [
    "# Selection Sort\n",
    "\n",
    "Selection sort is a simple sorting algorithm that works by repeatedly finding the minimum element from an unsorted part of an array and swapping it with the first element of the unsorted part. This process is repeated until the entire array is sorted.\n",
    "\n",
    "\n",
    "Here are the steps to perform a selection sort on an array of n elements:\n",
    "\n",
    "- Set the first element as the minimum.\n",
    "- Iterate through the remaining elements and compare each element with the current minimum.\n",
    "- If a smaller element is found, set it as the new minimum.\n",
    "- Once the end of the array is reached, swap the current minimum with the first element of the unsorted part.\n",
    "- Increment the starting index of the unsorted part and repeat the above steps until the entire array is sorted.\n",
    "\n",
    "Time complexity: O(n^2) (worst case)\n",
    "\n",
    "![Selection Sort](https://upload.wikimedia.org/wikipedia/commons/9/94/Selection-Sort-Animation.gif)"
   ]
  },
  {
   "cell_type": "code",
   "execution_count": 3,
   "metadata": {
    "vscode": {
     "languageId": "java"
    }
   },
   "outputs": [],
   "source": [
    "class SelectionSorter<T extends Comparable> extends Sorter<T> {\n",
    "  public SelectionSorter() {\n",
    "      super(\"Selection Sort\");\n",
    "  }\n",
    "  \n",
    "  public List<T> sort (List<T> list) {\n",
    "      for (int i = 0; i<list.size()-1; i++) {\n",
    "          int lowest_ind = i;\n",
    "          T lowest_val = list.get(i);\n",
    "          for (int j = i+1; j<list.size(); j++) {\n",
    "              if (lowest_val.compareTo(list.get(j)) > 0) {\n",
    "                  lowest_ind = j;\n",
    "                  lowest_val = list.get(j);\n",
    "              }\n",
    "          }\n",
    "          \n",
    "          T temp = list.get(lowest_ind);\n",
    "          list.set(lowest_ind, list.get(i));\n",
    "          list.set(i, temp);\n",
    "          System.out.println(\"Intermediate: \" + list);\n",
    "      }\n",
    "      return list;\n",
    "  }\n",
    "}"
   ]
  },
  {
   "attachments": {},
   "cell_type": "markdown",
   "metadata": {},
   "source": [
    "# Insertion Sort\n",
    "\n",
    "Insertion sort is a simple sorting algorithm that works by iterating through an array of elements, comparing each element to the ones that came before it, and swapping them if they are out of order. This process is repeated until the entire array is sorted. It h as two parts: the sorted part and the unsorted part. The sorted part is at the beginning of the array, and the unsorted part is at the end of the array. The algorithm iterates through the unsorted part, removing one element at a time, and inserting it into the correct position in the sorted part. To insert, the algorithm compares elements to the sorted subaray from right to left. If the element is smaller than the current, the current element is shifted right. This process is repeated until the element is larger than the current element, or the beginning of the array is reached. \n",
    "\n",
    "Time complexity: O(n^2) (worst case), but it can be better if the array is partially sorted. This makes it more efficient than selection sort and bubble sort, as those require going through the array the whole time. \n",
    "\n",
    "![Insertion Sort](https://upload.wikimedia.org/wikipedia/commons/0/0f/Insertion-sort-example-300px.gif)"
   ]
  },
  {
   "cell_type": "code",
   "execution_count": 4,
   "metadata": {
    "vscode": {
     "languageId": "java"
    }
   },
   "outputs": [],
   "source": [
    "\n",
    "class InsertionSorter<T extends Comparable> extends Sorter<T> {\n",
    "  public InsertionSorter() {\n",
    "      super(\"Insertion Sort\");\n",
    "  }\n",
    "  \n",
    "  public List<T> sort (List<T> list) {\n",
    "      for (int i = 1; i<list.size(); i++) {\n",
    "          int ind = i-1;\n",
    "          T val = list.remove(i);\n",
    "          while (ind >= 0 && list.get(ind).compareTo(val) > 0) {\n",
    "              ind--;\n",
    "          }\n",
    "          list.add(ind + 1, val);\n",
    "          System.out.println(\"Intermediate: \" + list);\n",
    "      }\n",
    "      return list;\n",
    "  }\n",
    "}"
   ]
  },
  {
   "attachments": {},
   "cell_type": "markdown",
   "metadata": {},
   "source": [
    "# Merge Sort\n",
    "\n",
    "Merge sort is a divide and conquer algorithm that works by recursively splitting the array into two halves, sorting each half, and then merging the two sorted halves. The merge step is the most important part of the algorithm, as it is where the actual sorting takes place. The merge step works by comparing the first element of each half, and placing the smaller element into the result array. This process is repeated until all the elements have been placed into the result array.\n",
    "\n",
    "Time complexity: O(nlogn) (worst case)\n",
    "\n",
    "![Merge Sort](https://upload.wikimedia.org/wikipedia/commons/c/cc/Merge-sort-example-300px.gif)"
   ]
  },
  {
   "cell_type": "code",
   "execution_count": 6,
   "metadata": {
    "vscode": {
     "languageId": "java"
    }
   },
   "outputs": [],
   "source": [
    "class MergeSorter<T extends Comparable> extends Sorter<T> {\n",
    "  public MergeSorter() {\n",
    "      super(\"Merge Sort\");\n",
    "  }\n",
    "  \n",
    "  public List<T> sort (List<T> list) {\n",
    "      return merge(list, 0, list.size()-1);\n",
    "  }\n",
    "  \n",
    "  private List<T> merge (List<T> list, int start, int end) {\n",
    "      if (start == end) {\n",
    "          List<T> l = new ArrayList<>();\n",
    "          l.add(list.get(start));\n",
    "          return l;\n",
    "      }\n",
    "      List<T> first = merge(list, start, start+(end-start)/2);\n",
    "      List<T> second = merge(list, start+(end-start)/2+1, end);\n",
    "      \n",
    "      List<T> zipped = new ArrayList<T>();\n",
    "      int index1 = 0;\n",
    "      int index2 = 0;\n",
    "      while (index1 < first.size() || index2 < second.size()) {\n",
    "          if (index1 == first.size()) {\n",
    "              zipped.add(second.get(index2));\n",
    "              index2++;\n",
    "          } else if (index2 == second.size()) {\n",
    "              zipped.add(first.get(index1));\n",
    "              index1++;\n",
    "          } else if (first.get(index1).compareTo(second.get(index2)) < 0) {\n",
    "              zipped.add(first.get(index1));\n",
    "              index1++;\n",
    "          } else {\n",
    "              zipped.add(second.get(index2));\n",
    "              index2++;\n",
    "          }\n",
    "      }\n",
    "      System.out.println(\"Intermediate: \" + zipped);\n",
    "      return zipped;\n",
    "  }\n",
    "}"
   ]
  },
  {
   "attachments": {},
   "cell_type": "markdown",
   "metadata": {},
   "source": [
    "# Tester Method for all sorters"
   ]
  },
  {
   "cell_type": "code",
   "execution_count": 7,
   "metadata": {
    "vscode": {
     "languageId": "java"
    }
   },
   "outputs": [
    {
     "name": "stdout",
     "output_type": "stream",
     "text": [
      "Insertion Sort\n",
      "Intermediate: [1, 10, 3, 2, 5]\n",
      "Intermediate: [1, 3, 10, 2, 5]\n",
      "Intermediate: [1, 2, 3, 10, 5]\n",
      "Intermediate: [1, 2, 3, 5, 10]\n",
      "[1, 2, 3, 5, 10]\n",
      "Bubble Sort\n",
      "Intermediate: [1, 3, 2, 5, 10]\n",
      "Intermediate: [1, 2, 3, 5, 10]\n",
      "Intermediate: [1, 2, 3, 5, 10]\n",
      "[1, 2, 3, 5, 10]\n",
      "Selection Sort\n",
      "Intermediate: [1, 10, 3, 2, 5]\n",
      "Intermediate: [1, 2, 3, 10, 5]\n",
      "Intermediate: [1, 2, 3, 10, 5]\n",
      "Intermediate: [1, 2, 3, 5, 10]\n",
      "[1, 2, 3, 5, 10]\n",
      "Merge Sort\n",
      "Intermediate: [1, 10]\n",
      "Intermediate: [1, 3, 10]\n",
      "Intermediate: [2, 5]\n",
      "Intermediate: [1, 2, 3, 5, 10]\n",
      "[1, 2, 3, 5, 10]\n"
     ]
    }
   ],
   "source": [
    "\n",
    "public class SortTester {\n",
    "  public static void main (String[] args) {\n",
    "      List<Sorter<Integer>> sorters = new ArrayList<Sorter<Integer>>();\n",
    "      sorters.add(new InsertionSorter<>());\n",
    "      sorters.add(new BubbleSorter<>());\n",
    "      sorters.add(new SelectionSorter<>());\n",
    "      sorters.add(new MergeSorter<>());\n",
    "      \n",
    "      for (Sorter i : sorters) {\n",
    "          List<Integer> list = new ArrayList<>();\n",
    "          list.add(10);\n",
    "          list.add(1);\n",
    "          list.add(3);\n",
    "          list.add(2);\n",
    "          list.add(5);\n",
    "          System.out.println(i.getName());\n",
    "          System.out.println(i.sort(list));\n",
    "      } \n",
    "  }\n",
    "}\n",
    "\n",
    "SortTester.main(null);"
   ]
  }
 ],
 "metadata": {
  "kernelspec": {
   "display_name": "Java",
   "language": "java",
   "name": "java"
  },
  "language_info": {
   "codemirror_mode": "java",
   "file_extension": ".jshell",
   "mimetype": "text/x-java-source",
   "name": "Java",
   "pygments_lexer": "java",
   "version": "17-ea+11-Ubuntu-116.042"
  },
  "orig_nbformat": 4
 },
 "nbformat": 4,
 "nbformat_minor": 2
}
